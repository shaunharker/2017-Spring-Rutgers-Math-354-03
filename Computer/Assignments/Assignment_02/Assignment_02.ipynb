{
 "cells": [
  {
   "cell_type": "markdown",
   "metadata": {},
   "source": [
    "# Math 354 Computer Assignment 2"
   ]
  },
  {
   "cell_type": "code",
   "execution_count": 1,
   "metadata": {
    "collapsed": false
   },
   "outputs": [],
   "source": [
    "from Math354 import *"
   ]
  },
  {
   "cell_type": "code",
   "execution_count": 2,
   "metadata": {
    "collapsed": true
   },
   "outputs": [],
   "source": [
    "StudentName = \"Last, First\"  # Replace this with your own name"
   ]
  },
  {
   "cell_type": "markdown",
   "metadata": {},
   "source": [
    "# Section 4.2. Cutting Plane Method"
   ]
  },
  {
   "cell_type": "markdown",
   "metadata": {},
   "source": [
    "## Worked Example: Exercise 4.2.3 using Cutting Plane Method\n",
    "\n",
    "Maximize $x + y$ subject to\n",
    "$$\n",
    "2x + 3y \\leq 12 \\\\\n",
    "2x + y \\leq 6 \\\\\n",
    "x \\geq 0, y \\geq 0 \\\\\n",
    "x,y \\text{ integers.}\n",
    "$$"
   ]
  },
  {
   "cell_type": "code",
   "execution_count": 3,
   "metadata": {
    "collapsed": false
   },
   "outputs": [],
   "source": [
    "A = Matrix([[2,3],\n",
    "            [2,1]])\n",
    "b = Matrix([[12],\n",
    "            [6]])\n",
    "c = Matrix([[1],\n",
    "            [1]])\n",
    "LP = StandardForm(A,b,c)"
   ]
  },
  {
   "cell_type": "code",
   "execution_count": 4,
   "metadata": {
    "collapsed": false
   },
   "outputs": [
    {
     "data": {
      "text/markdown": [
       "Maximize $c^T x$ subject to $A_I x \\leq b_I$, $A_J x = b_J$, $x_K \\geq 0$, $x_L$ unrestricted, where\n",
       "\n",
       "$$(A,b,c,I,J,K,L) = \\left(\\left[\\begin{matrix}2 & 3\\\\2 & 1\\end{matrix}\\right], \\left[\\begin{matrix}12\\\\6\\end{matrix}\\right], \\left[\\begin{matrix}1\\\\1\\end{matrix}\\right], [0, 1], [], [0, 1], []\\right)$$"
      ],
      "text/plain": [
       "Maximize $c^T x$ subject to $A_I x \\leq b_I$, $A_J x = b_J$, $x_K \\geq 0$, $x_L$ unrestricted, where\n",
       "\n",
       "$$(A,b,c,I,J,K,L) = \\left(\\left[\\begin{matrix}2 & 3\\\\2 & 1\\end{matrix}\\right], \\left[\\begin{matrix}12\\\\6\\end{matrix}\\right], \\left[\\begin{matrix}1\\\\1\\end{matrix}\\right], [0, 1], [], [0, 1], []\\right)$$"
      ]
     },
     "execution_count": 4,
     "metadata": {},
     "output_type": "execute_result"
    }
   ],
   "source": [
    "LP"
   ]
  },
  {
   "cell_type": "code",
   "execution_count": 5,
   "metadata": {
    "collapsed": true
   },
   "outputs": [],
   "source": [
    "CanonicalLP = ConvertToCanonicalForm(LP)"
   ]
  },
  {
   "cell_type": "code",
   "execution_count": 6,
   "metadata": {
    "collapsed": false
   },
   "outputs": [
    {
     "name": "stdout",
     "output_type": "stream",
     "text": [
      "Automatically detected initial basic feasible solution with basic variables [2, 3]\n"
     ]
    },
    {
     "data": {
      "text/markdown": [
       "|| $x_0$| $x_1$| $x_2$| $x_3$ | |\n",
       "| ---- | ----| ----| ----| ----| ---- |\n",
       "| $x_2$ |$2$ | $3$ | $1$ | $0$ | $12$ |\n",
       "| $x_3$ |$2$ | $1$ | $0$ | $1$ | $6$ |\n",
       "|  | $-1$ | $-1$ | $0$ | $0$ | $0$|\n"
      ],
      "text/plain": [
       "<IPython.core.display.Markdown object>"
      ]
     },
     "metadata": {},
     "output_type": "display_data"
    },
    {
     "data": {
      "text/markdown": [
       "Choosing entering variable to be $x_0$"
      ],
      "text/plain": [
       "<IPython.core.display.Markdown object>"
      ]
     },
     "metadata": {},
     "output_type": "display_data"
    },
    {
     "data": {
      "text/markdown": [
       "Choosing departing variable to be $x_3$"
      ],
      "text/plain": [
       "<IPython.core.display.Markdown object>"
      ]
     },
     "metadata": {},
     "output_type": "display_data"
    },
    {
     "data": {
      "text/markdown": [
       "|| $x_0$| $x_1$| $x_2$| $x_3$ | |\n",
       "| ---- | ----| ----| ----| ----| ---- |\n",
       "| $x_2$ |$0$ | $2$ | $1$ | $-1$ | $6$ |\n",
       "| $x_0$ |$1$ | $1/2$ | $0$ | $1/2$ | $3$ |\n",
       "|  | $0$ | $-1/2$ | $0$ | $1/2$ | $3$|\n"
      ],
      "text/plain": [
       "<IPython.core.display.Markdown object>"
      ]
     },
     "metadata": {},
     "output_type": "display_data"
    },
    {
     "data": {
      "text/markdown": [
       "Choosing entering variable to be $x_1$"
      ],
      "text/plain": [
       "<IPython.core.display.Markdown object>"
      ]
     },
     "metadata": {},
     "output_type": "display_data"
    },
    {
     "data": {
      "text/markdown": [
       "Choosing departing variable to be $x_2$"
      ],
      "text/plain": [
       "<IPython.core.display.Markdown object>"
      ]
     },
     "metadata": {},
     "output_type": "display_data"
    },
    {
     "data": {
      "text/markdown": [
       "Final tableau:"
      ],
      "text/plain": [
       "<IPython.core.display.Markdown object>"
      ]
     },
     "metadata": {},
     "output_type": "display_data"
    },
    {
     "data": {
      "text/markdown": [
       "|| $x_0$| $x_1$| $x_2$| $x_3$ | |\n",
       "| ---- | ----| ----| ----| ----| ---- |\n",
       "| $x_1$ |$0$ | $1$ | $1/2$ | $-1/2$ | $3$ |\n",
       "| $x_0$ |$1$ | $0$ | $-1/4$ | $3/4$ | $3/2$ |\n",
       "|  | $0$ | $0$ | $1/4$ | $1/4$ | $9/2$|\n"
      ],
      "text/plain": [
       "<IPython.core.display.Markdown object>"
      ]
     },
     "metadata": {},
     "output_type": "display_data"
    }
   ],
   "source": [
    "(x,w) = SimplexMethod(CanonicalLP)"
   ]
  },
  {
   "cell_type": "markdown",
   "metadata": {},
   "source": [
    "Given the final tableau, we see the largest fractional part is $1/2$ (the fractional part of $3/2$ in the second row. The cutting plane method says we should create a new constraint (adding a slack variable $s$) by applying the floor function (round everything down) of the second row, which gives us:\n",
    "\n",
    "$$ x_0 - x_2 + s = 1 $$\n",
    "\n",
    "Since $x_0$ is a basic variable the new row in the tableau needs to have a $0$ in the $x_0$ column, so we need to pivot to rewrite this equation. This is acheived by subtracting the original second row from our new constraint:\n",
    "\n",
    "$$ \\begin{bmatrix} 1 & 0 & -1 & 0 & 1 & 1 \\end{bmatrix} - \\begin{bmatrix} 1 & 0 & -1/4 & 3/4 & 0 & 3/2 \\end{bmatrix} = \\begin{bmatrix} 0 & 0 & -3/4 & -3/4 & 1 & -1/2 \\end{bmatrix} $$\n",
    "\n",
    "We recall from the paper-and-pencil method that we can add this new row to the tableau, making a other entires in the new slack variable column zero for the slack variable. The new slack variable will be a new basic variable which is written on the left of the tableau. One can then proceed with the dual simplex method to restore feasibility.\n",
    "\n",
    "We do this programmatically:"
   ]
  },
  {
   "cell_type": "code",
   "execution_count": 7,
   "metadata": {
    "collapsed": false
   },
   "outputs": [
    {
     "data": {
      "text/markdown": [
       "Maximize $c^T x$ subject to $A_I x \\leq b_I$, $A_J x = b_J$, $x_K \\geq 0$, $x_L$ unrestricted, where\n",
       "\n",
       "$$(A,b,c,I,J,K,L) = \\left(\\left[\\begin{matrix}2 & 3 & 1 & 0 & 0\\\\2 & 1 & 0 & 1 & 0\\end{matrix}\\right], \\left[\\begin{matrix}12\\\\6\\end{matrix}\\right], \\left[\\begin{matrix}1\\\\1\\\\0\\\\0\\\\0\\end{matrix}\\right], [], [0, 1], [0, 1, 2, 3, 4], []\\right)$$"
      ],
      "text/plain": [
       "Maximize $c^T x$ subject to $A_I x \\leq b_I$, $A_J x = b_J$, $x_K \\geq 0$, $x_L$ unrestricted, where\n",
       "\n",
       "$$(A,b,c,I,J,K,L) = \\left(\\left[\\begin{matrix}2 & 3 & 1 & 0 & 0\\\\2 & 1 & 0 & 1 & 0\\end{matrix}\\right], \\left[\\begin{matrix}12\\\\6\\end{matrix}\\right], \\left[\\begin{matrix}1\\\\1\\\\0\\\\0\\\\0\\end{matrix}\\right], [], [0, 1], [0, 1, 2, 3, 4], []\\right)$$"
      ]
     },
     "execution_count": 7,
     "metadata": {},
     "output_type": "execute_result"
    }
   ],
   "source": [
    "# First, we add a new nonnegative variable (the slack variable for the new constraint)\n",
    "NewLP1 = AddNonnegativeVariable(CanonicalLP)\n",
    "NewLP1"
   ]
  },
  {
   "cell_type": "code",
   "execution_count": 8,
   "metadata": {
    "collapsed": false
   },
   "outputs": [
    {
     "data": {
      "text/markdown": [
       "Maximize $c^T x$ subject to $A_I x \\leq b_I$, $A_J x = b_J$, $x_K \\geq 0$, $x_L$ unrestricted, where\n",
       "\n",
       "$$(A,b,c,I,J,K,L) = \\left(\\left[\\begin{matrix}2 & 3 & 1 & 0 & 0\\\\2 & 1 & 0 & 1 & 0\\\\0 & 0 & - \\frac{3}{4} & - \\frac{3}{4} & 1\\end{matrix}\\right], \\left[\\begin{matrix}12\\\\6\\\\- \\frac{1}{2}\\end{matrix}\\right], \\left[\\begin{matrix}1\\\\1\\\\0\\\\0\\\\0\\end{matrix}\\right], [], [0, 1, 2], [0, 1, 2, 3, 4], []\\right)$$"
      ],
      "text/plain": [
       "Maximize $c^T x$ subject to $A_I x \\leq b_I$, $A_J x = b_J$, $x_K \\geq 0$, $x_L$ unrestricted, where\n",
       "\n",
       "$$(A,b,c,I,J,K,L) = \\left(\\left[\\begin{matrix}2 & 3 & 1 & 0 & 0\\\\2 & 1 & 0 & 1 & 0\\\\0 & 0 & - \\frac{3}{4} & - \\frac{3}{4} & 1\\end{matrix}\\right], \\left[\\begin{matrix}12\\\\6\\\\- \\frac{1}{2}\\end{matrix}\\right], \\left[\\begin{matrix}1\\\\1\\\\0\\\\0\\\\0\\end{matrix}\\right], [], [0, 1, 2], [0, 1, 2, 3, 4], []\\right)$$"
      ]
     },
     "execution_count": 8,
     "metadata": {},
     "output_type": "execute_result"
    }
   ],
   "source": [
    "# Now we add the new constraint:\n",
    "# We have to be careful. Python will evaluate 3/4 as being -1.\n",
    "# To solve this, we have to explicitly tell it to deal with it as a symbolic fraction.\n",
    "# We do this by typing \"Rational(3)/Rational(4)\n",
    "NewConstraintA = Matrix([[0,0,-Rational(3)/Rational(4), -Rational(3)/Rational(4), 1]])\n",
    "NewConstraintb = Matrix([[-Rational(1)/Rational(2)]])\n",
    "NewLP2 = AddEqualityConstraint(NewLP1, NewConstraintA, NewConstraintb)\n",
    "NewLP2"
   ]
  },
  {
   "cell_type": "markdown",
   "metadata": {},
   "source": [
    "Now we use dual simplex method starting from the initial choice of basic variables we get by appending the new slack variable $x_4$ (the variables are automatically named $x_0, x_1, x_2, x_3, x_4$) to the choice of basic  variables indicated in the final tableau above:"
   ]
  },
  {
   "cell_type": "code",
   "execution_count": 9,
   "metadata": {
    "collapsed": true
   },
   "outputs": [],
   "source": [
    "ChoiceOfBasicVariables = [1,0,4]"
   ]
  },
  {
   "cell_type": "code",
   "execution_count": 10,
   "metadata": {
    "collapsed": false
   },
   "outputs": [
    {
     "name": "stdout",
     "output_type": "stream",
     "text": [
      "Using user-supplied initial basic dual feasible solution with basic variables [1, 0, 4]\n"
     ]
    },
    {
     "data": {
      "text/markdown": [
       "|| $x_0$| $x_1$| $x_2$| $x_3$| $x_4$ | |\n",
       "| ---- | ----| ----| ----| ----| ----| ---- |\n",
       "| $x_1$ |$0$ | $1$ | $1/2$ | $-1/2$ | $0$ | $3$ |\n",
       "| $x_0$ |$1$ | $0$ | $-1/4$ | $3/4$ | $0$ | $3/2$ |\n",
       "| $x_4$ |$0$ | $0$ | $-3/4$ | $-3/4$ | $1$ | $-1/2$ |\n",
       "|  | $0$ | $0$ | $1/4$ | $1/4$ | $0$ | $9/2$|\n"
      ],
      "text/plain": [
       "<IPython.core.display.Markdown object>"
      ]
     },
     "metadata": {},
     "output_type": "display_data"
    },
    {
     "data": {
      "text/markdown": [
       "Choosing departing variable to be $x_4$"
      ],
      "text/plain": [
       "<IPython.core.display.Markdown object>"
      ]
     },
     "metadata": {},
     "output_type": "display_data"
    },
    {
     "data": {
      "text/markdown": [
       "Choosing entering variable to be $x_2$"
      ],
      "text/plain": [
       "<IPython.core.display.Markdown object>"
      ]
     },
     "metadata": {},
     "output_type": "display_data"
    },
    {
     "data": {
      "text/markdown": [
       "Final tableau:"
      ],
      "text/plain": [
       "<IPython.core.display.Markdown object>"
      ]
     },
     "metadata": {},
     "output_type": "display_data"
    },
    {
     "data": {
      "text/markdown": [
       "|| $x_0$| $x_1$| $x_2$| $x_3$| $x_4$ | |\n",
       "| ---- | ----| ----| ----| ----| ----| ---- |\n",
       "| $x_1$ |$0$ | $1$ | $0$ | $-1$ | $2/3$ | $8/3$ |\n",
       "| $x_0$ |$1$ | $0$ | $0$ | $1$ | $-1/3$ | $5/3$ |\n",
       "| $x_2$ |$0$ | $0$ | $1$ | $1$ | $-4/3$ | $2/3$ |\n",
       "|  | $0$ | $0$ | $0$ | $0$ | $1/3$ | $13/3$|\n"
      ],
      "text/plain": [
       "<IPython.core.display.Markdown object>"
      ]
     },
     "metadata": {},
     "output_type": "display_data"
    }
   ],
   "source": [
    "(x,w) = DualSimplexMethod(NewLP2, [1,0,4])"
   ]
  },
  {
   "cell_type": "markdown",
   "metadata": {},
   "source": [
    "We see that this has found a feasible point (so we cannot conclude infeasible) but we have not found an integral solution. The things we need to take note of in the final tableau are\n",
    "\n",
    "* the choice of basic variables (since this will be the start of the dual simplex method)\n",
    "* the row with the largest fractional part on the right hand side\n",
    "\n",
    "Given this we can repeat the cutting plane procedure again:\n",
    "\n",
    "* Add a new slack variable\n",
    "* Add a new constraint by taking the floor of the column corresponding to the row with the largest fractional part on the right hand side (i.e. introduce the new cutting plane constraint)\n",
    "\n",
    "We'll do this step slightly differently (just to show we can). We can get away with adding a new constraint that is just the floor of the row with the largest fractional part on the right hand side. This is an equivalent constraint to the one where we also subtract out the original row. The subtracting out of the original row will automatically be done by the code when it makes a valid tableau and needs to do pivot operations to make sure basic variable columns only have a single $1$ in them.\n",
    "\n",
    "All rows have a fractional part of $2/3$ so we just pick any of them. Let's pick the first row."
   ]
  },
  {
   "cell_type": "code",
   "execution_count": 11,
   "metadata": {
    "collapsed": false
   },
   "outputs": [
    {
     "name": "stdout",
     "output_type": "stream",
     "text": [
      "Using user-supplied initial basic dual feasible solution with basic variables [1, 0, 2, 5]\n"
     ]
    },
    {
     "data": {
      "text/markdown": [
       "|| $x_0$| $x_1$| $x_2$| $x_3$| $x_4$| $x_5$ | |\n",
       "| ---- | ----| ----| ----| ----| ----| ----| ---- |\n",
       "| $x_1$ |$0$ | $1$ | $0$ | $-1$ | $2/3$ | $0$ | $8/3$ |\n",
       "| $x_0$ |$1$ | $0$ | $0$ | $1$ | $-1/3$ | $0$ | $5/3$ |\n",
       "| $x_2$ |$0$ | $0$ | $1$ | $1$ | $-4/3$ | $0$ | $2/3$ |\n",
       "| $x_5$ |$0$ | $0$ | $0$ | $0$ | $-2/3$ | $1$ | $-2/3$ |\n",
       "|  | $0$ | $0$ | $0$ | $0$ | $1/3$ | $0$ | $13/3$|\n"
      ],
      "text/plain": [
       "<IPython.core.display.Markdown object>"
      ]
     },
     "metadata": {},
     "output_type": "display_data"
    },
    {
     "data": {
      "text/markdown": [
       "Choosing departing variable to be $x_5$"
      ],
      "text/plain": [
       "<IPython.core.display.Markdown object>"
      ]
     },
     "metadata": {},
     "output_type": "display_data"
    },
    {
     "data": {
      "text/markdown": [
       "Choosing entering variable to be $x_4$"
      ],
      "text/plain": [
       "<IPython.core.display.Markdown object>"
      ]
     },
     "metadata": {},
     "output_type": "display_data"
    },
    {
     "data": {
      "text/markdown": [
       "Final tableau:"
      ],
      "text/plain": [
       "<IPython.core.display.Markdown object>"
      ]
     },
     "metadata": {},
     "output_type": "display_data"
    },
    {
     "data": {
      "text/markdown": [
       "|| $x_0$| $x_1$| $x_2$| $x_3$| $x_4$| $x_5$ | |\n",
       "| ---- | ----| ----| ----| ----| ----| ----| ---- |\n",
       "| $x_1$ |$0$ | $1$ | $0$ | $-1$ | $0$ | $1$ | $2$ |\n",
       "| $x_0$ |$1$ | $0$ | $0$ | $1$ | $0$ | $-1/2$ | $2$ |\n",
       "| $x_2$ |$0$ | $0$ | $1$ | $1$ | $0$ | $-2$ | $2$ |\n",
       "| $x_4$ |$0$ | $0$ | $0$ | $0$ | $1$ | $-3/2$ | $1$ |\n",
       "|  | $0$ | $0$ | $0$ | $0$ | $0$ | $1/2$ | $4$|\n"
      ],
      "text/plain": [
       "<IPython.core.display.Markdown object>"
      ]
     },
     "metadata": {},
     "output_type": "display_data"
    }
   ],
   "source": [
    "NewLP3 = AddEqualityConstraint(AddNonnegativeVariable(NewLP2), Matrix([[0,1,0,-1,0,1]]), Matrix([[2]]))\n",
    "(x,w) = DualSimplexMethod(NewLP3, [1,0,2,5])"
   ]
  },
  {
   "cell_type": "markdown",
   "metadata": {},
   "source": [
    "Inspecting this final tableau, we see we have non-negative entries on the RHS, so it has found a feasible point.\n",
    "Moreover, we see that $x_0$ and $x_1$ are integral, so we have found an integral optimizer. Thus, we are done, we just need to report the answer. Since the original problem was just in two variables, lets write the answer as a 2-vector:"
   ]
  },
  {
   "cell_type": "code",
   "execution_count": 12,
   "metadata": {
    "collapsed": false
   },
   "outputs": [],
   "source": [
    "SolutionToExercise_4_2_4 = Matrix([[2],\n",
    "                                   [2]])"
   ]
  },
  {
   "cell_type": "markdown",
   "metadata": {},
   "source": [
    "# ==== ASSIGNMENT PROBLEM 1 ====\n",
    "\n",
    "## Exercise 4.2.4 using Cutting Plane Method\n",
    "\n",
    "Repeat the above manipulations for the following problem:\n",
    "\n",
    "Maximize $x + 4y$ subject to\n",
    "$$\n",
    "x + 6y \\leq 36 \\\\\n",
    "3x + 8y \\leq 60 \\\\\n",
    "x \\geq 0, y \\geq 0 \\\\\n",
    "x,y \\text{ integers.}\n",
    "$$"
   ]
  },
  {
   "cell_type": "code",
   "execution_count": 13,
   "metadata": {
    "collapsed": true
   },
   "outputs": [],
   "source": [
    "# ... do stuff here ..."
   ]
  },
  {
   "cell_type": "code",
   "execution_count": 14,
   "metadata": {
    "collapsed": false
   },
   "outputs": [],
   "source": [
    "## Fill in correct result based on above computation\n",
    "Problem1Answer = Matrix([[0],\n",
    "                         [0]])"
   ]
  },
  {
   "cell_type": "markdown",
   "metadata": {},
   "source": [
    "# =============================="
   ]
  },
  {
   "cell_type": "markdown",
   "metadata": {},
   "source": [
    "# Automating The Cutting Plane Method\n",
    "\n",
    "It may occur to you that it is silly to have to figure out intermediate steps by hand, and we could just write a function to automate this procedure. To do this, we need to be able to access the information we needed from the final tableau in a programmatic manner.\n",
    "\n",
    "To this end we can use an argument option in the `SimplexMethod` and `DualSimplexMethod` method to make it return the final tableau instead of the `(solution, dual_solution)` pair. The tableau can then be queried so we can \n",
    "\n",
    "* Find the right-hand-side with largest fractional part\n",
    "* Copy out the corresponding row\n",
    "* Obtain the choice of basic variables\n",
    "\n",
    "Given this, we can make an algorithm which repeatedly applies the cutting plane step until we either find the linear program has become infeasible or else we have found an integral solution.\n",
    "\n",
    "For now, we will satisfy ourselves with making a routine which will work when the original linear program is in standard form $Ax \\leq b$, $x \\geq 0$ with $b \\geq 0$. In `Math354.py` there is routine which can handle this case called `CuttingPlaneMethod`. Those interested should review it and verify it works according to the ideas above.\n"
   ]
  },
  {
   "cell_type": "code",
   "execution_count": 15,
   "metadata": {
    "collapsed": false
   },
   "outputs": [
    {
     "name": "stdout",
     "output_type": "stream",
     "text": [
      "Our goal is to find an integral solution to the following linear program:\n"
     ]
    },
    {
     "data": {
      "text/markdown": [
       "Maximize $c^T x$ subject to $A_I x \\leq b_I$, $A_J x = b_J$, $x_K \\geq 0$, $x_L$ unrestricted, where\n",
       "\n",
       "$$(A,b,c,I,J,K,L) = \\left(\\left[\\begin{matrix}2 & 3\\\\2 & 1\\end{matrix}\\right], \\left[\\begin{matrix}12\\\\6\\end{matrix}\\right], \\left[\\begin{matrix}1\\\\1\\end{matrix}\\right], [0, 1], [], [0, 1], []\\right)$$"
      ],
      "text/plain": [
       "<IPython.core.display.Markdown object>"
      ]
     },
     "metadata": {},
     "output_type": "display_data"
    },
    {
     "name": "stdout",
     "output_type": "stream",
     "text": [
      "Converting this linear program to canonical form gives us:\n"
     ]
    },
    {
     "data": {
      "text/markdown": [
       "Maximize $c^T x$ subject to $A_I x \\leq b_I$, $A_J x = b_J$, $x_K \\geq 0$, $x_L$ unrestricted, where\n",
       "\n",
       "$$(A,b,c,I,J,K,L) = \\left(\\left[\\begin{matrix}2 & 3 & 1 & 0\\\\2 & 1 & 0 & 1\\end{matrix}\\right], \\left[\\begin{matrix}12\\\\6\\end{matrix}\\right], \\left[\\begin{matrix}1\\\\1\\\\0\\\\0\\end{matrix}\\right], [], [0, 1], [0, 1, 2, 3], []\\right)$$"
      ],
      "text/plain": [
       "<IPython.core.display.Markdown object>"
      ]
     },
     "metadata": {},
     "output_type": "display_data"
    },
    {
     "name": "stdout",
     "output_type": "stream",
     "text": [
      "Now we find an optimizer using the simplex method.\n",
      "Automatically detected initial basic feasible solution with basic variables [2, 3]\n"
     ]
    },
    {
     "data": {
      "text/markdown": [
       "|| $x_0$| $x_1$| $x_2$| $x_3$ | |\n",
       "| ---- | ----| ----| ----| ----| ---- |\n",
       "| $x_2$ |$2$ | $3$ | $1$ | $0$ | $12$ |\n",
       "| $x_3$ |$2$ | $1$ | $0$ | $1$ | $6$ |\n",
       "|  | $-1$ | $-1$ | $0$ | $0$ | $0$|\n"
      ],
      "text/plain": [
       "<IPython.core.display.Markdown object>"
      ]
     },
     "metadata": {},
     "output_type": "display_data"
    },
    {
     "data": {
      "text/markdown": [
       "Choosing entering variable to be $x_0$"
      ],
      "text/plain": [
       "<IPython.core.display.Markdown object>"
      ]
     },
     "metadata": {},
     "output_type": "display_data"
    },
    {
     "data": {
      "text/markdown": [
       "Choosing departing variable to be $x_3$"
      ],
      "text/plain": [
       "<IPython.core.display.Markdown object>"
      ]
     },
     "metadata": {},
     "output_type": "display_data"
    },
    {
     "data": {
      "text/markdown": [
       "|| $x_0$| $x_1$| $x_2$| $x_3$ | |\n",
       "| ---- | ----| ----| ----| ----| ---- |\n",
       "| $x_2$ |$0$ | $2$ | $1$ | $-1$ | $6$ |\n",
       "| $x_0$ |$1$ | $1/2$ | $0$ | $1/2$ | $3$ |\n",
       "|  | $0$ | $-1/2$ | $0$ | $1/2$ | $3$|\n"
      ],
      "text/plain": [
       "<IPython.core.display.Markdown object>"
      ]
     },
     "metadata": {},
     "output_type": "display_data"
    },
    {
     "data": {
      "text/markdown": [
       "Choosing entering variable to be $x_1$"
      ],
      "text/plain": [
       "<IPython.core.display.Markdown object>"
      ]
     },
     "metadata": {},
     "output_type": "display_data"
    },
    {
     "data": {
      "text/markdown": [
       "Choosing departing variable to be $x_2$"
      ],
      "text/plain": [
       "<IPython.core.display.Markdown object>"
      ]
     },
     "metadata": {},
     "output_type": "display_data"
    },
    {
     "data": {
      "text/markdown": [
       "Final tableau:"
      ],
      "text/plain": [
       "<IPython.core.display.Markdown object>"
      ]
     },
     "metadata": {},
     "output_type": "display_data"
    },
    {
     "data": {
      "text/markdown": [
       "|| $x_0$| $x_1$| $x_2$| $x_3$ | |\n",
       "| ---- | ----| ----| ----| ----| ---- |\n",
       "| $x_1$ |$0$ | $1$ | $1/2$ | $-1/2$ | $3$ |\n",
       "| $x_0$ |$1$ | $0$ | $-1/4$ | $3/4$ | $3/2$ |\n",
       "|  | $0$ | $0$ | $1/4$ | $1/4$ | $9/2$|\n"
      ],
      "text/plain": [
       "<IPython.core.display.Markdown object>"
      ]
     },
     "metadata": {},
     "output_type": "display_data"
    },
    {
     "name": "stdout",
     "output_type": "stream",
     "text": [
      "The current solution is [3/2, 3, 0, 0]^T which is not integral.\n",
      "Hence we introduce another cutting plane and use the dual simplex method to restore feasibility.\n",
      "The fractional parts are [0, 1/2]\n",
      "A right-hand-side entry with a maximal fractional part is 3/2 on row 1 (remember row numbering starts at 0 here)\n",
      "We add the slack variable x_4 and the following cutting plane constraint:\n",
      "[1, 0, -1, 0, 1]x = 1\n",
      "Now we apply the dual simplex method to restore feasibility.\n",
      "Using user-supplied initial basic dual feasible solution with basic variables [1, 0, 4]\n"
     ]
    },
    {
     "data": {
      "text/markdown": [
       "|| $x_0$| $x_1$| $x_2$| $x_3$| $x_4$ | |\n",
       "| ---- | ----| ----| ----| ----| ----| ---- |\n",
       "| $x_1$ |$0$ | $1$ | $1/2$ | $-1/2$ | $0$ | $3$ |\n",
       "| $x_0$ |$1$ | $0$ | $-1/4$ | $3/4$ | $0$ | $3/2$ |\n",
       "| $x_4$ |$0$ | $0$ | $-3/4$ | $-3/4$ | $1$ | $-1/2$ |\n",
       "|  | $0$ | $0$ | $1/4$ | $1/4$ | $0$ | $9/2$|\n"
      ],
      "text/plain": [
       "<IPython.core.display.Markdown object>"
      ]
     },
     "metadata": {},
     "output_type": "display_data"
    },
    {
     "data": {
      "text/markdown": [
       "Choosing departing variable to be $x_4$"
      ],
      "text/plain": [
       "<IPython.core.display.Markdown object>"
      ]
     },
     "metadata": {},
     "output_type": "display_data"
    },
    {
     "data": {
      "text/markdown": [
       "Choosing entering variable to be $x_2$"
      ],
      "text/plain": [
       "<IPython.core.display.Markdown object>"
      ]
     },
     "metadata": {},
     "output_type": "display_data"
    },
    {
     "data": {
      "text/markdown": [
       "Final tableau:"
      ],
      "text/plain": [
       "<IPython.core.display.Markdown object>"
      ]
     },
     "metadata": {},
     "output_type": "display_data"
    },
    {
     "data": {
      "text/markdown": [
       "|| $x_0$| $x_1$| $x_2$| $x_3$| $x_4$ | |\n",
       "| ---- | ----| ----| ----| ----| ----| ---- |\n",
       "| $x_1$ |$0$ | $1$ | $0$ | $-1$ | $2/3$ | $8/3$ |\n",
       "| $x_0$ |$1$ | $0$ | $0$ | $1$ | $-1/3$ | $5/3$ |\n",
       "| $x_2$ |$0$ | $0$ | $1$ | $1$ | $-4/3$ | $2/3$ |\n",
       "|  | $0$ | $0$ | $0$ | $0$ | $1/3$ | $13/3$|\n"
      ],
      "text/plain": [
       "<IPython.core.display.Markdown object>"
      ]
     },
     "metadata": {},
     "output_type": "display_data"
    },
    {
     "name": "stdout",
     "output_type": "stream",
     "text": [
      "The current solution is [5/3, 8/3, 2/3, 0, 0]^T which is not integral.\n",
      "Hence we introduce another cutting plane and use the dual simplex method to restore feasibility.\n",
      "The fractional parts are [2/3, 2/3, 2/3]\n",
      "A right-hand-side entry with a maximal fractional part is 8/3 on row 0 (remember row numbering starts at 0 here)\n",
      "We add the slack variable x_5 and the following cutting plane constraint:\n",
      "[0, 1, 0, -1, 0, 1]x = 2\n",
      "Now we apply the dual simplex method to restore feasibility.\n",
      "Using user-supplied initial basic dual feasible solution with basic variables [1, 0, 2, 5]\n"
     ]
    },
    {
     "data": {
      "text/markdown": [
       "|| $x_0$| $x_1$| $x_2$| $x_3$| $x_4$| $x_5$ | |\n",
       "| ---- | ----| ----| ----| ----| ----| ----| ---- |\n",
       "| $x_1$ |$0$ | $1$ | $0$ | $-1$ | $2/3$ | $0$ | $8/3$ |\n",
       "| $x_0$ |$1$ | $0$ | $0$ | $1$ | $-1/3$ | $0$ | $5/3$ |\n",
       "| $x_2$ |$0$ | $0$ | $1$ | $1$ | $-4/3$ | $0$ | $2/3$ |\n",
       "| $x_5$ |$0$ | $0$ | $0$ | $0$ | $-2/3$ | $1$ | $-2/3$ |\n",
       "|  | $0$ | $0$ | $0$ | $0$ | $1/3$ | $0$ | $13/3$|\n"
      ],
      "text/plain": [
       "<IPython.core.display.Markdown object>"
      ]
     },
     "metadata": {},
     "output_type": "display_data"
    },
    {
     "data": {
      "text/markdown": [
       "Choosing departing variable to be $x_5$"
      ],
      "text/plain": [
       "<IPython.core.display.Markdown object>"
      ]
     },
     "metadata": {},
     "output_type": "display_data"
    },
    {
     "data": {
      "text/markdown": [
       "Choosing entering variable to be $x_4$"
      ],
      "text/plain": [
       "<IPython.core.display.Markdown object>"
      ]
     },
     "metadata": {},
     "output_type": "display_data"
    },
    {
     "data": {
      "text/markdown": [
       "Final tableau:"
      ],
      "text/plain": [
       "<IPython.core.display.Markdown object>"
      ]
     },
     "metadata": {},
     "output_type": "display_data"
    },
    {
     "data": {
      "text/markdown": [
       "|| $x_0$| $x_1$| $x_2$| $x_3$| $x_4$| $x_5$ | |\n",
       "| ---- | ----| ----| ----| ----| ----| ----| ---- |\n",
       "| $x_1$ |$0$ | $1$ | $0$ | $-1$ | $0$ | $1$ | $2$ |\n",
       "| $x_0$ |$1$ | $0$ | $0$ | $1$ | $0$ | $-1/2$ | $2$ |\n",
       "| $x_2$ |$0$ | $0$ | $1$ | $1$ | $0$ | $-2$ | $2$ |\n",
       "| $x_4$ |$0$ | $0$ | $0$ | $0$ | $1$ | $-3/2$ | $1$ |\n",
       "|  | $0$ | $0$ | $0$ | $0$ | $0$ | $1/2$ | $4$|\n"
      ],
      "text/plain": [
       "<IPython.core.display.Markdown object>"
      ]
     },
     "metadata": {},
     "output_type": "display_data"
    },
    {
     "name": "stdout",
     "output_type": "stream",
     "text": [
      "We have found an optimal integral solution to the original problem of x = [2, 2]^T\n"
     ]
    },
    {
     "data": {
      "text/plain": [
       "Matrix([\n",
       "[2],\n",
       "[2]])"
      ]
     },
     "execution_count": 15,
     "metadata": {},
     "output_type": "execute_result"
    }
   ],
   "source": [
    "A = Matrix([[2,3],\n",
    "            [2,1]])\n",
    "b = Matrix([[12],\n",
    "            [6]])\n",
    "c = Matrix([[1],\n",
    "            [1]])\n",
    "LP = StandardForm(A,b,c)\n",
    "CuttingPlaneMethod(LP)"
   ]
  },
  {
   "cell_type": "markdown",
   "metadata": {},
   "source": [
    "# Section 4.3. Branch and Bound Method"
   ]
  },
  {
   "cell_type": "markdown",
   "metadata": {},
   "source": [
    "## Worked Example: Exercise 4.2.3 using Branch and Bound Method\n",
    "\n",
    "Maximize $x + y$ subject to\n",
    "$$\n",
    "2x + 3y \\leq 12 \\\\\n",
    "2x + y \\leq 6 \\\\\n",
    "x \\geq 0, y \\geq 0 \\\\\n",
    "x,y \\text{ integers.}\n",
    "$$\n",
    "\n",
    "We use `BranchAndBoundMethod` to take care of this. Here is an example:"
   ]
  },
  {
   "cell_type": "code",
   "execution_count": 16,
   "metadata": {
    "collapsed": false
   },
   "outputs": [],
   "source": [
    "A = Matrix([[2,3],\n",
    "            [2,1]])\n",
    "b = Matrix([[12],\n",
    "            [6]])\n",
    "c = Matrix([[1],\n",
    "            [1]])\n",
    "LP = StandardForm(A,b,c)\n",
    "X = BranchAndBoundMethod(LP)"
   ]
  },
  {
   "cell_type": "code",
   "execution_count": 17,
   "metadata": {
    "collapsed": false
   },
   "outputs": [
    {
     "data": {
      "image/svg+xml": [
       "<?xml version=\"1.0\" encoding=\"UTF-8\" standalone=\"no\"?>\n",
       "<!DOCTYPE svg PUBLIC \"-//W3C//DTD SVG 1.1//EN\"\n",
       " \"http://www.w3.org/Graphics/SVG/1.1/DTD/svg11.dtd\">\n",
       "<!-- Generated by graphviz version 2.40.1 (20161225.0304)\n",
       " -->\n",
       "<!-- Title: %3 Pages: 1 -->\n",
       "<svg width=\"377pt\" height=\"388pt\"\n",
       " viewBox=\"0.00 0.00 376.91 388.00\" xmlns=\"http://www.w3.org/2000/svg\" xmlns:xlink=\"http://www.w3.org/1999/xlink\">\n",
       "<g id=\"graph0\" class=\"graph\" transform=\"scale(1 1) rotate(0) translate(4 384)\">\n",
       "<title>%3</title>\n",
       "<polygon fill=\"#ffffff\" stroke=\"transparent\" points=\"-4,4 -4,-384 372.911,-384 372.911,4 -4,4\"/>\n",
       "<!-- Root -->\n",
       "<g id=\"node1\" class=\"node\">\n",
       "<title>Root</title>\n",
       "<ellipse fill=\"none\" stroke=\"#000000\" cx=\"223.9711\" cy=\"-362\" rx=\"68.2593\" ry=\"18\"/>\n",
       "<text text-anchor=\"middle\" x=\"223.9711\" y=\"-357.8\" font-family=\"Times,serif\" font-size=\"14.00\" fill=\"#000000\">(Branch) z = 9/2</text>\n",
       "</g>\n",
       "<!-- RootL -->\n",
       "<g id=\"node2\" class=\"node\">\n",
       "<title>RootL</title>\n",
       "<ellipse fill=\"none\" stroke=\"#000000\" cx=\"145.9711\" cy=\"-276\" rx=\"72.6031\" ry=\"18\"/>\n",
       "<text text-anchor=\"middle\" x=\"145.9711\" y=\"-271.8\" font-family=\"Times,serif\" font-size=\"14.00\" fill=\"#000000\">(Branch) z = 13/3</text>\n",
       "</g>\n",
       "<!-- Root&#45;&gt;RootL -->\n",
       "<g id=\"edge1\" class=\"edge\">\n",
       "<title>Root&#45;&gt;RootL</title>\n",
       "<path fill=\"none\" stroke=\"#000000\" d=\"M207.8095,-344.1807C196.619,-331.8425 181.5552,-315.2337 169.0971,-301.4979\"/>\n",
       "<polygon fill=\"#000000\" stroke=\"#000000\" points=\"171.4228,-298.8523 162.1121,-293.7964 166.2377,-303.555 171.4228,-298.8523\"/>\n",
       "<text text-anchor=\"middle\" x=\"211.8667\" y=\"-314.8\" font-family=\"Times,serif\" font-size=\"14.00\" fill=\"#000000\">x_0&lt;=1</text>\n",
       "</g>\n",
       "<!-- RootR -->\n",
       "<g id=\"node9\" class=\"node\">\n",
       "<title>RootR</title>\n",
       "<ellipse fill=\"none\" stroke=\"#000000\" cx=\"302.9711\" cy=\"-276\" rx=\"65.8797\" ry=\"18\"/>\n",
       "<text text-anchor=\"middle\" x=\"302.9711\" y=\"-271.8\" font-family=\"Times,serif\" font-size=\"14.00\" fill=\"#000000\">(Solution) z = 4</text>\n",
       "</g>\n",
       "<!-- Root&#45;&gt;RootR -->\n",
       "<g id=\"edge8\" class=\"edge\">\n",
       "<title>Root&#45;&gt;RootR</title>\n",
       "<path fill=\"none\" stroke=\"#000000\" d=\"M240.34,-344.1807C251.7495,-331.7603 267.1345,-315.0121 279.8007,-301.2235\"/>\n",
       "<polygon fill=\"#000000\" stroke=\"#000000\" points=\"282.7061,-303.2344 286.8936,-293.5022 277.551,-298.4989 282.7061,-303.2344\"/>\n",
       "<text text-anchor=\"middle\" x=\"290.8667\" y=\"-314.8\" font-family=\"Times,serif\" font-size=\"14.00\" fill=\"#000000\">x_0&gt;=2</text>\n",
       "</g>\n",
       "<!-- RootLL -->\n",
       "<g id=\"node3\" class=\"node\">\n",
       "<title>RootLL</title>\n",
       "<ellipse fill=\"none\" stroke=\"#000000\" cx=\"77.9711\" cy=\"-190\" rx=\"72.6031\" ry=\"18\"/>\n",
       "<text text-anchor=\"middle\" x=\"77.9711\" y=\"-185.8\" font-family=\"Times,serif\" font-size=\"14.00\" fill=\"#000000\">(Branch) z = 13/3</text>\n",
       "</g>\n",
       "<!-- RootL&#45;&gt;RootLL -->\n",
       "<g id=\"edge2\" class=\"edge\">\n",
       "<title>RootL&#45;&gt;RootLL</title>\n",
       "<path fill=\"none\" stroke=\"#000000\" d=\"M131.8815,-258.1807C122.2169,-245.9578 109.2383,-229.5438 98.4374,-215.8837\"/>\n",
       "<polygon fill=\"#000000\" stroke=\"#000000\" points=\"100.9906,-213.4698 92.0427,-207.7964 95.4997,-217.8114 100.9906,-213.4698\"/>\n",
       "<text text-anchor=\"middle\" x=\"138.8667\" y=\"-228.8\" font-family=\"Times,serif\" font-size=\"14.00\" fill=\"#000000\">x_2&lt;=0</text>\n",
       "</g>\n",
       "<!-- RootLR -->\n",
       "<g id=\"node8\" class=\"node\">\n",
       "<title>RootLR</title>\n",
       "<ellipse fill=\"none\" stroke=\"#000000\" cx=\"213.9711\" cy=\"-190\" rx=\"44.9423\" ry=\"18\"/>\n",
       "<text text-anchor=\"middle\" x=\"213.9711\" y=\"-185.8\" font-family=\"Times,serif\" font-size=\"14.00\" fill=\"#000000\">Infeasible</text>\n",
       "</g>\n",
       "<!-- RootL&#45;&gt;RootLR -->\n",
       "<g id=\"edge7\" class=\"edge\">\n",
       "<title>RootL&#45;&gt;RootLR</title>\n",
       "<path fill=\"none\" stroke=\"#000000\" d=\"M160.0608,-258.1807C169.8543,-245.7949 183.0507,-229.1053 193.9358,-215.3388\"/>\n",
       "<polygon fill=\"#000000\" stroke=\"#000000\" points=\"196.9066,-217.2246 200.3636,-207.2096 191.4157,-212.8829 196.9066,-217.2246\"/>\n",
       "<text text-anchor=\"middle\" x=\"206.8667\" y=\"-228.8\" font-family=\"Times,serif\" font-size=\"14.00\" fill=\"#000000\">x_2&gt;=1</text>\n",
       "</g>\n",
       "<!-- RootLLL -->\n",
       "<g id=\"node4\" class=\"node\">\n",
       "<title>RootLLL</title>\n",
       "<ellipse fill=\"none\" stroke=\"#000000\" cx=\"44.9711\" cy=\"-104\" rx=\"44.9423\" ry=\"18\"/>\n",
       "<text text-anchor=\"middle\" x=\"44.9711\" y=\"-99.8\" font-family=\"Times,serif\" font-size=\"14.00\" fill=\"#000000\">Infeasible</text>\n",
       "</g>\n",
       "<!-- RootLL&#45;&gt;RootLLL -->\n",
       "<g id=\"edge3\" class=\"edge\">\n",
       "<title>RootLL&#45;&gt;RootLLL</title>\n",
       "<path fill=\"none\" stroke=\"#000000\" d=\"M70.9727,-171.7616C66.4799,-160.053 60.5613,-144.6289 55.506,-131.4544\"/>\n",
       "<polygon fill=\"#000000\" stroke=\"#000000\" points=\"58.6966,-129.9996 51.8464,-121.9172 52.1612,-132.5074 58.6966,-129.9996\"/>\n",
       "<text text-anchor=\"middle\" x=\"85.8667\" y=\"-142.8\" font-family=\"Times,serif\" font-size=\"14.00\" fill=\"#000000\">x_3&lt;=0</text>\n",
       "</g>\n",
       "<!-- RootLLR -->\n",
       "<g id=\"node5\" class=\"node\">\n",
       "<title>RootLLR</title>\n",
       "<ellipse fill=\"none\" stroke=\"#000000\" cx=\"180.9711\" cy=\"-104\" rx=\"72.6031\" ry=\"18\"/>\n",
       "<text text-anchor=\"middle\" x=\"180.9711\" y=\"-99.8\" font-family=\"Times,serif\" font-size=\"14.00\" fill=\"#000000\">(Branch) z = 17/4</text>\n",
       "</g>\n",
       "<!-- RootLL&#45;&gt;RootLLR -->\n",
       "<g id=\"edge4\" class=\"edge\">\n",
       "<title>RootLL&#45;&gt;RootLLR</title>\n",
       "<path fill=\"none\" stroke=\"#000000\" d=\"M98.8147,-172.5966C114.1718,-159.7742 135.247,-142.1774 152.2066,-128.017\"/>\n",
       "<polygon fill=\"#000000\" stroke=\"#000000\" points=\"154.7257,-130.4734 160.1586,-121.3775 150.2392,-125.1001 154.7257,-130.4734\"/>\n",
       "<text text-anchor=\"middle\" x=\"157.8667\" y=\"-142.8\" font-family=\"Times,serif\" font-size=\"14.00\" fill=\"#000000\">x_3&gt;=1</text>\n",
       "</g>\n",
       "<!-- RootLLRL -->\n",
       "<g id=\"node6\" class=\"node\">\n",
       "<title>RootLLRL</title>\n",
       "<ellipse fill=\"none\" stroke=\"#000000\" cx=\"115.9711\" cy=\"-18\" rx=\"65.8797\" ry=\"18\"/>\n",
       "<text text-anchor=\"middle\" x=\"115.9711\" y=\"-13.8\" font-family=\"Times,serif\" font-size=\"14.00\" fill=\"#000000\">(Solution) z = 4</text>\n",
       "</g>\n",
       "<!-- RootLLR&#45;&gt;RootLLRL -->\n",
       "<g id=\"edge5\" class=\"edge\">\n",
       "<title>RootLLR&#45;&gt;RootLLRL</title>\n",
       "<path fill=\"none\" stroke=\"#000000\" d=\"M167.5031,-86.1807C158.2649,-73.9578 145.8589,-57.5438 135.5344,-43.8837\"/>\n",
       "<polygon fill=\"#000000\" stroke=\"#000000\" points=\"138.2438,-41.6637 129.4219,-35.7964 132.6594,-45.8845 138.2438,-41.6637\"/>\n",
       "<text text-anchor=\"middle\" x=\"174.8667\" y=\"-56.8\" font-family=\"Times,serif\" font-size=\"14.00\" fill=\"#000000\">x_0&lt;=0</text>\n",
       "</g>\n",
       "<!-- RootLLRR -->\n",
       "<g id=\"node7\" class=\"node\">\n",
       "<title>RootLLRR</title>\n",
       "<ellipse fill=\"none\" stroke=\"#000000\" cx=\"244.9711\" cy=\"-18\" rx=\"44.9423\" ry=\"18\"/>\n",
       "<text text-anchor=\"middle\" x=\"244.9711\" y=\"-13.8\" font-family=\"Times,serif\" font-size=\"14.00\" fill=\"#000000\">Infeasible</text>\n",
       "</g>\n",
       "<!-- RootLLR&#45;&gt;RootLLRR -->\n",
       "<g id=\"edge6\" class=\"edge\">\n",
       "<title>RootLLR&#45;&gt;RootLLRR</title>\n",
       "<path fill=\"none\" stroke=\"#000000\" d=\"M194.232,-86.1807C203.3887,-73.8764 215.7062,-57.3247 225.9119,-43.6109\"/>\n",
       "<polygon fill=\"#000000\" stroke=\"#000000\" points=\"228.7839,-45.6141 231.9463,-35.5022 223.1683,-41.435 228.7839,-45.6141\"/>\n",
       "<text text-anchor=\"middle\" x=\"238.8667\" y=\"-56.8\" font-family=\"Times,serif\" font-size=\"14.00\" fill=\"#000000\">x_0&gt;=1</text>\n",
       "</g>\n",
       "</g>\n",
       "</svg>\n"
      ],
      "text/plain": [
       "<graphviz.files.Source at 0x10a068510>"
      ]
     },
     "execution_count": 17,
     "metadata": {},
     "output_type": "execute_result"
    }
   ],
   "source": [
    "DrawGraph(X)"
   ]
  },
  {
   "cell_type": "code",
   "execution_count": 18,
   "metadata": {
    "collapsed": false
   },
   "outputs": [
    {
     "data": {
      "text/latex": [
       "$$\\left[\\begin{matrix}2\\\\2\\end{matrix}\\right]$$"
      ],
      "text/plain": [
       "<IPython.core.display.Math object>"
      ]
     },
     "metadata": {},
     "output_type": "display_data"
    }
   ],
   "source": [
    "DisplayMatrix(X.solution())"
   ]
  },
  {
   "cell_type": "markdown",
   "metadata": {},
   "source": [
    "# ==== ASSIGNMENT PROBLEM 2 ====\n",
    "\n",
    "Consider the branch and bound diagram above.\n",
    "\n",
    "By using the dual simplex method to restore feasibility after adding each of the constraints $x_0 \\leq 1$, $x_2 \\leq 0$, $x_3 \\geq 1$, and $x_0 \\leq 0$, produce the solution corresponding to the _Solution_ node which can be found in the left subtree from the top node."
   ]
  },
  {
   "cell_type": "code",
   "execution_count": 19,
   "metadata": {
    "collapsed": true
   },
   "outputs": [],
   "source": [
    "# ... do work here ..."
   ]
  },
  {
   "cell_type": "code",
   "execution_count": 20,
   "metadata": {
    "collapsed": true
   },
   "outputs": [],
   "source": [
    "Problem2Answer = Matrix([[0],\n",
    "                         [0]])"
   ]
  },
  {
   "cell_type": "markdown",
   "metadata": {},
   "source": [
    "# =============================="
   ]
  },
  {
   "cell_type": "markdown",
   "metadata": {},
   "source": [
    "## Exercise 4.2.4 using Branch and Bound Method\n",
    "\n",
    "Maximize $x + 4y$ subject to\n",
    "$$\n",
    "x + 6y \\leq 36 \\\\\n",
    "3x + 8y \\leq 60 \\\\\n",
    "x \\geq 0, y \\geq 0 \\\\\n",
    "x,y \\text{ integers.}\n",
    "$$"
   ]
  },
  {
   "cell_type": "code",
   "execution_count": 21,
   "metadata": {
    "collapsed": false
   },
   "outputs": [
    {
     "data": {
      "image/svg+xml": [
       "<?xml version=\"1.0\" encoding=\"UTF-8\" standalone=\"no\"?>\n",
       "<!DOCTYPE svg PUBLIC \"-//W3C//DTD SVG 1.1//EN\"\n",
       " \"http://www.w3.org/Graphics/SVG/1.1/DTD/svg11.dtd\">\n",
       "<!-- Generated by graphviz version 2.40.1 (20161225.0304)\n",
       " -->\n",
       "<!-- Title: %3 Pages: 1 -->\n",
       "<svg width=\"326pt\" height=\"130pt\"\n",
       " viewBox=\"0.00 0.00 325.56 130.00\" xmlns=\"http://www.w3.org/2000/svg\" xmlns:xlink=\"http://www.w3.org/1999/xlink\">\n",
       "<g id=\"graph0\" class=\"graph\" transform=\"scale(1 1) rotate(0) translate(4 126)\">\n",
       "<title>%3</title>\n",
       "<polygon fill=\"#ffffff\" stroke=\"transparent\" points=\"-4,4 -4,-126 321.558,-126 321.558,4 -4,4\"/>\n",
       "<!-- Root -->\n",
       "<g id=\"node1\" class=\"node\">\n",
       "<title>Root</title>\n",
       "<ellipse fill=\"none\" stroke=\"#000000\" cx=\"163.1964\" cy=\"-104\" rx=\"77.4467\" ry=\"18\"/>\n",
       "<text text-anchor=\"middle\" x=\"163.1964\" y=\"-99.8\" font-family=\"Times,serif\" font-size=\"14.00\" fill=\"#000000\">(Branch) z = 132/5</text>\n",
       "</g>\n",
       "<!-- RootL -->\n",
       "<g id=\"node2\" class=\"node\">\n",
       "<title>RootL</title>\n",
       "<ellipse fill=\"none\" stroke=\"#000000\" cx=\"79.1964\" cy=\"-18\" rx=\"79.3933\" ry=\"18\"/>\n",
       "<text text-anchor=\"middle\" x=\"79.1964\" y=\"-13.8\" font-family=\"Times,serif\" font-size=\"14.00\" fill=\"#000000\">(Bounded) z = 76/3</text>\n",
       "</g>\n",
       "<!-- Root&#45;&gt;RootL -->\n",
       "<g id=\"edge1\" class=\"edge\">\n",
       "<title>Root&#45;&gt;RootL</title>\n",
       "<path fill=\"none\" stroke=\"#000000\" d=\"M145.7915,-86.1807C133.6276,-73.7272 117.2141,-56.9229 103.7259,-43.1135\"/>\n",
       "<polygon fill=\"#000000\" stroke=\"#000000\" points=\"106.0702,-40.5046 96.579,-35.7964 101.0626,-45.3958 106.0702,-40.5046\"/>\n",
       "<text text-anchor=\"middle\" x=\"149.0919\" y=\"-56.8\" font-family=\"Times,serif\" font-size=\"14.00\" fill=\"#000000\">x_1&lt;=4</text>\n",
       "</g>\n",
       "<!-- RootR -->\n",
       "<g id=\"node3\" class=\"node\">\n",
       "<title>RootR</title>\n",
       "<ellipse fill=\"none\" stroke=\"#000000\" cx=\"247.1964\" cy=\"-18\" rx=\"70.2234\" ry=\"18\"/>\n",
       "<text text-anchor=\"middle\" x=\"247.1964\" y=\"-13.8\" font-family=\"Times,serif\" font-size=\"14.00\" fill=\"#000000\">(Solution) z = 26</text>\n",
       "</g>\n",
       "<!-- Root&#45;&gt;RootR -->\n",
       "<g id=\"edge2\" class=\"edge\">\n",
       "<title>Root&#45;&gt;RootR</title>\n",
       "<path fill=\"none\" stroke=\"#000000\" d=\"M180.6013,-86.1807C192.8462,-73.6442 209.3977,-56.6986 222.9363,-42.8377\"/>\n",
       "<polygon fill=\"#000000\" stroke=\"#000000\" points=\"225.6176,-45.1016 230.1012,-35.5022 220.61,-40.2104 225.6176,-45.1016\"/>\n",
       "<text text-anchor=\"middle\" x=\"232.0919\" y=\"-56.8\" font-family=\"Times,serif\" font-size=\"14.00\" fill=\"#000000\">x_1&gt;=5</text>\n",
       "</g>\n",
       "</g>\n",
       "</svg>\n"
      ],
      "text/plain": [
       "<graphviz.files.Source at 0x10a189910>"
      ]
     },
     "execution_count": 21,
     "metadata": {},
     "output_type": "execute_result"
    }
   ],
   "source": [
    "A = Matrix([[1,6],\n",
    "            [3,8]])\n",
    "b = Matrix([[36],\n",
    "            [60]])\n",
    "c = Matrix([[1],\n",
    "            [4]])\n",
    "LP = StandardForm(A,b,c)\n",
    "BB = BranchAndBoundMethod(LP)\n",
    "DrawGraph(BB)"
   ]
  },
  {
   "cell_type": "code",
   "execution_count": 22,
   "metadata": {
    "collapsed": false
   },
   "outputs": [
    {
     "data": {
      "text/latex": [
       "$$\\left[\\begin{matrix}6\\\\5\\end{matrix}\\right]$$"
      ],
      "text/plain": [
       "<IPython.core.display.Math object>"
      ]
     },
     "metadata": {},
     "output_type": "display_data"
    }
   ],
   "source": [
    "DisplayMatrix(BB.solution())"
   ]
  },
  {
   "cell_type": "markdown",
   "metadata": {},
   "source": [
    "# ==== ASSIGNMENT PROBLEM 3 ====\n",
    "\n",
    "\n",
    "In the diagram above, why does the left child node say \"Bounded\"?\n",
    "    \n",
    "* (A) Because the integer solution corresponding to the left child is better than any possible solution that could be found in the right child.\n",
    "* (B) Because the integer solution corresponding to the right child is better than any possible solution that could be found in the left child.\n",
    "* (C) Because there are no integer solutions in the left child\n",
    "* (D) Because there are no integer solutions in the right child\n"
   ]
  },
  {
   "cell_type": "code",
   "execution_count": 23,
   "metadata": {
    "collapsed": true
   },
   "outputs": [],
   "source": [
    "# Uncomment the correct answer:\n",
    "# Problem3Answer = \"A\"\n",
    "# Problem3Answer = \"B\"\n",
    "# Problem3Answer = \"C\"\n",
    "# Problem3Answer = \"D\""
   ]
  },
  {
   "cell_type": "markdown",
   "metadata": {},
   "source": [
    "# =============================="
   ]
  }
 ],
 "metadata": {
  "anaconda-cloud": {},
  "celltoolbar": "Raw Cell Format",
  "kernelspec": {
   "display_name": "Python 2",
   "language": "python",
   "name": "python2"
  },
  "language_info": {
   "codemirror_mode": {
    "name": "ipython",
    "version": 2
   },
   "file_extension": ".py",
   "mimetype": "text/x-python",
   "name": "python",
   "nbconvert_exporter": "python",
   "pygments_lexer": "ipython2",
   "version": "2.7.13"
  }
 },
 "nbformat": 4,
 "nbformat_minor": 1
}
