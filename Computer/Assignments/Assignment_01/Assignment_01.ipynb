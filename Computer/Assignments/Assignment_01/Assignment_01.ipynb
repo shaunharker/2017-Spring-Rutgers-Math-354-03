{
 "cells": [
  {
   "cell_type": "markdown",
   "metadata": {},
   "source": [
    "# Math 354 Computer Assignment 1"
   ]
  },
  {
   "cell_type": "markdown",
   "metadata": {},
   "source": [
    "## Overview\n",
    "\n",
    "* **Part 1.** First, we import a python module \"Math354\" and demonstrate how to use it to compute the reduced row echelon form R of a matrix A, along with the nonsingular matrix E for which A = ER. \n",
    "* **Part 2.** Next, you will be shown how to pull out entries, rows, and columns of matrices using \"slice notation\".\n",
    "* **Part 3.** Finally, you will be asked to do a number of textbook problems using the computer to help you do them quickly."
   ]
  },
  {
   "cell_type": "markdown",
   "metadata": {},
   "source": [
    "# Part 1: An example of `GaussJordanReduction`"
   ]
  },
  {
   "cell_type": "code",
   "execution_count": null,
   "metadata": {
    "collapsed": true
   },
   "outputs": [],
   "source": [
    "from Math354 import *"
   ]
  },
  {
   "cell_type": "markdown",
   "metadata": {},
   "source": [
    "This imports some code which has implemented two important things:\n",
    "\n",
    "* `Matrix` : a data type to store matrices\n",
    "* `GaussJordanReduction` : an algorithm which when called on an $m \\times n$ matrix will return a triple `(R, E, rank)`, where\n",
    "  * `R` is the reduced row echelon form of `A`\n",
    "  * `E` is an $m \\times m$ nonsingular matrix (a product of elementary matrices) satisfying `A = E*R`\n",
    "  * `rank` is the rank of `A` (which is also the rank of `R`)"
   ]
  },
  {
   "cell_type": "markdown",
   "metadata": {},
   "source": [
    "## How To Enter Matrix Data\n",
    "\n",
    "To enter a matrix we make a Python data structure which is a list of lists corresponding to the list of row vectors. When written out it looks like we usually write the matrix, so this is convenient. As an example we use the matrix from Section 0.2, Example 5:"
   ]
  },
  {
   "cell_type": "code",
   "execution_count": null,
   "metadata": {
    "collapsed": false
   },
   "outputs": [],
   "source": [
    "matrix_from_example_02_5 = [[  0,  2,  5, -2,  1],\n",
    "                            [  0,  0,  2,  1,  3],\n",
    "                            [  2, -4, -7,  8, -7],\n",
    "                            [  2,  0,  3,  4, -5]]"
   ]
  },
  {
   "cell_type": "code",
   "execution_count": null,
   "metadata": {
    "collapsed": false,
    "scrolled": true
   },
   "outputs": [],
   "source": [
    "A = Matrix(matrix_from_example_02_5)\n",
    "(R, E, rank) = GaussJordanReduction(A, 'verbose')"
   ]
  },
  {
   "cell_type": "markdown",
   "metadata": {
    "collapsed": true
   },
   "source": [
    "# Part 2\n",
    "\n",
    "Now we will learn how to manipulate matrices."
   ]
  },
  {
   "cell_type": "code",
   "execution_count": null,
   "metadata": {
    "collapsed": false
   },
   "outputs": [],
   "source": [
    "DisplayMatrix(A)"
   ]
  },
  {
   "cell_type": "markdown",
   "metadata": {},
   "source": [
    "The convention in Python for indexing is to start at $0$. The convention in the textbook is to start indexing rows and columns with index $1$. We have to keep this in mind. For example, the textbook-first row is the code-zeroeth row.\n",
    "\n",
    "We can inspect entries of the matrix $A$ as follows:"
   ]
  },
  {
   "cell_type": "code",
   "execution_count": null,
   "metadata": {
    "collapsed": false
   },
   "outputs": [],
   "source": [
    "print(A[0,0])  # what is the (0,0) entry?\n",
    "print(A[2,2])  # what is the (2,2) entry?\n",
    "print(A[3,2])  # what is the (3,2) entry?"
   ]
  },
  {
   "cell_type": "markdown",
   "metadata": {},
   "source": [
    "Taking into account the off-by-one of the Python indexing compared to the text, these numbers are right. \n",
    "\n",
    "The notation with the square brackets is quite common for array access. We can actually take this notation a bit further and extract entire rows, columns, or even submatrices:"
   ]
  },
  {
   "cell_type": "code",
   "execution_count": null,
   "metadata": {
    "collapsed": false
   },
   "outputs": [],
   "source": [
    "DisplayMatrix(A[:,2])  # What is the 2nd column of A?\n",
    "DisplayMatrix(A[2,:])  # What is the 2nd row of A?\n",
    "DisplayMatrix(A[1:4,1:3]) # Give the submatrix corresponding to rows 1, 2, and 3 and columns 1 and 2"
   ]
  },
  {
   "cell_type": "markdown",
   "metadata": {},
   "source": [
    "The third line above might confuse you somewhat, because the notation has for rows `1:4` and for columns `1:3` yet apparently it only uses rows 1, 2, and 3, and columns 1 and 2. This is just another convention; the last number is one-past-the-end. The motivation for this convention comes from the indexing starting at $0$ and programmers wanting the notation for \"the first `n` elements\" to be written succinctly as `0:n` rather than the awkward `0:(n-1)` which would be necessary if the right endpoint was included. It also ends up being nice in the sense that `a:b` will mean to use the `b-a` indices starting at `a`. It also ends up nice in that `a:b` and `b:c` fit together; if both of them had $b$ they would share an index. You can think of `a:b` as meaning the integers in the interval $[a, b)$.\n",
    "\n",
    "This is the convention also used by `range`, which we use often in `for` loops:"
   ]
  },
  {
   "cell_type": "code",
   "execution_count": null,
   "metadata": {
    "collapsed": false
   },
   "outputs": [],
   "source": [
    "for i in range(0,10):\n",
    "    print(i)"
   ]
  },
  {
   "cell_type": "markdown",
   "metadata": {},
   "source": [
    "Now that we've shown how to extract rows, columns, and submatrices, let's see how we might assemble a matrix for smaller matrices."
   ]
  },
  {
   "cell_type": "markdown",
   "metadata": {},
   "source": [
    "A few odds and ends:\n",
    "\n",
    "To test equality, use `x == y`, as in:\n",
    "```python\n",
    "if x == y:\n",
    "  # do something you'd want to do only if x and y are the same\n",
    "```\n",
    "\n",
    "To test inequality, use `x != y`\n",
    "```python\n",
    "if x != y:\n",
    "  # do something you'd want to do only if x and y are different\n",
    "```"
   ]
  },
  {
   "cell_type": "code",
   "execution_count": null,
   "metadata": {
    "collapsed": false
   },
   "outputs": [],
   "source": [
    "for i in range(0,10):\n",
    "    if i % 2 == 0:   #  i % 2 means to divide i by 2 and take the remainder\n",
    "        print(i)"
   ]
  },
  {
   "cell_type": "markdown",
   "metadata": {},
   "source": [
    "In the problems you will often give lists as answer. An example problem is below. \n",
    "\n",
    "To start with an empty answer list:\n",
    "\n",
    "```python\n",
    "answer = []\n",
    "```\n",
    "\n",
    "As you find answers and need to append to the answer list, use  \n",
    "```python\n",
    "answer = answer + ['answer']\n",
    "```\n",
    "\n",
    "Try that out:"
   ]
  },
  {
   "cell_type": "code",
   "execution_count": null,
   "metadata": {
    "collapsed": false
   },
   "outputs": [],
   "source": [
    "answer = []\n",
    "print(answer)\n",
    "answer = answer + ['answer']\n",
    "print(answer)\n",
    "answer = answer + ['another answer']\n",
    "print(answer)"
   ]
  },
  {
   "cell_type": "markdown",
   "metadata": {},
   "source": [
    "## An Example Problem"
   ]
  },
  {
   "cell_type": "code",
   "execution_count": null,
   "metadata": {
    "collapsed": false
   },
   "outputs": [],
   "source": [
    "def Exercise_0_5_1 ():\n",
    "    \"\"\"\n",
    "    Solve Section 0.5, Exercise 1.\n",
    "    Return answer as list of letters, i.e. \"['a', 'c']\"\n",
    "      if 'a' and 'c' are the vectors that are linear combinations\n",
    "      of the vectors of S. \n",
    "    \"\"\"\n",
    "    # List to store answer in\n",
    "    answer = []\n",
    "    # Combine the vectors of S into a matrix A.\n",
    "    A = Matrix([[ -2,  0, -3 ],\n",
    "                [  1, -1,  2 ],\n",
    "                [  2, -2,  4 ]])\n",
    "    # Combine the vectors a, b, c, d into a matrix B.\n",
    "    B = Matrix([[  1, -6,  3, 1 ],\n",
    "                [ -1,  2,  2, 1 ],\n",
    "                [ -2,  4, -1, 1 ]])\n",
    "    # We check if the columns of B are in the column space of A.\n",
    "    # We use the routine Solve(A, b) which tries to solve\n",
    "    # Ax = b and return a solution if one exists or x = [] otherwise\n",
    "    if Solve(A, B[:,0]) != [] :\n",
    "        answer = answer + ['a']\n",
    "    if Solve(A, B[:,1]) != [] :\n",
    "        answer = answer + ['b'] \n",
    "    if Solve(A, B[:,2]) != [] :\n",
    "        answer = answer + ['c']\n",
    "    if Solve(A, B[:,3]) != [] :\n",
    "        answer = answer + ['d'] \n",
    "    return answer\n",
    "    # Note: alternatively, the above 9 lines could be written succintly as:  \n",
    "    # return [ \"abcd\"[j] for j in range(0,4) if Solve(A, B[:,j]) ]\n",
    "\n",
    "Exercise_0_5_1()"
   ]
  },
  {
   "cell_type": "markdown",
   "metadata": {},
   "source": [
    "# Part 3: Exercises\n",
    "\n",
    "Ok, your turn. Fill in the code in the functions below so that the output of the function solves the textbook problems. By the way, don't change the name of the function or it won't be graded properly!\n",
    "\n",
    "Hints.\n",
    "\n",
    "* If you see `TypeError: list indices must be integers, not tuple`, it might mean you forgot commas in writing the matrix!\n"
   ]
  },
  {
   "cell_type": "code",
   "execution_count": null,
   "metadata": {
    "collapsed": false
   },
   "outputs": [],
   "source": [
    "def Exercise_0_5_2 ():\n",
    "    \"\"\"\n",
    "    Solve Section 0.5, Exercise 2.\n",
    "    Return answer as list of letters, e.g. \"['a', 'c']\"\n",
    "    \"\"\"\n",
    "    answer = []\n",
    "    # Fill this in. (Hint: copy the solution to Exercise_0_5_1 above and change the matrices.)\n",
    "    return answer\n",
    "\n",
    "Exercise_0_5_2 () "
   ]
  },
  {
   "cell_type": "code",
   "execution_count": null,
   "metadata": {
    "collapsed": false
   },
   "outputs": [],
   "source": [
    "def Exercise_0_5_3 ():\n",
    "    \"\"\"\n",
    "    Solve Section 0.5, Exercise 3.\n",
    "    Return answer as list of letters, e.g. \"['a', 'c']\"\n",
    "    \"\"\"\n",
    "    answer = []\n",
    "    # Fill this in. \n",
    "    # Hint: The vectors will span R^2 iff the rank of the matrix with those vectors as columns is rank 2\n",
    "    #       So build matrices A, B, C, D for each of (a), (b), (c), and (d), and call `GaussJordanReduction`\n",
    "    #       i.e.:\n",
    "    #\n",
    "    #       (R, E, rank) = GaussJordanReduction(A)\n",
    "    #       if rank == 2:\n",
    "    #           result = result + ['a']\n",
    "    #       ... etc ...\n",
    "    return answer\n",
    "\n",
    "Exercise_0_5_3 () "
   ]
  },
  {
   "cell_type": "code",
   "execution_count": null,
   "metadata": {
    "collapsed": false
   },
   "outputs": [],
   "source": [
    "def Exercise_0_5_4 ():\n",
    "    \"\"\"\n",
    "    Solve Section 0.5, Exercise 4.\n",
    "    Return answer as list of letters, e.g. \"['a', 'c']\"\n",
    "    \"\"\"\n",
    "    answer = []\n",
    "    # Fill this in. \n",
    "    return answer\n",
    "\n",
    "Exercise_0_5_4 () "
   ]
  },
  {
   "cell_type": "markdown",
   "metadata": {},
   "source": [
    "Here's a free one for you:\n",
    "\n",
    "But understand how the null space computation works, and why it helps solve Exercise 5 of Section 0.5"
   ]
  },
  {
   "cell_type": "code",
   "execution_count": null,
   "metadata": {
    "collapsed": false
   },
   "outputs": [],
   "source": [
    "def NullSpace(A):\n",
    "    \"\"\"\n",
    "    Compute the null space of A.\n",
    "    This can be done as follows. \n",
    "      Compute the GaussJordanReduction of the _transpose_.\n",
    "      This gives EA^T = R for some nonsingular matrix E.\n",
    "      It follows that AE^T = R^T. Thus null AE^T = null R^T\n",
    "      We can then show null A = range (E^T)^{-1}[:,rank:n]\n",
    "    \"\"\"\n",
    "    (R, E, rank) = GaussJordanReduction(Transpose(A))\n",
    "    (I, N, n) = GaussJordanReduction(Transpose(E))\n",
    "    Null = N[:,rank:n]\n",
    "    return Null\n",
    "\n",
    "def Exercise_0_5_5 ():\n",
    "    \"\"\"\n",
    "    Solve Section 0.5, Exercise 5. However, instead of\n",
    "    what the text asks for, just report the null space \n",
    "    for the matrix of each set of vectors. (You should\n",
    "    work out why knowing the null space lets you easily \n",
    "    come up with what the problem actually ways. But for\n",
    "    the purposes of verifying this answer it is easier to\n",
    "    just report null space.)\n",
    "    \n",
    "    Return answer as list of vectors.\n",
    "    \"\"\"\n",
    "    answer = []\n",
    "    A = Matrix([[  3, -1,  1 ],\n",
    "                [  2,  0,  1 ],\n",
    "                [ -1, -1,  1 ]])\n",
    "    answer = answer + [ NullSpace(A) ]\n",
    "    \n",
    "    B = Matrix([[  3,  1 ],\n",
    "                [  2,  2 ],\n",
    "                [  1, -1 ]])\n",
    "    answer = answer + [ NullSpace(B) ]   \n",
    "    \n",
    "    C = Matrix([[  1,  1,  3,  5 ],\n",
    "                [  1,  2,  4,  7 ],\n",
    "                [  2, -1, -2, -1 ]])\n",
    "    answer = answer + [ NullSpace(C) ]\n",
    "\n",
    "    D = Matrix([[  2,  4,  1 ],\n",
    "                [  1,  5,  2 ],\n",
    "                [  3,  1, -1 ]])\n",
    "    answer = answer + [ NullSpace(D) ]    \n",
    "    return answer\n",
    "\n",
    "Exercise_0_5_5 () "
   ]
  },
  {
   "cell_type": "code",
   "execution_count": null,
   "metadata": {
    "collapsed": false
   },
   "outputs": [],
   "source": [
    "def Exercise_0_5_13 ():\n",
    "    \"\"\"\n",
    "    Solve Section 0.5, Exercise 13.\n",
    "    Return answer as list of vectors.\n",
    "    \"\"\"\n",
    "    answer = []\n",
    "    # Fill this in. \n",
    "    # Hint. Compute the matrix inverse of the matrix for S.\n",
    "    #       You can get this from GaussJordanReduction (the E return value)\n",
    "    #       Then multiply this against each vector.\n",
    "    return answer\n",
    "\n",
    "Exercise_0_5_13 () "
   ]
  },
  {
   "cell_type": "code",
   "execution_count": null,
   "metadata": {
    "collapsed": false
   },
   "outputs": [],
   "source": [
    "def Exercise_0_5_18 ():\n",
    "    \"\"\"\n",
    "    Solve Section 0.5, Exercise 18.\n",
    "    Return answer as an integer\n",
    "    \"\"\"\n",
    "    # Fill this in. \n",
    "    # Hint: Use GaussJordanReduction and return the `rank` output.\n",
    "    return rank\n",
    "\n",
    "Exercise_0_5_18 () "
   ]
  },
  {
   "cell_type": "code",
   "execution_count": null,
   "metadata": {
    "collapsed": false
   },
   "outputs": [],
   "source": [
    "def Exercise_0_5_19 ():\n",
    "    \"\"\"\n",
    "    Solve Section 0.5, Exercise 19.\n",
    "    Return answer as an integer\n",
    "    \"\"\"\n",
    "    # Fill this in. \n",
    "    # Hint: Use GaussJordanReduction and return the `rank` output.\n",
    "    return rank\n",
    "\n",
    "Exercise_0_5_19 () "
   ]
  }
 ],
 "metadata": {
  "anaconda-cloud": {},
  "celltoolbar": "Raw Cell Format",
  "kernelspec": {
   "display_name": "Python [conda root]",
   "language": "python",
   "name": "conda-root-py"
  },
  "language_info": {
   "codemirror_mode": {
    "name": "ipython",
    "version": 2
   },
   "file_extension": ".py",
   "mimetype": "text/x-python",
   "name": "python",
   "nbconvert_exporter": "python",
   "pygments_lexer": "ipython2",
   "version": "2.7.12"
  }
 },
 "nbformat": 4,
 "nbformat_minor": 1
}
