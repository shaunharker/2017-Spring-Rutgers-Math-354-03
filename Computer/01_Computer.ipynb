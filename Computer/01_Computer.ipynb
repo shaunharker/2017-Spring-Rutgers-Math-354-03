{
 "cells": [
  {
   "cell_type": "markdown",
   "metadata": {},
   "source": [
    "# Math 354 Computer Assignment 1"
   ]
  },
  {
   "cell_type": "markdown",
   "metadata": {},
   "source": [
    "## Overview\n",
    "\n",
    "* PART 1. First, we import a python module \"Math354\" and demonstrate how to use it to compute the reduced row echelon form R of a matrix A, along with the nonsingular matrix E for which A = ER. \n",
    "* PART 2. Next, you will be shown how to pull out entries, rows, and columns of matrices using \"slice notation\"\n",
    "* PART 3. Finally, you will be asked to do a number of textbook problems using the computer to help you do them quickly."
   ]
  },
  {
   "cell_type": "markdown",
   "metadata": {},
   "source": [
    "# Part 1: An example of `GaussJordanReduction`"
   ]
  },
  {
   "cell_type": "code",
   "execution_count": 1,
   "metadata": {
    "collapsed": true
   },
   "outputs": [],
   "source": [
    "from Math354 import *"
   ]
  },
  {
   "cell_type": "markdown",
   "metadata": {},
   "source": [
    "This imports some code which has implemented three important things:\n",
    "\n",
    "* `Matrix` : a data type to store matrices with approximate decimal values (called `float`s)\n",
    "* `RationalMatrix`: a data type to store matrices with exactly represented rational numbers\n",
    "* `GaussJordanReduction` : an algorithm which when called on an $m \\times n$ matrix `A` (where `type(A)` may either `Matrix` or `RationalMatrix`) will return a triple `(R, E, rank)`, where\n",
    "  * `R` is the reduced row echelon form of `A`\n",
    "  * `E` is an $m \\times m$ nonsingular matrix (a product of elementary matrices) satisfying `A = E*R`\n",
    "  * `rank` is the rank of `A` (which is also the rank of `R`)"
   ]
  },
  {
   "cell_type": "markdown",
   "metadata": {},
   "source": [
    "## How To Enter Matrix Data\n",
    "\n",
    "To enter a matrix we make a Python data structure which is a list of lists corresponding to the list of row vectors. When written out it looks like we usually write the matrix, so this is convenient. As an example we use the matrix from Section 0.2, Example 5:"
   ]
  },
  {
   "cell_type": "code",
   "execution_count": 2,
   "metadata": {
    "collapsed": false
   },
   "outputs": [],
   "source": [
    "matrix_from_example_02_5 = [[  0,  2,  5, -2,  1],\n",
    "                            [  0,  0,  2,  1,  3],\n",
    "                            [  2, -4, -7,  8, -7],\n",
    "                            [  2,  0,  3,  4, -5]]"
   ]
  },
  {
   "cell_type": "markdown",
   "metadata": {},
   "source": [
    "As we said, we have two matrix types available. They differ in terms of how they internally represent things. For the type `Matrix`, it uses approximate floating point arithmetic. See <https://en.wikipedia.org/wiki/Floating_point>.\n",
    "\n",
    "For the type `RationalMatrix`, it uses pairs of integers to exactly represent rational numbers. Note that beginning with rational numbers, performing row operations based on Gauss-Jordan (or any other elimination scheme) will never produce irrational numbers, so this is possible.\n",
    "\n",
    "We'll try both. For both examples we will construct a matrix from `matrix_from_example_02_5`, and then call the `GaussJordanReduction` function. If we give that function a second argument `verbose`, this will make it print out information about the sequence of row operations it must perform to achieve reduced row echelon form."
   ]
  },
  {
   "cell_type": "markdown",
   "metadata": {},
   "source": [
    "## Using \"Matrix\" -- floating point matrix type\n",
    "\n",
    "For `Matrix` we will see floating points, which means numbers will have decimal points in them. Let's take a look:"
   ]
  },
  {
   "cell_type": "code",
   "execution_count": 3,
   "metadata": {
    "collapsed": false
   },
   "outputs": [
    {
     "data": {
      "text/markdown": [
       "## GaussJordanReduction:\n",
       " We will put the following matrix into reduced row echelon form: "
      ],
      "text/plain": [
       "<IPython.core.display.Markdown object>"
      ]
     },
     "metadata": {},
     "output_type": "display_data"
    },
    {
     "data": {
      "text/latex": [
       "$$\\begin{bmatrix}\n",
       "  0. & 2. & 5. & -2. & 1.\\\\\n",
       "  0. & 0. & 2. & 1. & 3.\\\\\n",
       "  2. & -4. & -7. & 8. & -7.\\\\\n",
       "  2. & 0. & 3. & 4. & -5.\\\\\n",
       "\\end{bmatrix}$$"
      ],
      "text/plain": [
       "<IPython.core.display.Math object>"
      ]
     },
     "metadata": {},
     "output_type": "display_data"
    },
    {
     "data": {
      "text/markdown": [
       "Selected pivot value 2.0 at (2, 0)."
      ],
      "text/plain": [
       "<IPython.core.display.Markdown object>"
      ]
     },
     "metadata": {},
     "output_type": "display_data"
    },
    {
     "data": {
      "text/markdown": [
       "Swapping rows 0 and 2."
      ],
      "text/plain": [
       "<IPython.core.display.Markdown object>"
      ]
     },
     "metadata": {},
     "output_type": "display_data"
    },
    {
     "data": {
      "text/latex": [
       "$$\\begin{bmatrix}\n",
       "  2. & -4. & -7. & 8. & -7.\\\\\n",
       "  0. & 0. & 2. & 1. & 3.\\\\\n",
       "  0. & 2. & 5. & -2. & 1.\\\\\n",
       "  2. & 0. & 3. & 4. & -5.\\\\\n",
       "\\end{bmatrix}$$"
      ],
      "text/plain": [
       "<IPython.core.display.Math object>"
      ]
     },
     "metadata": {},
     "output_type": "display_data"
    },
    {
     "data": {
      "text/markdown": [
       "Multiplying row 0 by 0.5."
      ],
      "text/plain": [
       "<IPython.core.display.Markdown object>"
      ]
     },
     "metadata": {},
     "output_type": "display_data"
    },
    {
     "data": {
      "text/latex": [
       "$$\\begin{bmatrix}\n",
       "  1. & -2. & -3.5 & 4. & -3.5\\\\\n",
       "  0. & 0. & 2. & 1. & 3.\\\\\n",
       "  0. & 2. & 5. & -2. & 1.\\\\\n",
       "  2. & 0. & 3. & 4. & -5.\\\\\n",
       "\\end{bmatrix}$$"
      ],
      "text/plain": [
       "<IPython.core.display.Math object>"
      ]
     },
     "metadata": {},
     "output_type": "display_data"
    },
    {
     "data": {
      "text/markdown": [
       "Adding -2.0 times pivot row 0 to row 3."
      ],
      "text/plain": [
       "<IPython.core.display.Markdown object>"
      ]
     },
     "metadata": {},
     "output_type": "display_data"
    },
    {
     "data": {
      "text/latex": [
       "$$\\begin{bmatrix}\n",
       "  1. & -2. & -3.5 & 4. & -3.5\\\\\n",
       "  0. & 0. & 2. & 1. & 3.\\\\\n",
       "  0. & 2. & 5. & -2. & 1.\\\\\n",
       "  0. & 4. & 10. & -4. & 2.\\\\\n",
       "\\end{bmatrix}$$"
      ],
      "text/plain": [
       "<IPython.core.display.Math object>"
      ]
     },
     "metadata": {},
     "output_type": "display_data"
    },
    {
     "data": {
      "text/markdown": [
       "Selected pivot value 2.0 at (2, 1)."
      ],
      "text/plain": [
       "<IPython.core.display.Markdown object>"
      ]
     },
     "metadata": {},
     "output_type": "display_data"
    },
    {
     "data": {
      "text/markdown": [
       "Swapping rows 1 and 2."
      ],
      "text/plain": [
       "<IPython.core.display.Markdown object>"
      ]
     },
     "metadata": {},
     "output_type": "display_data"
    },
    {
     "data": {
      "text/latex": [
       "$$\\begin{bmatrix}\n",
       "  1. & -2. & -3.5 & 4. & -3.5\\\\\n",
       "  0. & 2. & 5. & -2. & 1.\\\\\n",
       "  0. & 0. & 2. & 1. & 3.\\\\\n",
       "  0. & 4. & 10. & -4. & 2.\\\\\n",
       "\\end{bmatrix}$$"
      ],
      "text/plain": [
       "<IPython.core.display.Math object>"
      ]
     },
     "metadata": {},
     "output_type": "display_data"
    },
    {
     "data": {
      "text/markdown": [
       "Multiplying row 1 by 0.5."
      ],
      "text/plain": [
       "<IPython.core.display.Markdown object>"
      ]
     },
     "metadata": {},
     "output_type": "display_data"
    },
    {
     "data": {
      "text/latex": [
       "$$\\begin{bmatrix}\n",
       "  1. & -2. & -3.5 & 4. & -3.5\\\\\n",
       "  0. & 1. & 2.5 & -1. & 0.5\\\\\n",
       "  0. & 0. & 2. & 1. & 3.\\\\\n",
       "  0. & 4. & 10. & -4. & 2.\\\\\n",
       "\\end{bmatrix}$$"
      ],
      "text/plain": [
       "<IPython.core.display.Math object>"
      ]
     },
     "metadata": {},
     "output_type": "display_data"
    },
    {
     "data": {
      "text/markdown": [
       "Adding 2.0 times pivot row 1 to row 0."
      ],
      "text/plain": [
       "<IPython.core.display.Markdown object>"
      ]
     },
     "metadata": {},
     "output_type": "display_data"
    },
    {
     "data": {
      "text/latex": [
       "$$\\begin{bmatrix}\n",
       "  1. & 0. & 1.5 & 2. & -2.5\\\\\n",
       "  0. & 1. & 2.5 & -1. & 0.5\\\\\n",
       "  0. & 0. & 2. & 1. & 3.\\\\\n",
       "  0. & 4. & 10. & -4. & 2.\\\\\n",
       "\\end{bmatrix}$$"
      ],
      "text/plain": [
       "<IPython.core.display.Math object>"
      ]
     },
     "metadata": {},
     "output_type": "display_data"
    },
    {
     "data": {
      "text/markdown": [
       "Adding -4.0 times pivot row 1 to row 3."
      ],
      "text/plain": [
       "<IPython.core.display.Markdown object>"
      ]
     },
     "metadata": {},
     "output_type": "display_data"
    },
    {
     "data": {
      "text/latex": [
       "$$\\begin{bmatrix}\n",
       "  1. & 0. & 1.5 & 2. & -2.5\\\\\n",
       "  0. & 1. & 2.5 & -1. & 0.5\\\\\n",
       "  0. & 0. & 2. & 1. & 3.\\\\\n",
       "  0. & 0. & 0. & 0. & 0.\\\\\n",
       "\\end{bmatrix}$$"
      ],
      "text/plain": [
       "<IPython.core.display.Math object>"
      ]
     },
     "metadata": {},
     "output_type": "display_data"
    },
    {
     "data": {
      "text/markdown": [
       "Selected pivot value 2.0 at (2, 2)."
      ],
      "text/plain": [
       "<IPython.core.display.Markdown object>"
      ]
     },
     "metadata": {},
     "output_type": "display_data"
    },
    {
     "data": {
      "text/markdown": [
       "Multiplying row 2 by 0.5."
      ],
      "text/plain": [
       "<IPython.core.display.Markdown object>"
      ]
     },
     "metadata": {},
     "output_type": "display_data"
    },
    {
     "data": {
      "text/latex": [
       "$$\\begin{bmatrix}\n",
       "  1. & 0. & 1.5 & 2. & -2.5\\\\\n",
       "  0. & 1. & 2.5 & -1. & 0.5\\\\\n",
       "  0. & 0. & 1. & 0.5 & 1.5\\\\\n",
       "  0. & 0. & 0. & 0. & 0.\\\\\n",
       "\\end{bmatrix}$$"
      ],
      "text/plain": [
       "<IPython.core.display.Math object>"
      ]
     },
     "metadata": {},
     "output_type": "display_data"
    },
    {
     "data": {
      "text/markdown": [
       "Adding -1.5 times pivot row 2 to row 0."
      ],
      "text/plain": [
       "<IPython.core.display.Markdown object>"
      ]
     },
     "metadata": {},
     "output_type": "display_data"
    },
    {
     "data": {
      "text/latex": [
       "$$\\begin{bmatrix}\n",
       "  1. & 0. & 0. & 1.25 & -4.75\\\\\n",
       "  0. & 1. & 2.5 & -1. & 0.5\\\\\n",
       "  0. & 0. & 1. & 0.5 & 1.5\\\\\n",
       "  0. & 0. & 0. & 0. & 0.\\\\\n",
       "\\end{bmatrix}$$"
      ],
      "text/plain": [
       "<IPython.core.display.Math object>"
      ]
     },
     "metadata": {},
     "output_type": "display_data"
    },
    {
     "data": {
      "text/markdown": [
       "Adding -2.5 times pivot row 2 to row 1."
      ],
      "text/plain": [
       "<IPython.core.display.Markdown object>"
      ]
     },
     "metadata": {},
     "output_type": "display_data"
    },
    {
     "data": {
      "text/latex": [
       "$$\\begin{bmatrix}\n",
       "  1. & 0. & 0. & 1.25 & -4.75\\\\\n",
       "  0. & 1. & 0. & -2.25 & -3.25\\\\\n",
       "  0. & 0. & 1. & 0.5 & 1.5\\\\\n",
       "  0. & 0. & 0. & 0. & 0.\\\\\n",
       "\\end{bmatrix}$$"
      ],
      "text/plain": [
       "<IPython.core.display.Math object>"
      ]
     },
     "metadata": {},
     "output_type": "display_data"
    },
    {
     "data": {
      "text/markdown": [
       "No pivot element available in column 3."
      ],
      "text/plain": [
       "<IPython.core.display.Markdown object>"
      ]
     },
     "metadata": {},
     "output_type": "display_data"
    },
    {
     "data": {
      "text/markdown": [
       "No pivot element available in column 4."
      ],
      "text/plain": [
       "<IPython.core.display.Markdown object>"
      ]
     },
     "metadata": {},
     "output_type": "display_data"
    },
    {
     "data": {
      "text/markdown": [
       "GaussJordanReduction Algorithm complete. Matrix is now in reduced row echelon form."
      ],
      "text/plain": [
       "<IPython.core.display.Markdown object>"
      ]
     },
     "metadata": {},
     "output_type": "display_data"
    },
    {
     "data": {
      "text/markdown": [
       "The product of elementary matrices used to put the input matrix into reduced row echelon form is "
      ],
      "text/plain": [
       "<IPython.core.display.Markdown object>"
      ]
     },
     "metadata": {},
     "output_type": "display_data"
    },
    {
     "data": {
      "text/latex": [
       "$$\\begin{bmatrix}\n",
       "  1. & -0.75 & 0.5 & 0.\\\\\n",
       "  0.5 & -1.25 & 0. & 0.\\\\\n",
       "  0. & 0.5 & 0. & 0.\\\\\n",
       "  -2. & 0. & -1. & 1.\\\\\n",
       "\\end{bmatrix}\\begin{bmatrix}\n",
       "  0. & 2. & 5. & -2. & 1.\\\\\n",
       "  0. & 0. & 2. & 1. & 3.\\\\\n",
       "  2. & -4. & -7. & 8. & -7.\\\\\n",
       "  2. & 0. & 3. & 4. & -5.\\\\\n",
       "\\end{bmatrix} = \\begin{bmatrix}\n",
       "  1. & 0. & 0. & 1.25 & -4.75\\\\\n",
       "  0. & 1. & 0. & -2.25 & -3.25\\\\\n",
       "  0. & 0. & 1. & 0.5 & 1.5\\\\\n",
       "  0. & 0. & 0. & 0. & 0.\\\\\n",
       "\\end{bmatrix}$$"
      ],
      "text/plain": [
       "<IPython.core.display.Math object>"
      ]
     },
     "metadata": {},
     "output_type": "display_data"
    }
   ],
   "source": [
    "A = Matrix(matrix_from_example_02_5)                 # Create the Matrix from the data\n",
    "(R, E, rank) = GaussJordanReduction(A, 'verbose')    # Perform the reduction"
   ]
  },
  {
   "cell_type": "markdown",
   "metadata": {},
   "source": [
    "Now, it printed a bunch of things, but it also should have returned the triple `(R, E, rank)`. Let's print out what these things are:"
   ]
  },
  {
   "cell_type": "markdown",
   "metadata": {},
   "source": [
    "To display matrices the `Math354` module has a function `DisplayMatrix`:"
   ]
  },
  {
   "cell_type": "code",
   "execution_count": 4,
   "metadata": {
    "collapsed": false
   },
   "outputs": [
    {
     "data": {
      "text/latex": [
       "$$\\begin{bmatrix}\n",
       "  1. & 0. & 0. & 1.25 & -4.75\\\\\n",
       "  0. & 1. & 0. & -2.25 & -3.25\\\\\n",
       "  0. & 0. & 1. & 0.5 & 1.5\\\\\n",
       "  0. & 0. & 0. & 0. & 0.\\\\\n",
       "\\end{bmatrix}$$"
      ],
      "text/plain": [
       "<IPython.core.display.Math object>"
      ]
     },
     "metadata": {},
     "output_type": "display_data"
    },
    {
     "data": {
      "text/latex": [
       "$$\\begin{bmatrix}\n",
       "  1. & -0.75 & 0.5 & 0.\\\\\n",
       "  0.5 & -1.25 & 0. & 0.\\\\\n",
       "  0. & 0.5 & 0. & 0.\\\\\n",
       "  -2. & 0. & -1. & 1.\\\\\n",
       "\\end{bmatrix}$$"
      ],
      "text/plain": [
       "<IPython.core.display.Math object>"
      ]
     },
     "metadata": {},
     "output_type": "display_data"
    },
    {
     "name": "stdout",
     "output_type": "stream",
     "text": [
      "3\n"
     ]
    }
   ],
   "source": [
    "DisplayMatrix(R)\n",
    "DisplayMatrix(E)\n",
    "print(rank)"
   ]
  },
  {
   "cell_type": "markdown",
   "metadata": {},
   "source": [
    "Note: we could have typed `print(R)` and `print(E)` instead, but it wouldn't have looked as nice."
   ]
  },
  {
   "cell_type": "markdown",
   "metadata": {},
   "source": [
    "## Same example, but using `RationalMatrix` \n",
    "\n",
    "We can do the exact same thing with the other matrix type. Here we will see fractions instead of decimals. This is because the computations are being done symbolically using rational numbers rather than decimal approximations."
   ]
  },
  {
   "cell_type": "code",
   "execution_count": 5,
   "metadata": {
    "collapsed": false,
    "scrolled": true
   },
   "outputs": [
    {
     "data": {
      "text/markdown": [
       "## GaussJordanReduction:\n",
       " We will put the following matrix into reduced row echelon form: "
      ],
      "text/plain": [
       "<IPython.core.display.Markdown object>"
      ]
     },
     "metadata": {},
     "output_type": "display_data"
    },
    {
     "data": {
      "text/latex": [
       "$$\\left[\\begin{matrix}0 & 2 & 5 & -2 & 1\\\\0 & 0 & 2 & 1 & 3\\\\2 & -4 & -7 & 8 & -7\\\\2 & 0 & 3 & 4 & -5\\end{matrix}\\right]$$"
      ],
      "text/plain": [
       "<IPython.core.display.Math object>"
      ]
     },
     "metadata": {},
     "output_type": "display_data"
    },
    {
     "data": {
      "text/markdown": [
       "Selected pivot value 2 at (2, 0)."
      ],
      "text/plain": [
       "<IPython.core.display.Markdown object>"
      ]
     },
     "metadata": {},
     "output_type": "display_data"
    },
    {
     "data": {
      "text/markdown": [
       "Swapping rows 0 and 2."
      ],
      "text/plain": [
       "<IPython.core.display.Markdown object>"
      ]
     },
     "metadata": {},
     "output_type": "display_data"
    },
    {
     "data": {
      "text/latex": [
       "$$\\left[\\begin{matrix}2 & -4 & -7 & 8 & -7\\\\0 & 0 & 2 & 1 & 3\\\\0 & 2 & 5 & -2 & 1\\\\2 & 0 & 3 & 4 & -5\\end{matrix}\\right]$$"
      ],
      "text/plain": [
       "<IPython.core.display.Math object>"
      ]
     },
     "metadata": {},
     "output_type": "display_data"
    },
    {
     "data": {
      "text/markdown": [
       "Multiplying row 0 by 1/2."
      ],
      "text/plain": [
       "<IPython.core.display.Markdown object>"
      ]
     },
     "metadata": {},
     "output_type": "display_data"
    },
    {
     "data": {
      "text/latex": [
       "$$\\left[\\begin{matrix}1 & -2 & - \\frac{7}{2} & 4 & - \\frac{7}{2}\\\\0 & 0 & 2 & 1 & 3\\\\0 & 2 & 5 & -2 & 1\\\\2 & 0 & 3 & 4 & -5\\end{matrix}\\right]$$"
      ],
      "text/plain": [
       "<IPython.core.display.Math object>"
      ]
     },
     "metadata": {},
     "output_type": "display_data"
    },
    {
     "data": {
      "text/markdown": [
       "Adding -2 times pivot row 0 to row 3."
      ],
      "text/plain": [
       "<IPython.core.display.Markdown object>"
      ]
     },
     "metadata": {},
     "output_type": "display_data"
    },
    {
     "data": {
      "text/latex": [
       "$$\\left[\\begin{matrix}1 & -2 & - \\frac{7}{2} & 4 & - \\frac{7}{2}\\\\0 & 0 & 2 & 1 & 3\\\\0 & 2 & 5 & -2 & 1\\\\0 & 4 & 10 & -4 & 2\\end{matrix}\\right]$$"
      ],
      "text/plain": [
       "<IPython.core.display.Math object>"
      ]
     },
     "metadata": {},
     "output_type": "display_data"
    },
    {
     "data": {
      "text/markdown": [
       "Selected pivot value 2 at (2, 1)."
      ],
      "text/plain": [
       "<IPython.core.display.Markdown object>"
      ]
     },
     "metadata": {},
     "output_type": "display_data"
    },
    {
     "data": {
      "text/markdown": [
       "Swapping rows 1 and 2."
      ],
      "text/plain": [
       "<IPython.core.display.Markdown object>"
      ]
     },
     "metadata": {},
     "output_type": "display_data"
    },
    {
     "data": {
      "text/latex": [
       "$$\\left[\\begin{matrix}1 & -2 & - \\frac{7}{2} & 4 & - \\frac{7}{2}\\\\0 & 2 & 5 & -2 & 1\\\\0 & 0 & 2 & 1 & 3\\\\0 & 4 & 10 & -4 & 2\\end{matrix}\\right]$$"
      ],
      "text/plain": [
       "<IPython.core.display.Math object>"
      ]
     },
     "metadata": {},
     "output_type": "display_data"
    },
    {
     "data": {
      "text/markdown": [
       "Multiplying row 1 by 1/2."
      ],
      "text/plain": [
       "<IPython.core.display.Markdown object>"
      ]
     },
     "metadata": {},
     "output_type": "display_data"
    },
    {
     "data": {
      "text/latex": [
       "$$\\left[\\begin{matrix}1 & -2 & - \\frac{7}{2} & 4 & - \\frac{7}{2}\\\\0 & 1 & \\frac{5}{2} & -1 & \\frac{1}{2}\\\\0 & 0 & 2 & 1 & 3\\\\0 & 4 & 10 & -4 & 2\\end{matrix}\\right]$$"
      ],
      "text/plain": [
       "<IPython.core.display.Math object>"
      ]
     },
     "metadata": {},
     "output_type": "display_data"
    },
    {
     "data": {
      "text/markdown": [
       "Adding 2 times pivot row 1 to row 0."
      ],
      "text/plain": [
       "<IPython.core.display.Markdown object>"
      ]
     },
     "metadata": {},
     "output_type": "display_data"
    },
    {
     "data": {
      "text/latex": [
       "$$\\left[\\begin{matrix}1 & 0 & \\frac{3}{2} & 2 & - \\frac{5}{2}\\\\0 & 1 & \\frac{5}{2} & -1 & \\frac{1}{2}\\\\0 & 0 & 2 & 1 & 3\\\\0 & 4 & 10 & -4 & 2\\end{matrix}\\right]$$"
      ],
      "text/plain": [
       "<IPython.core.display.Math object>"
      ]
     },
     "metadata": {},
     "output_type": "display_data"
    },
    {
     "data": {
      "text/markdown": [
       "Adding -4 times pivot row 1 to row 3."
      ],
      "text/plain": [
       "<IPython.core.display.Markdown object>"
      ]
     },
     "metadata": {},
     "output_type": "display_data"
    },
    {
     "data": {
      "text/latex": [
       "$$\\left[\\begin{matrix}1 & 0 & \\frac{3}{2} & 2 & - \\frac{5}{2}\\\\0 & 1 & \\frac{5}{2} & -1 & \\frac{1}{2}\\\\0 & 0 & 2 & 1 & 3\\\\0 & 0 & 0 & 0 & 0\\end{matrix}\\right]$$"
      ],
      "text/plain": [
       "<IPython.core.display.Math object>"
      ]
     },
     "metadata": {},
     "output_type": "display_data"
    },
    {
     "data": {
      "text/markdown": [
       "Selected pivot value 2 at (2, 2)."
      ],
      "text/plain": [
       "<IPython.core.display.Markdown object>"
      ]
     },
     "metadata": {},
     "output_type": "display_data"
    },
    {
     "data": {
      "text/markdown": [
       "Multiplying row 2 by 1/2."
      ],
      "text/plain": [
       "<IPython.core.display.Markdown object>"
      ]
     },
     "metadata": {},
     "output_type": "display_data"
    },
    {
     "data": {
      "text/latex": [
       "$$\\left[\\begin{matrix}1 & 0 & \\frac{3}{2} & 2 & - \\frac{5}{2}\\\\0 & 1 & \\frac{5}{2} & -1 & \\frac{1}{2}\\\\0 & 0 & 1 & \\frac{1}{2} & \\frac{3}{2}\\\\0 & 0 & 0 & 0 & 0\\end{matrix}\\right]$$"
      ],
      "text/plain": [
       "<IPython.core.display.Math object>"
      ]
     },
     "metadata": {},
     "output_type": "display_data"
    },
    {
     "data": {
      "text/markdown": [
       "Adding -3/2 times pivot row 2 to row 0."
      ],
      "text/plain": [
       "<IPython.core.display.Markdown object>"
      ]
     },
     "metadata": {},
     "output_type": "display_data"
    },
    {
     "data": {
      "text/latex": [
       "$$\\left[\\begin{matrix}1 & 0 & 0 & \\frac{5}{4} & - \\frac{19}{4}\\\\0 & 1 & \\frac{5}{2} & -1 & \\frac{1}{2}\\\\0 & 0 & 1 & \\frac{1}{2} & \\frac{3}{2}\\\\0 & 0 & 0 & 0 & 0\\end{matrix}\\right]$$"
      ],
      "text/plain": [
       "<IPython.core.display.Math object>"
      ]
     },
     "metadata": {},
     "output_type": "display_data"
    },
    {
     "data": {
      "text/markdown": [
       "Adding -5/2 times pivot row 2 to row 1."
      ],
      "text/plain": [
       "<IPython.core.display.Markdown object>"
      ]
     },
     "metadata": {},
     "output_type": "display_data"
    },
    {
     "data": {
      "text/latex": [
       "$$\\left[\\begin{matrix}1 & 0 & 0 & \\frac{5}{4} & - \\frac{19}{4}\\\\0 & 1 & 0 & - \\frac{9}{4} & - \\frac{13}{4}\\\\0 & 0 & 1 & \\frac{1}{2} & \\frac{3}{2}\\\\0 & 0 & 0 & 0 & 0\\end{matrix}\\right]$$"
      ],
      "text/plain": [
       "<IPython.core.display.Math object>"
      ]
     },
     "metadata": {},
     "output_type": "display_data"
    },
    {
     "data": {
      "text/markdown": [
       "No pivot element available in column 3."
      ],
      "text/plain": [
       "<IPython.core.display.Markdown object>"
      ]
     },
     "metadata": {},
     "output_type": "display_data"
    },
    {
     "data": {
      "text/markdown": [
       "No pivot element available in column 4."
      ],
      "text/plain": [
       "<IPython.core.display.Markdown object>"
      ]
     },
     "metadata": {},
     "output_type": "display_data"
    },
    {
     "data": {
      "text/markdown": [
       "GaussJordanReduction Algorithm complete. Matrix is now in reduced row echelon form."
      ],
      "text/plain": [
       "<IPython.core.display.Markdown object>"
      ]
     },
     "metadata": {},
     "output_type": "display_data"
    },
    {
     "data": {
      "text/markdown": [
       "The product of elementary matrices used to put the input matrix into reduced row echelon form is "
      ],
      "text/plain": [
       "<IPython.core.display.Markdown object>"
      ]
     },
     "metadata": {},
     "output_type": "display_data"
    },
    {
     "data": {
      "text/latex": [
       "$$\\left[\\begin{matrix}1 & - \\frac{3}{4} & \\frac{1}{2} & 0\\\\\\frac{1}{2} & - \\frac{5}{4} & 0 & 0\\\\0 & \\frac{1}{2} & 0 & 0\\\\-2 & 0 & -1 & 1\\end{matrix}\\right]\\left[\\begin{matrix}0 & 2 & 5 & -2 & 1\\\\0 & 0 & 2 & 1 & 3\\\\2 & -4 & -7 & 8 & -7\\\\2 & 0 & 3 & 4 & -5\\end{matrix}\\right] = \\left[\\begin{matrix}1 & 0 & 0 & \\frac{5}{4} & - \\frac{19}{4}\\\\0 & 1 & 0 & - \\frac{9}{4} & - \\frac{13}{4}\\\\0 & 0 & 1 & \\frac{1}{2} & \\frac{3}{2}\\\\0 & 0 & 0 & 0 & 0\\end{matrix}\\right]$$"
      ],
      "text/plain": [
       "<IPython.core.display.Math object>"
      ]
     },
     "metadata": {},
     "output_type": "display_data"
    }
   ],
   "source": [
    "A = RationalMatrix(matrix_from_example_02_5)\n",
    "(R, E, rank) = GaussJordanReduction(A, 'verbose')"
   ]
  },
  {
   "cell_type": "markdown",
   "metadata": {
    "collapsed": true
   },
   "source": [
    "# Part 2\n",
    "\n",
    "Now we will learn how to manipulate matrices a little."
   ]
  },
  {
   "cell_type": "code",
   "execution_count": 6,
   "metadata": {
    "collapsed": false
   },
   "outputs": [
    {
     "data": {
      "text/latex": [
       "$$\\left[\\begin{matrix}0 & 2 & 5 & -2 & 1\\\\0 & 0 & 2 & 1 & 3\\\\2 & -4 & -7 & 8 & -7\\\\2 & 0 & 3 & 4 & -5\\end{matrix}\\right]$$"
      ],
      "text/plain": [
       "<IPython.core.display.Math object>"
      ]
     },
     "metadata": {},
     "output_type": "display_data"
    }
   ],
   "source": [
    "DisplayMatrix(A)"
   ]
  },
  {
   "cell_type": "markdown",
   "metadata": {},
   "source": [
    "The convention in Python for indexing is to start at $0$. The convention in the textbook is to start indexing rows and columns with index $1$. We have to keep this in mind. For example, the textbook-first row is the code-zeroeth row.\n",
    "\n",
    "We can inspect entries of the matrix $A$ as follows:"
   ]
  },
  {
   "cell_type": "code",
   "execution_count": 7,
   "metadata": {
    "collapsed": false
   },
   "outputs": [
    {
     "name": "stdout",
     "output_type": "stream",
     "text": [
      "0\n",
      "-7\n",
      "3\n"
     ]
    }
   ],
   "source": [
    "print(A[0,0])  # what is the (0,0) entry?\n",
    "print(A[2,2])  # what is the (2,2) entry?\n",
    "print(A[3,2])  # what is the (3,2) entry?"
   ]
  },
  {
   "cell_type": "markdown",
   "metadata": {},
   "source": [
    "Taking into account the off-by-one of the Python indexing compared to the text, these numbers are right. \n",
    "\n",
    "The notation with the square brackets is quite common for array access. We can actually take this notation a bit further and extract entire rows, columns, or even submatrices:"
   ]
  },
  {
   "cell_type": "code",
   "execution_count": 8,
   "metadata": {
    "collapsed": false
   },
   "outputs": [
    {
     "data": {
      "text/latex": [
       "$$\\left[\\begin{matrix}5\\\\2\\\\-7\\\\3\\end{matrix}\\right]$$"
      ],
      "text/plain": [
       "<IPython.core.display.Math object>"
      ]
     },
     "metadata": {},
     "output_type": "display_data"
    },
    {
     "data": {
      "text/latex": [
       "$$\\left[\\begin{matrix}2 & -4 & -7 & 8 & -7\\end{matrix}\\right]$$"
      ],
      "text/plain": [
       "<IPython.core.display.Math object>"
      ]
     },
     "metadata": {},
     "output_type": "display_data"
    },
    {
     "data": {
      "text/latex": [
       "$$\\left[\\begin{matrix}0 & 2\\\\-4 & -7\\\\0 & 3\\end{matrix}\\right]$$"
      ],
      "text/plain": [
       "<IPython.core.display.Math object>"
      ]
     },
     "metadata": {},
     "output_type": "display_data"
    }
   ],
   "source": [
    "DisplayMatrix(A[:,2])  # What is the 2nd column of A?\n",
    "DisplayMatrix(A[2,:])  # What is the 2nd row of A?\n",
    "DisplayMatrix(A[1:4,1:3]) # Give the submatrix corresponding to rows 1, 2, and 3 and columns 1 and 2"
   ]
  },
  {
   "cell_type": "markdown",
   "metadata": {},
   "source": [
    "The third line above might confuse you somewhat, because the notation has for rows `1:4` and for columns `1:3` yet apparently it only uses rows 1, 2, and 3, and columns 1 and 2. This is just another convention; the last number is one-past-the-end. The motivation for this convention comes from the indexing starting at $0$ and programmers wanting the notation for \"the first `n` elements\" to be written succinctly as `0:n` rather than the awkward `0:(n-1)` which would be necessary if the right endpoint was included. It also ends up being nice in the sense that `a:b` will mean to use the `b-a` indices starting at `a`. It also ends up nice in that `a:b` and `b:c` fit together; if both of them had $b$ they would share an index. You can think of `a:b` as meaning the integers in the interval $[a, b)$.\n",
    "\n",
    "This is the convention also used by `range`, which we use often in `for` loops:"
   ]
  },
  {
   "cell_type": "code",
   "execution_count": 9,
   "metadata": {
    "collapsed": false
   },
   "outputs": [
    {
     "name": "stdout",
     "output_type": "stream",
     "text": [
      "0\n",
      "1\n",
      "2\n",
      "3\n",
      "4\n",
      "5\n",
      "6\n",
      "7\n",
      "8\n",
      "9\n"
     ]
    }
   ],
   "source": [
    "for i in range(0,10):\n",
    "    print(i)"
   ]
  },
  {
   "cell_type": "markdown",
   "metadata": {},
   "source": [
    "Now that we've shown how to extract rows, columns, and submatrices, let's see how we might assemble a matrix for smaller matrices."
   ]
  },
  {
   "cell_type": "markdown",
   "metadata": {},
   "source": [
    "A few odds and ends:\n",
    "\n",
    "To test equality, use `x == y`, as in:\n",
    "```python\n",
    "if x == y:\n",
    "  # do something you'd want to do only if x and y are the same\n",
    "```\n",
    "\n",
    "To test inequality, use `x != y`\n",
    "```python\n",
    "if x != y:\n",
    "  # do something you'd want to do only if x and y are different\n",
    "```"
   ]
  },
  {
   "cell_type": "code",
   "execution_count": 10,
   "metadata": {
    "collapsed": false
   },
   "outputs": [
    {
     "name": "stdout",
     "output_type": "stream",
     "text": [
      "0\n",
      "2\n",
      "4\n",
      "6\n",
      "8\n"
     ]
    }
   ],
   "source": [
    "for i in range(0,10):\n",
    "    if i % 2 == 0:   #  i % 2 means to divide i by 2 and take the remainder\n",
    "        print(i)"
   ]
  },
  {
   "cell_type": "markdown",
   "metadata": {},
   "source": [
    "In the problems you will often give lists as answer. An example problem is below. \n",
    "\n",
    "To start with an empty answer list:\n",
    "\n",
    "```python\n",
    "answer = []\n",
    "```\n",
    "\n",
    "As you find answers and need to append to the answer list, use  \n",
    "```python\n",
    "answer = answer + ['answer']\n",
    "```"
   ]
  },
  {
   "cell_type": "code",
   "execution_count": 30,
   "metadata": {
    "collapsed": false
   },
   "outputs": [
    {
     "name": "stdout",
     "output_type": "stream",
     "text": [
      "[]\n",
      "['answer']\n",
      "['answer', 'another answer']\n"
     ]
    }
   ],
   "source": [
    "answer = []\n",
    "print(answer)\n",
    "answer = answer + ['answer']\n",
    "print(answer)\n",
    "answer = answer + ['another answer']\n",
    "print(answer)"
   ]
  },
  {
   "cell_type": "markdown",
   "metadata": {},
   "source": [
    "## An Example Problem"
   ]
  },
  {
   "cell_type": "code",
   "execution_count": 11,
   "metadata": {
    "collapsed": false
   },
   "outputs": [
    {
     "data": {
      "text/plain": [
       "['a', 'b']"
      ]
     },
     "execution_count": 11,
     "metadata": {},
     "output_type": "execute_result"
    }
   ],
   "source": [
    "def Exercise_0_5_1 ():\n",
    "    \"\"\"\n",
    "    Solve Section 0.5, Exercise 1.\n",
    "    Return answer as list of letters, i.e. \"['a', 'c']\"\n",
    "      if 'a' and 'c' are the vectors that are linear combinations\n",
    "      of the vectors of S. \n",
    "    \"\"\"\n",
    "    # List to store answer in\n",
    "    answer = []\n",
    "    # Combine the vectors of S into a matrix A.\n",
    "    A = RationalMatrix([[ -2,  0, -3 ],\n",
    "                        [  1, -1,  2 ],\n",
    "                        [  2, -2,  4 ]])\n",
    "    # Combine the vectors a, b, c, d into a matrix B.\n",
    "    B = RationalMatrix([[  1, -6,  3, 1 ],\n",
    "                        [ -1,  2,  2, 1 ],\n",
    "                        [ -2,  4, -1, 1 ]])\n",
    "    # We check if the columns of B are in the column space of A.\n",
    "    # We use the routine Solve(A, b) which tries to solve\n",
    "    # Ax = b and return a solution if one exists or x = [] otherwise\n",
    "    if Solve(A, B[:,0]) != [] :\n",
    "        answer = answer + ['a']\n",
    "    if Solve(A, B[:,1]) != [] :\n",
    "        answer = answer + ['b'] \n",
    "    if Solve(A, B[:,2]) != [] :\n",
    "        answer = answer + ['c']\n",
    "    if Solve(A, B[:,3]) != [] :\n",
    "        answer = answer + ['d'] \n",
    "    return answer\n",
    "    # Note: alternatively, the above 10 lines could be written succintly as:  \n",
    "    # return [ \"abcd\"[j] for j in range(0,4) if Solve(A, B[:,j]) ]\n",
    "\n",
    "Exercise_0_5_1()"
   ]
  },
  {
   "cell_type": "markdown",
   "metadata": {},
   "source": [
    "# Part 3: Exercises\n",
    "\n",
    "Ok, your turn. Fill in the code in the functions below so that the output of the function solves the textbook problems. By the way, don't change the name of the function or it won't be graded properly!\n",
    "\n",
    "Hints.\n",
    "\n",
    "* If you see `TypeError: list indices must be integers, not tuple`, it might mean you forgot commas in writing the matrix!\n"
   ]
  },
  {
   "cell_type": "code",
   "execution_count": 12,
   "metadata": {
    "collapsed": false
   },
   "outputs": [
    {
     "data": {
      "text/plain": [
       "[]"
      ]
     },
     "execution_count": 12,
     "metadata": {},
     "output_type": "execute_result"
    }
   ],
   "source": [
    "def Exercise_0_5_2 ():\n",
    "    \"\"\"\n",
    "    Solve Section 0.5, Exercise 2.\n",
    "    Return answer as list of letters, e.g. \"['a', 'c']\"\n",
    "    \"\"\"\n",
    "    answer = []\n",
    "    # Fill this in. (Hint: copy the solution to Exercise_0_5_1 above and change the matrices.)\n",
    "    return answer\n",
    "\n",
    "Exercise_0_5_2 () "
   ]
  },
  {
   "cell_type": "code",
   "execution_count": 13,
   "metadata": {
    "collapsed": false
   },
   "outputs": [
    {
     "data": {
      "text/plain": [
       "[]"
      ]
     },
     "execution_count": 13,
     "metadata": {},
     "output_type": "execute_result"
    }
   ],
   "source": [
    "def Exercise_0_5_3 ():\n",
    "    \"\"\"\n",
    "    Solve Section 0.5, Exercise 3.\n",
    "    Return answer as list of letters, e.g. \"['a', 'c']\"\n",
    "    \"\"\"\n",
    "    answer = []\n",
    "    # Fill this in. \n",
    "    # Hint: The vectors will span R^2 iff the rank of the matrix with those vectors as columns is rank 2\n",
    "    #       So build matrices A, B, C, D for each of (a), (b), (c), and (d), and call `GaussJordanReduction`\n",
    "    #       i.e.:\n",
    "    #\n",
    "    #       (R, E, rank) = GaussJordanReduction(A)\n",
    "    #       if rank == 2:\n",
    "    #           result = result + ['a']\n",
    "    #       ... etc ...\n",
    "    return answer\n",
    "\n",
    "Exercise_0_5_3 () "
   ]
  },
  {
   "cell_type": "code",
   "execution_count": 14,
   "metadata": {
    "collapsed": false
   },
   "outputs": [
    {
     "data": {
      "text/plain": [
       "[]"
      ]
     },
     "execution_count": 14,
     "metadata": {},
     "output_type": "execute_result"
    }
   ],
   "source": [
    "def Exercise_0_5_4 ():\n",
    "    \"\"\"\n",
    "    Solve Section 0.5, Exercise 4.\n",
    "    Return answer as list of letters, e.g. \"['a', 'c']\"\n",
    "    \"\"\"\n",
    "    answer = []\n",
    "    # Fill this in. \n",
    "    return answer\n",
    "\n",
    "Exercise_0_5_4 () "
   ]
  },
  {
   "cell_type": "markdown",
   "metadata": {},
   "source": [
    "Here's a free one for you:\n",
    "\n",
    "But understand how the null space computation works, and why it helps solve Exercise 5 of Section 0.5"
   ]
  },
  {
   "cell_type": "code",
   "execution_count": 23,
   "metadata": {
    "collapsed": false
   },
   "outputs": [
    {
     "data": {
      "text/plain": [
       "[Matrix(3, 0, []), Matrix(2, 0, []), Matrix([\n",
       " [ 5],\n",
       " [ 7],\n",
       " [-1],\n",
       " [ 1]]), Matrix([\n",
       " [1],\n",
       " [2],\n",
       " [1]])]"
      ]
     },
     "execution_count": 23,
     "metadata": {},
     "output_type": "execute_result"
    }
   ],
   "source": [
    "def NullSpace(A):\n",
    "    \"\"\"\n",
    "    Compute the null space of A.\n",
    "    This can be done as follows. \n",
    "      Compute the GaussJordanReduction of the _transpose_.\n",
    "      This gives EA^T = R for some nonsingular matrix E.\n",
    "      It follows that AE^T = R^T. Thus null AE^T = null R^T\n",
    "      We can then show null A = range (E^T)^{-1}[:,rank:n]\n",
    "    \"\"\"\n",
    "    (R, E, rank) = GaussJordanReduction(Transpose(A))\n",
    "    (I, N, n) = GaussJordanReduction(Transpose(E))\n",
    "    Null = N[:,rank:n]\n",
    "    return Null\n",
    "\n",
    "def Exercise_0_5_5 ():\n",
    "    \"\"\"\n",
    "    Solve Section 0.5, Exercise 5. However, instead of\n",
    "    what the text asks for, just report the null space \n",
    "    for the matrix of each set of vectors. (You should\n",
    "    work out why knowing the null space lets you easily \n",
    "    come up with what the problem actually ways. But for\n",
    "    the purposes of verifying this answer it is easier to\n",
    "    just report null space.)\n",
    "    \n",
    "    Return answer as list of vectors.\n",
    "    \"\"\"\n",
    "    answer = []\n",
    "    A = RationalMatrix([[  3, -1,  1 ],\n",
    "                        [  2,  0,  1 ],\n",
    "                        [ -1, -1,  1 ]])\n",
    "    answer = answer + [ NullSpace(A) ]\n",
    "    \n",
    "    B = RationalMatrix([[  3,  1 ],\n",
    "                        [  2,  2 ],\n",
    "                        [  1, -1 ]])\n",
    "    answer = answer + [ NullSpace(B) ]   \n",
    "    \n",
    "    C = RationalMatrix([[  1,  1,  3,  5 ],\n",
    "                        [  1,  2,  4,  7 ],\n",
    "                        [  2, -1, -2, -1 ]])\n",
    "    answer = answer + [ NullSpace(C) ]\n",
    "\n",
    "    D = RationalMatrix([[  2,  4,  1 ],\n",
    "                        [  1,  5,  2 ],\n",
    "                        [  3,  1, -1 ]])\n",
    "    answer = answer + [ NullSpace(D) ]    \n",
    "    return answer\n",
    "\n",
    "Exercise_0_5_5 () "
   ]
  },
  {
   "cell_type": "code",
   "execution_count": 16,
   "metadata": {
    "collapsed": false
   },
   "outputs": [
    {
     "data": {
      "text/plain": [
       "[]"
      ]
     },
     "execution_count": 16,
     "metadata": {},
     "output_type": "execute_result"
    }
   ],
   "source": [
    "def Exercise_0_5_13 ():\n",
    "    \"\"\"\n",
    "    Solve Section 0.5, Exercise 13.\n",
    "    Return answer as list of vectors.\n",
    "    \"\"\"\n",
    "    answer = []\n",
    "    # Fill this in. \n",
    "    # Hint. Compute the matrix inverse of the matrix for S.\n",
    "    #       You can get this from GaussJordanReduction (the E return value)\n",
    "    #       Then multiply this against each vector.\n",
    "    return answer\n",
    "\n",
    "Exercise_0_5_13 () "
   ]
  },
  {
   "cell_type": "code",
   "execution_count": 17,
   "metadata": {
    "collapsed": false
   },
   "outputs": [
    {
     "data": {
      "text/plain": [
       "3"
      ]
     },
     "execution_count": 17,
     "metadata": {},
     "output_type": "execute_result"
    }
   ],
   "source": [
    "def Exercise_0_5_18 ():\n",
    "    \"\"\"\n",
    "    Solve Section 0.5, Exercise 18.\n",
    "    Return answer as an integer\n",
    "    \"\"\"\n",
    "    # Fill this in. \n",
    "    # Hint: Use GaussJordanReduction and return the `rank` output.\n",
    "    return rank\n",
    "\n",
    "Exercise_0_5_18 () "
   ]
  },
  {
   "cell_type": "code",
   "execution_count": 18,
   "metadata": {
    "collapsed": false
   },
   "outputs": [
    {
     "data": {
      "text/plain": [
       "3"
      ]
     },
     "execution_count": 18,
     "metadata": {},
     "output_type": "execute_result"
    }
   ],
   "source": [
    "def Exercise_0_5_19 ():\n",
    "    \"\"\"\n",
    "    Solve Section 0.5, Exercise 19.\n",
    "    Return answer as an integer\n",
    "    \"\"\"\n",
    "    # Fill this in. \n",
    "    # Hint: Use GaussJordanReduction and return the `rank` output.\n",
    "    return rank\n",
    "\n",
    "Exercise_0_5_19 () "
   ]
  }
 ],
 "metadata": {
  "anaconda-cloud": {},
  "celltoolbar": "Raw Cell Format",
  "kernelspec": {
   "display_name": "Python [conda root]",
   "language": "python",
   "name": "conda-root-py"
  },
  "language_info": {
   "codemirror_mode": {
    "name": "ipython",
    "version": 2
   },
   "file_extension": ".py",
   "mimetype": "text/x-python",
   "name": "python",
   "nbconvert_exporter": "python",
   "pygments_lexer": "ipython2",
   "version": "2.7.12"
  }
 },
 "nbformat": 4,
 "nbformat_minor": 1
}
