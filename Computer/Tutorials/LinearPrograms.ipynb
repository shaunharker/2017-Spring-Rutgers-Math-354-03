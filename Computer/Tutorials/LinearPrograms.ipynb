{
 "cells": [
  {
   "cell_type": "markdown",
   "metadata": {},
   "source": [
    "# Math 354 Linear Programs"
   ]
  },
  {
   "cell_type": "code",
   "execution_count": 1,
   "metadata": {
    "collapsed": false
   },
   "outputs": [],
   "source": [
    "from Math354 import *"
   ]
  },
  {
   "cell_type": "markdown",
   "metadata": {},
   "source": [
    "# Our Toy Problem"
   ]
  },
  {
   "cell_type": "markdown",
   "metadata": {},
   "source": [
    "## Inputting the Toy Problem"
   ]
  },
  {
   "cell_type": "code",
   "execution_count": 2,
   "metadata": {
    "collapsed": true
   },
   "outputs": [],
   "source": [
    "A = Matrix([[1, 0],\n",
    "            [1, 1],\n",
    "            [0, 1]])\n",
    "b = Matrix([[2], \n",
    "            [3],\n",
    "            [2]])\n",
    "c = Matrix([[3],\n",
    "            [4]])"
   ]
  },
  {
   "cell_type": "code",
   "execution_count": 3,
   "metadata": {
    "collapsed": true
   },
   "outputs": [],
   "source": [
    "LP1 = StandardForm(A,b,c)"
   ]
  },
  {
   "cell_type": "markdown",
   "metadata": {},
   "source": [
    "## Displaying the Toy Problem"
   ]
  },
  {
   "cell_type": "code",
   "execution_count": 4,
   "metadata": {
    "collapsed": false
   },
   "outputs": [
    {
     "data": {
      "text/markdown": [
       "Maximize $c^T x$ subject to $A_I x \\leq b_I$, $A_J x = b_J$, $x_K \\geq 0$, $x_L$ unrestricted, where\n",
       "\n",
       "$$(A,b,c,I,J,K,L) = \\left(\\left[\\begin{matrix}1 & 0\\\\1 & 1\\\\0 & 1\\end{matrix}\\right], \\left[\\begin{matrix}2\\\\3\\\\2\\end{matrix}\\right], \\left[\\begin{matrix}3\\\\4\\end{matrix}\\right], [0, 1, 2], [], [0, 1], []\\right)$$"
      ],
      "text/plain": [
       "Maximize $c^T x$ subject to $A_I x \\leq b_I$, $A_J x = b_J$, $x_K \\geq 0$, $x_L$ unrestricted, where\n",
       "\n",
       "$$(A,b,c,I,J,K,L) = \\left(\\left[\\begin{matrix}1 & 0\\\\1 & 1\\\\0 & 1\\end{matrix}\\right], \\left[\\begin{matrix}2\\\\3\\\\2\\end{matrix}\\right], \\left[\\begin{matrix}3\\\\4\\end{matrix}\\right], [0, 1, 2], [], [0, 1], []\\right)$$"
      ]
     },
     "execution_count": 4,
     "metadata": {},
     "output_type": "execute_result"
    }
   ],
   "source": [
    "LP1"
   ]
  },
  {
   "cell_type": "markdown",
   "metadata": {},
   "source": [
    "## Converting To Canonical Form"
   ]
  },
  {
   "cell_type": "code",
   "execution_count": 5,
   "metadata": {
    "collapsed": false
   },
   "outputs": [],
   "source": [
    "LP2 = ConvertToCanonicalForm(LP1)"
   ]
  },
  {
   "cell_type": "code",
   "execution_count": 6,
   "metadata": {
    "collapsed": false
   },
   "outputs": [
    {
     "data": {
      "text/markdown": [
       "Maximize $c^T x$ subject to $A_I x \\leq b_I$, $A_J x = b_J$, $x_K \\geq 0$, $x_L$ unrestricted, where\n",
       "\n",
       "$$(A,b,c,I,J,K,L) = \\left(\\left[\\begin{matrix}1 & 0 & 1 & 0 & 0\\\\1 & 1 & 0 & 1 & 0\\\\0 & 1 & 0 & 0 & 1\\end{matrix}\\right], \\left[\\begin{matrix}2\\\\3\\\\2\\end{matrix}\\right], \\left[\\begin{matrix}3\\\\4\\\\0\\\\0\\\\0\\end{matrix}\\right], [], [0, 1, 2], [0, 1, 2, 3, 4], []\\right)$$"
      ],
      "text/plain": [
       "Maximize $c^T x$ subject to $A_I x \\leq b_I$, $A_J x = b_J$, $x_K \\geq 0$, $x_L$ unrestricted, where\n",
       "\n",
       "$$(A,b,c,I,J,K,L) = \\left(\\left[\\begin{matrix}1 & 0 & 1 & 0 & 0\\\\1 & 1 & 0 & 1 & 0\\\\0 & 1 & 0 & 0 & 1\\end{matrix}\\right], \\left[\\begin{matrix}2\\\\3\\\\2\\end{matrix}\\right], \\left[\\begin{matrix}3\\\\4\\\\0\\\\0\\\\0\\end{matrix}\\right], [], [0, 1, 2], [0, 1, 2, 3, 4], []\\right)$$"
      ]
     },
     "execution_count": 6,
     "metadata": {},
     "output_type": "execute_result"
    }
   ],
   "source": [
    "LP2"
   ]
  },
  {
   "cell_type": "markdown",
   "metadata": {},
   "source": [
    "# Simplex Method"
   ]
  },
  {
   "cell_type": "code",
   "execution_count": 7,
   "metadata": {
    "collapsed": false,
    "scrolled": false
   },
   "outputs": [
    {
     "name": "stdout",
     "output_type": "stream",
     "text": [
      "Automatically detected initial basic feasible solution with basic variables [2, 3, 4]\n"
     ]
    },
    {
     "data": {
      "text/markdown": [
       "|| $x_0$| $x_1$| $x_2$| $x_3$| $x_4$ | |\n",
       "| ---- | ----| ----| ----| ----| ----| ---- |\n",
       "| $x_2$ |$1$ | $0$ | $1$ | $0$ | $0$ | $2$ |\n",
       "| $x_3$ |$1$ | $1$ | $0$ | $1$ | $0$ | $3$ |\n",
       "| $x_4$ |$0$ | $1$ | $0$ | $0$ | $1$ | $2$ |\n",
       "|  | $-3$ | $-4$ | $0$ | $0$ | $0$ | $0$|\n"
      ],
      "text/plain": [
       "<IPython.core.display.Markdown object>"
      ]
     },
     "metadata": {},
     "output_type": "display_data"
    },
    {
     "data": {
      "text/markdown": [
       "Choosing entering variable to be $x_1$"
      ],
      "text/plain": [
       "<IPython.core.display.Markdown object>"
      ]
     },
     "metadata": {},
     "output_type": "display_data"
    },
    {
     "data": {
      "text/markdown": [
       "Choosing departing variable to be $x_4$"
      ],
      "text/plain": [
       "<IPython.core.display.Markdown object>"
      ]
     },
     "metadata": {},
     "output_type": "display_data"
    },
    {
     "data": {
      "text/markdown": [
       "|| $x_0$| $x_1$| $x_2$| $x_3$| $x_4$ | |\n",
       "| ---- | ----| ----| ----| ----| ----| ---- |\n",
       "| $x_2$ |$1$ | $0$ | $1$ | $0$ | $0$ | $2$ |\n",
       "| $x_3$ |$1$ | $0$ | $0$ | $1$ | $-1$ | $1$ |\n",
       "| $x_1$ |$0$ | $1$ | $0$ | $0$ | $1$ | $2$ |\n",
       "|  | $-3$ | $0$ | $0$ | $0$ | $4$ | $8$|\n"
      ],
      "text/plain": [
       "<IPython.core.display.Markdown object>"
      ]
     },
     "metadata": {},
     "output_type": "display_data"
    },
    {
     "data": {
      "text/markdown": [
       "Choosing entering variable to be $x_0$"
      ],
      "text/plain": [
       "<IPython.core.display.Markdown object>"
      ]
     },
     "metadata": {},
     "output_type": "display_data"
    },
    {
     "data": {
      "text/markdown": [
       "Choosing departing variable to be $x_3$"
      ],
      "text/plain": [
       "<IPython.core.display.Markdown object>"
      ]
     },
     "metadata": {},
     "output_type": "display_data"
    },
    {
     "data": {
      "text/markdown": [
       "Final tableau:"
      ],
      "text/plain": [
       "<IPython.core.display.Markdown object>"
      ]
     },
     "metadata": {},
     "output_type": "display_data"
    },
    {
     "data": {
      "text/markdown": [
       "|| $x_0$| $x_1$| $x_2$| $x_3$| $x_4$ | |\n",
       "| ---- | ----| ----| ----| ----| ----| ---- |\n",
       "| $x_2$ |$0$ | $0$ | $1$ | $-1$ | $1$ | $1$ |\n",
       "| $x_0$ |$1$ | $0$ | $0$ | $1$ | $-1$ | $1$ |\n",
       "| $x_1$ |$0$ | $1$ | $0$ | $0$ | $1$ | $2$ |\n",
       "|  | $0$ | $0$ | $0$ | $3$ | $1$ | $11$|\n"
      ],
      "text/plain": [
       "<IPython.core.display.Markdown object>"
      ]
     },
     "metadata": {},
     "output_type": "display_data"
    },
    {
     "name": "stdout",
     "output_type": "stream",
     "text": [
      "Solution = \n"
     ]
    },
    {
     "data": {
      "text/latex": [
       "$$\\left[\\begin{matrix}1\\\\2\\\\1\\\\0\\\\0\\end{matrix}\\right]$$"
      ],
      "text/plain": [
       "<IPython.core.display.Math object>"
      ]
     },
     "metadata": {},
     "output_type": "display_data"
    },
    {
     "name": "stdout",
     "output_type": "stream",
     "text": [
      "Dual Solution = \n"
     ]
    },
    {
     "data": {
      "text/latex": [
       "$$\\left[\\begin{matrix}0\\\\3\\\\1\\end{matrix}\\right]$$"
      ],
      "text/plain": [
       "<IPython.core.display.Math object>"
      ]
     },
     "metadata": {},
     "output_type": "display_data"
    }
   ],
   "source": [
    "(solution, dual_solution) = SimplexMethod(LP2)\n",
    "print(\"Solution = \")\n",
    "DisplayMatrix(solution)\n",
    "print(\"Dual Solution = \")\n",
    "DisplayMatrix(dual_solution)"
   ]
  },
  {
   "cell_type": "markdown",
   "metadata": {},
   "source": [
    "# Solving the Dual Problem as a Primal Problem"
   ]
  },
  {
   "cell_type": "code",
   "execution_count": 8,
   "metadata": {
    "collapsed": false
   },
   "outputs": [],
   "source": [
    "LP3 = Dual(LP1)"
   ]
  },
  {
   "cell_type": "code",
   "execution_count": 9,
   "metadata": {
    "collapsed": false
   },
   "outputs": [
    {
     "data": {
      "text/markdown": [
       "Maximize $c^T x$ subject to $A_I x \\leq b_I$, $A_J x = b_J$, $x_K \\geq 0$, $x_L$ unrestricted, where\n",
       "\n",
       "$$(A,b,c,I,J,K,L) = \\left(\\left[\\begin{matrix}-1 & -1 & 0\\\\0 & -1 & -1\\end{matrix}\\right], \\left[\\begin{matrix}-3\\\\-4\\end{matrix}\\right], \\left[\\begin{matrix}-2\\\\-3\\\\-2\\end{matrix}\\right], [0, 1], [], [0, 1, 2], []\\right)$$"
      ],
      "text/plain": [
       "Maximize $c^T x$ subject to $A_I x \\leq b_I$, $A_J x = b_J$, $x_K \\geq 0$, $x_L$ unrestricted, where\n",
       "\n",
       "$$(A,b,c,I,J,K,L) = \\left(\\left[\\begin{matrix}-1 & -1 & 0\\\\0 & -1 & -1\\end{matrix}\\right], \\left[\\begin{matrix}-3\\\\-4\\end{matrix}\\right], \\left[\\begin{matrix}-2\\\\-3\\\\-2\\end{matrix}\\right], [0, 1], [], [0, 1, 2], []\\right)$$"
      ]
     },
     "execution_count": 9,
     "metadata": {},
     "output_type": "execute_result"
    }
   ],
   "source": [
    "LP3"
   ]
  },
  {
   "cell_type": "code",
   "execution_count": 10,
   "metadata": {
    "collapsed": true
   },
   "outputs": [],
   "source": [
    "LP4 = ConvertToCanonicalForm(LP3)"
   ]
  },
  {
   "cell_type": "code",
   "execution_count": 11,
   "metadata": {
    "collapsed": false
   },
   "outputs": [
    {
     "data": {
      "text/markdown": [
       "Maximize $c^T x$ subject to $A_I x \\leq b_I$, $A_J x = b_J$, $x_K \\geq 0$, $x_L$ unrestricted, where\n",
       "\n",
       "$$(A,b,c,I,J,K,L) = \\left(\\left[\\begin{matrix}-1 & -1 & 0 & 1 & 0\\\\0 & -1 & -1 & 0 & 1\\end{matrix}\\right], \\left[\\begin{matrix}-3\\\\-4\\end{matrix}\\right], \\left[\\begin{matrix}-2\\\\-3\\\\-2\\\\0\\\\0\\end{matrix}\\right], [], [0, 1], [0, 1, 2, 3, 4], []\\right)$$"
      ],
      "text/plain": [
       "Maximize $c^T x$ subject to $A_I x \\leq b_I$, $A_J x = b_J$, $x_K \\geq 0$, $x_L$ unrestricted, where\n",
       "\n",
       "$$(A,b,c,I,J,K,L) = \\left(\\left[\\begin{matrix}-1 & -1 & 0 & 1 & 0\\\\0 & -1 & -1 & 0 & 1\\end{matrix}\\right], \\left[\\begin{matrix}-3\\\\-4\\end{matrix}\\right], \\left[\\begin{matrix}-2\\\\-3\\\\-2\\\\0\\\\0\\end{matrix}\\right], [], [0, 1], [0, 1, 2, 3, 4], []\\right)$$"
      ]
     },
     "execution_count": 11,
     "metadata": {},
     "output_type": "execute_result"
    }
   ],
   "source": [
    "LP4"
   ]
  },
  {
   "cell_type": "code",
   "execution_count": 12,
   "metadata": {
    "collapsed": false
   },
   "outputs": [
    {
     "name": "stdout",
     "output_type": "stream",
     "text": [
      "Automatically detected initial basic feasible solution with basic variables [0, 2]\n"
     ]
    },
    {
     "data": {
      "text/markdown": [
       "|| $x_0$| $x_1$| $x_2$| $x_3$| $x_4$ | |\n",
       "| ---- | ----| ----| ----| ----| ----| ---- |\n",
       "| $x_0$ |$1$ | $1$ | $0$ | $-1$ | $0$ | $3$ |\n",
       "| $x_2$ |$0$ | $1$ | $1$ | $0$ | $-1$ | $4$ |\n",
       "|  | $0$ | $-1$ | $0$ | $2$ | $2$ | $-14$|\n"
      ],
      "text/plain": [
       "<IPython.core.display.Markdown object>"
      ]
     },
     "metadata": {},
     "output_type": "display_data"
    },
    {
     "data": {
      "text/markdown": [
       "Choosing entering variable to be $x_1$"
      ],
      "text/plain": [
       "<IPython.core.display.Markdown object>"
      ]
     },
     "metadata": {},
     "output_type": "display_data"
    },
    {
     "data": {
      "text/markdown": [
       "Choosing departing variable to be $x_0$"
      ],
      "text/plain": [
       "<IPython.core.display.Markdown object>"
      ]
     },
     "metadata": {},
     "output_type": "display_data"
    },
    {
     "data": {
      "text/markdown": [
       "Final tableau:"
      ],
      "text/plain": [
       "<IPython.core.display.Markdown object>"
      ]
     },
     "metadata": {},
     "output_type": "display_data"
    },
    {
     "data": {
      "text/markdown": [
       "|| $x_0$| $x_1$| $x_2$| $x_3$| $x_4$ | |\n",
       "| ---- | ----| ----| ----| ----| ----| ---- |\n",
       "| $x_1$ |$1$ | $1$ | $0$ | $-1$ | $0$ | $3$ |\n",
       "| $x_2$ |$-1$ | $0$ | $1$ | $1$ | $-1$ | $1$ |\n",
       "|  | $1$ | $0$ | $0$ | $1$ | $2$ | $-11$|\n"
      ],
      "text/plain": [
       "<IPython.core.display.Markdown object>"
      ]
     },
     "metadata": {},
     "output_type": "display_data"
    },
    {
     "name": "stdout",
     "output_type": "stream",
     "text": [
      "Solution = \n"
     ]
    },
    {
     "data": {
      "text/latex": [
       "$$\\left[\\begin{matrix}0\\\\3\\\\1\\\\0\\\\0\\end{matrix}\\right]$$"
      ],
      "text/plain": [
       "<IPython.core.display.Math object>"
      ]
     },
     "metadata": {},
     "output_type": "display_data"
    },
    {
     "name": "stdout",
     "output_type": "stream",
     "text": [
      "Dual Solution = \n"
     ]
    },
    {
     "data": {
      "text/latex": [
       "$$\\left[\\begin{matrix}1\\\\2\\end{matrix}\\right]$$"
      ],
      "text/plain": [
       "<IPython.core.display.Math object>"
      ]
     },
     "metadata": {},
     "output_type": "display_data"
    }
   ],
   "source": [
    "(solution, dual_solution) = SimplexMethod(LP4)\n",
    "print(\"Solution = \")\n",
    "DisplayMatrix(solution)\n",
    "print(\"Dual Solution = \")\n",
    "DisplayMatrix(dual_solution)"
   ]
  },
  {
   "cell_type": "markdown",
   "metadata": {},
   "source": [
    "## Two-Phase Example\n",
    "\n",
    "Here we use the two-phase method. This is not automated, so we have to do it by hand."
   ]
  },
  {
   "cell_type": "code",
   "execution_count": 13,
   "metadata": {
    "collapsed": true
   },
   "outputs": [],
   "source": [
    "A = Matrix([[1, 0],\n",
    "            [1, 1],\n",
    "            [0, 1],\n",
    "            [-1, -1]])\n",
    "b = Matrix([[2], \n",
    "            [3],\n",
    "            [2],\n",
    "            [-1]])\n",
    "c = Matrix([[3],\n",
    "            [4]])"
   ]
  },
  {
   "cell_type": "code",
   "execution_count": 14,
   "metadata": {
    "collapsed": true
   },
   "outputs": [],
   "source": [
    "LP1 = StandardForm(A,b,c)\n",
    "LP2 = ConvertToCanonicalForm(LP1)"
   ]
  },
  {
   "cell_type": "code",
   "execution_count": 15,
   "metadata": {
    "collapsed": false
   },
   "outputs": [
    {
     "data": {
      "text/markdown": [
       "Maximize $c^T x$ subject to $A_I x \\leq b_I$, $A_J x = b_J$, $x_K \\geq 0$, $x_L$ unrestricted, where\n",
       "\n",
       "$$(A,b,c,I,J,K,L) = \\left(\\left[\\begin{matrix}1 & 0\\\\1 & 1\\\\0 & 1\\\\-1 & -1\\end{matrix}\\right], \\left[\\begin{matrix}2\\\\3\\\\2\\\\-1\\end{matrix}\\right], \\left[\\begin{matrix}3\\\\4\\end{matrix}\\right], [0, 1, 2, 3], [], [0, 1], []\\right)$$"
      ],
      "text/plain": [
       "Maximize $c^T x$ subject to $A_I x \\leq b_I$, $A_J x = b_J$, $x_K \\geq 0$, $x_L$ unrestricted, where\n",
       "\n",
       "$$(A,b,c,I,J,K,L) = \\left(\\left[\\begin{matrix}1 & 0\\\\1 & 1\\\\0 & 1\\\\-1 & -1\\end{matrix}\\right], \\left[\\begin{matrix}2\\\\3\\\\2\\\\-1\\end{matrix}\\right], \\left[\\begin{matrix}3\\\\4\\end{matrix}\\right], [0, 1, 2, 3], [], [0, 1], []\\right)$$"
      ]
     },
     "execution_count": 15,
     "metadata": {},
     "output_type": "execute_result"
    }
   ],
   "source": [
    "LP1"
   ]
  },
  {
   "cell_type": "code",
   "execution_count": 16,
   "metadata": {
    "collapsed": false
   },
   "outputs": [
    {
     "data": {
      "text/markdown": [
       "Maximize $c^T x$ subject to $A_I x \\leq b_I$, $A_J x = b_J$, $x_K \\geq 0$, $x_L$ unrestricted, where\n",
       "\n",
       "$$(A,b,c,I,J,K,L) = \\left(\\left[\\begin{matrix}1 & 0 & 1 & 0 & 0 & 0\\\\1 & 1 & 0 & 1 & 0 & 0\\\\0 & 1 & 0 & 0 & 1 & 0\\\\-1 & -1 & 0 & 0 & 0 & 1\\end{matrix}\\right], \\left[\\begin{matrix}2\\\\3\\\\2\\\\-1\\end{matrix}\\right], \\left[\\begin{matrix}3\\\\4\\\\0\\\\0\\\\0\\\\0\\end{matrix}\\right], [], [0, 1, 2, 3], [0, 1, 2, 3, 4, 5], []\\right)$$"
      ],
      "text/plain": [
       "Maximize $c^T x$ subject to $A_I x \\leq b_I$, $A_J x = b_J$, $x_K \\geq 0$, $x_L$ unrestricted, where\n",
       "\n",
       "$$(A,b,c,I,J,K,L) = \\left(\\left[\\begin{matrix}1 & 0 & 1 & 0 & 0 & 0\\\\1 & 1 & 0 & 1 & 0 & 0\\\\0 & 1 & 0 & 0 & 1 & 0\\\\-1 & -1 & 0 & 0 & 0 & 1\\end{matrix}\\right], \\left[\\begin{matrix}2\\\\3\\\\2\\\\-1\\end{matrix}\\right], \\left[\\begin{matrix}3\\\\4\\\\0\\\\0\\\\0\\\\0\\end{matrix}\\right], [], [0, 1, 2, 3], [0, 1, 2, 3, 4, 5], []\\right)$$"
      ]
     },
     "execution_count": 16,
     "metadata": {},
     "output_type": "execute_result"
    }
   ],
   "source": [
    "LP2"
   ]
  },
  {
   "cell_type": "code",
   "execution_count": 17,
   "metadata": {
    "collapsed": false
   },
   "outputs": [
    {
     "name": "stdout",
     "output_type": "stream",
     "text": [
      "User Error: Cannot automatically detect initial basic feasible solution\n"
     ]
    }
   ],
   "source": [
    "try:\n",
    "    solution = SimplexMethod(LP2)\n",
    "    print(\"Solution = \")\n",
    "    DisplayMatrix(solution)\n",
    "except Exception as e: \n",
    "    print(str(e))"
   ]
  },
  {
   "cell_type": "code",
   "execution_count": 18,
   "metadata": {
    "collapsed": true
   },
   "outputs": [],
   "source": [
    "LP3 = AuxiliaryForm(LP2)"
   ]
  },
  {
   "cell_type": "code",
   "execution_count": 19,
   "metadata": {
    "collapsed": false
   },
   "outputs": [
    {
     "data": {
      "text/markdown": [
       "Maximize $c^T x$ subject to $A_I x \\leq b_I$, $A_J x = b_J$, $x_K \\geq 0$, $x_L$ unrestricted, where\n",
       "\n",
       "$$(A,b,c,I,J,K,L) = \\left(\\left[\\begin{matrix}1 & 0 & 1 & 0 & 0 & 0 & 0\\\\1 & 1 & 0 & 1 & 0 & 0 & 0\\\\0 & 1 & 0 & 0 & 1 & 0 & 0\\\\1 & 1 & 0 & 0 & 0 & -1 & 1\\end{matrix}\\right], \\left[\\begin{matrix}2\\\\3\\\\2\\\\1\\end{matrix}\\right], \\left[\\begin{matrix}0\\\\0\\\\0\\\\0\\\\0\\\\0\\\\-1\\end{matrix}\\right], [], [0, 1, 2, 3], [0, 1, 2, 3, 4, 5, 6], []\\right)$$"
      ],
      "text/plain": [
       "Maximize $c^T x$ subject to $A_I x \\leq b_I$, $A_J x = b_J$, $x_K \\geq 0$, $x_L$ unrestricted, where\n",
       "\n",
       "$$(A,b,c,I,J,K,L) = \\left(\\left[\\begin{matrix}1 & 0 & 1 & 0 & 0 & 0 & 0\\\\1 & 1 & 0 & 1 & 0 & 0 & 0\\\\0 & 1 & 0 & 0 & 1 & 0 & 0\\\\1 & 1 & 0 & 0 & 0 & -1 & 1\\end{matrix}\\right], \\left[\\begin{matrix}2\\\\3\\\\2\\\\1\\end{matrix}\\right], \\left[\\begin{matrix}0\\\\0\\\\0\\\\0\\\\0\\\\0\\\\-1\\end{matrix}\\right], [], [0, 1, 2, 3], [0, 1, 2, 3, 4, 5, 6], []\\right)$$"
      ]
     },
     "execution_count": 19,
     "metadata": {},
     "output_type": "execute_result"
    }
   ],
   "source": [
    "LP3"
   ]
  },
  {
   "cell_type": "code",
   "execution_count": 20,
   "metadata": {
    "collapsed": false
   },
   "outputs": [
    {
     "name": "stdout",
     "output_type": "stream",
     "text": [
      "Automatically detected initial basic feasible solution with basic variables [2, 3, 4, 6]\n"
     ]
    },
    {
     "data": {
      "text/markdown": [
       "|| $x_0$| $x_1$| $x_2$| $x_3$| $x_4$| $x_5$| $x_6$ | |\n",
       "| ---- | ----| ----| ----| ----| ----| ----| ----| ---- |\n",
       "| $x_2$ |$1$ | $0$ | $1$ | $0$ | $0$ | $0$ | $0$ | $2$ |\n",
       "| $x_3$ |$1$ | $1$ | $0$ | $1$ | $0$ | $0$ | $0$ | $3$ |\n",
       "| $x_4$ |$0$ | $1$ | $0$ | $0$ | $1$ | $0$ | $0$ | $2$ |\n",
       "| $x_6$ |$1$ | $1$ | $0$ | $0$ | $0$ | $-1$ | $1$ | $1$ |\n",
       "|  | $-1$ | $-1$ | $0$ | $0$ | $0$ | $1$ | $0$ | $-1$|\n"
      ],
      "text/plain": [
       "<IPython.core.display.Markdown object>"
      ]
     },
     "metadata": {},
     "output_type": "display_data"
    },
    {
     "data": {
      "text/markdown": [
       "Choosing entering variable to be $x_0$"
      ],
      "text/plain": [
       "<IPython.core.display.Markdown object>"
      ]
     },
     "metadata": {},
     "output_type": "display_data"
    },
    {
     "data": {
      "text/markdown": [
       "Choosing departing variable to be $x_6$"
      ],
      "text/plain": [
       "<IPython.core.display.Markdown object>"
      ]
     },
     "metadata": {},
     "output_type": "display_data"
    },
    {
     "data": {
      "text/markdown": [
       "Final tableau:"
      ],
      "text/plain": [
       "<IPython.core.display.Markdown object>"
      ]
     },
     "metadata": {},
     "output_type": "display_data"
    },
    {
     "data": {
      "text/markdown": [
       "|| $x_0$| $x_1$| $x_2$| $x_3$| $x_4$| $x_5$| $x_6$ | |\n",
       "| ---- | ----| ----| ----| ----| ----| ----| ----| ---- |\n",
       "| $x_2$ |$0$ | $-1$ | $1$ | $0$ | $0$ | $1$ | $-1$ | $1$ |\n",
       "| $x_3$ |$0$ | $0$ | $0$ | $1$ | $0$ | $1$ | $-1$ | $2$ |\n",
       "| $x_4$ |$0$ | $1$ | $0$ | $0$ | $1$ | $0$ | $0$ | $2$ |\n",
       "| $x_0$ |$1$ | $1$ | $0$ | $0$ | $0$ | $-1$ | $1$ | $1$ |\n",
       "|  | $0$ | $0$ | $0$ | $0$ | $0$ | $0$ | $1$ | $0$|\n"
      ],
      "text/plain": [
       "<IPython.core.display.Markdown object>"
      ]
     },
     "metadata": {},
     "output_type": "display_data"
    },
    {
     "data": {
      "text/plain": [
       "(Matrix([\n",
       " [1],\n",
       " [0],\n",
       " [1],\n",
       " [2],\n",
       " [2],\n",
       " [0],\n",
       " [0]]), Matrix([\n",
       " [0],\n",
       " [0],\n",
       " [0],\n",
       " [0]]))"
      ]
     },
     "execution_count": 20,
     "metadata": {},
     "output_type": "execute_result"
    }
   ],
   "source": [
    "SimplexMethod(LP3)"
   ]
  },
  {
   "cell_type": "code",
   "execution_count": 21,
   "metadata": {
    "collapsed": false
   },
   "outputs": [
    {
     "name": "stdout",
     "output_type": "stream",
     "text": [
      "Using user-supplied initial basic feasible solution with basic variables [2, 3, 4, 0]\n"
     ]
    },
    {
     "data": {
      "text/markdown": [
       "|| $x_0$| $x_1$| $x_2$| $x_3$| $x_4$| $x_5$ | |\n",
       "| ---- | ----| ----| ----| ----| ----| ----| ---- |\n",
       "| $x_2$ |$0$ | $-1$ | $1$ | $0$ | $0$ | $1$ | $1$ |\n",
       "| $x_3$ |$0$ | $0$ | $0$ | $1$ | $0$ | $1$ | $2$ |\n",
       "| $x_4$ |$0$ | $1$ | $0$ | $0$ | $1$ | $0$ | $2$ |\n",
       "| $x_0$ |$1$ | $1$ | $0$ | $0$ | $0$ | $-1$ | $1$ |\n",
       "|  | $0$ | $-1$ | $0$ | $0$ | $0$ | $-3$ | $3$|\n"
      ],
      "text/plain": [
       "<IPython.core.display.Markdown object>"
      ]
     },
     "metadata": {},
     "output_type": "display_data"
    },
    {
     "data": {
      "text/markdown": [
       "Choosing entering variable to be $x_5$"
      ],
      "text/plain": [
       "<IPython.core.display.Markdown object>"
      ]
     },
     "metadata": {},
     "output_type": "display_data"
    },
    {
     "data": {
      "text/markdown": [
       "Choosing departing variable to be $x_2$"
      ],
      "text/plain": [
       "<IPython.core.display.Markdown object>"
      ]
     },
     "metadata": {},
     "output_type": "display_data"
    },
    {
     "data": {
      "text/markdown": [
       "|| $x_0$| $x_1$| $x_2$| $x_3$| $x_4$| $x_5$ | |\n",
       "| ---- | ----| ----| ----| ----| ----| ----| ---- |\n",
       "| $x_5$ |$0$ | $-1$ | $1$ | $0$ | $0$ | $1$ | $1$ |\n",
       "| $x_3$ |$0$ | $1$ | $-1$ | $1$ | $0$ | $0$ | $1$ |\n",
       "| $x_4$ |$0$ | $1$ | $0$ | $0$ | $1$ | $0$ | $2$ |\n",
       "| $x_0$ |$1$ | $0$ | $1$ | $0$ | $0$ | $0$ | $2$ |\n",
       "|  | $0$ | $-4$ | $3$ | $0$ | $0$ | $0$ | $6$|\n"
      ],
      "text/plain": [
       "<IPython.core.display.Markdown object>"
      ]
     },
     "metadata": {},
     "output_type": "display_data"
    },
    {
     "data": {
      "text/markdown": [
       "Choosing entering variable to be $x_1$"
      ],
      "text/plain": [
       "<IPython.core.display.Markdown object>"
      ]
     },
     "metadata": {},
     "output_type": "display_data"
    },
    {
     "data": {
      "text/markdown": [
       "Choosing departing variable to be $x_3$"
      ],
      "text/plain": [
       "<IPython.core.display.Markdown object>"
      ]
     },
     "metadata": {},
     "output_type": "display_data"
    },
    {
     "data": {
      "text/markdown": [
       "|| $x_0$| $x_1$| $x_2$| $x_3$| $x_4$| $x_5$ | |\n",
       "| ---- | ----| ----| ----| ----| ----| ----| ---- |\n",
       "| $x_5$ |$0$ | $0$ | $0$ | $1$ | $0$ | $1$ | $2$ |\n",
       "| $x_1$ |$0$ | $1$ | $-1$ | $1$ | $0$ | $0$ | $1$ |\n",
       "| $x_4$ |$0$ | $0$ | $1$ | $-1$ | $1$ | $0$ | $1$ |\n",
       "| $x_0$ |$1$ | $0$ | $1$ | $0$ | $0$ | $0$ | $2$ |\n",
       "|  | $0$ | $0$ | $-1$ | $4$ | $0$ | $0$ | $10$|\n"
      ],
      "text/plain": [
       "<IPython.core.display.Markdown object>"
      ]
     },
     "metadata": {},
     "output_type": "display_data"
    },
    {
     "data": {
      "text/markdown": [
       "Choosing entering variable to be $x_2$"
      ],
      "text/plain": [
       "<IPython.core.display.Markdown object>"
      ]
     },
     "metadata": {},
     "output_type": "display_data"
    },
    {
     "data": {
      "text/markdown": [
       "Choosing departing variable to be $x_4$"
      ],
      "text/plain": [
       "<IPython.core.display.Markdown object>"
      ]
     },
     "metadata": {},
     "output_type": "display_data"
    },
    {
     "data": {
      "text/markdown": [
       "Final tableau:"
      ],
      "text/plain": [
       "<IPython.core.display.Markdown object>"
      ]
     },
     "metadata": {},
     "output_type": "display_data"
    },
    {
     "data": {
      "text/markdown": [
       "|| $x_0$| $x_1$| $x_2$| $x_3$| $x_4$| $x_5$ | |\n",
       "| ---- | ----| ----| ----| ----| ----| ----| ---- |\n",
       "| $x_5$ |$0$ | $0$ | $0$ | $1$ | $0$ | $1$ | $2$ |\n",
       "| $x_1$ |$0$ | $1$ | $0$ | $0$ | $1$ | $0$ | $2$ |\n",
       "| $x_2$ |$0$ | $0$ | $1$ | $-1$ | $1$ | $0$ | $1$ |\n",
       "| $x_0$ |$1$ | $0$ | $0$ | $1$ | $-1$ | $0$ | $1$ |\n",
       "|  | $0$ | $0$ | $0$ | $3$ | $1$ | $0$ | $11$|\n"
      ],
      "text/plain": [
       "<IPython.core.display.Markdown object>"
      ]
     },
     "metadata": {},
     "output_type": "display_data"
    },
    {
     "name": "stdout",
     "output_type": "stream",
     "text": [
      "Solution = \n"
     ]
    },
    {
     "data": {
      "text/latex": [
       "$$\\left[\\begin{matrix}1\\\\2\\\\1\\\\0\\\\0\\\\2\\end{matrix}\\right]$$"
      ],
      "text/plain": [
       "<IPython.core.display.Math object>"
      ]
     },
     "metadata": {},
     "output_type": "display_data"
    },
    {
     "name": "stdout",
     "output_type": "stream",
     "text": [
      "Dual Solution = \n"
     ]
    },
    {
     "data": {
      "text/latex": [
       "$$\\left[\\begin{matrix}0\\\\3\\\\1\\\\0\\end{matrix}\\right]$$"
      ],
      "text/plain": [
       "<IPython.core.display.Math object>"
      ]
     },
     "metadata": {},
     "output_type": "display_data"
    }
   ],
   "source": [
    "(solution, dual_solution) = SimplexMethod(LP2, [2,3,4,0])\n",
    "print(\"Solution = \")\n",
    "DisplayMatrix(solution)\n",
    "print(\"Dual Solution = \")\n",
    "DisplayMatrix(dual_solution)"
   ]
  },
  {
   "cell_type": "markdown",
   "metadata": {},
   "source": [
    "# Dual Simplex Method"
   ]
  },
  {
   "cell_type": "code",
   "execution_count": 22,
   "metadata": {
    "collapsed": false
   },
   "outputs": [
    {
     "name": "stdout",
     "output_type": "stream",
     "text": [
      "Automatically detected initial basic feasible solution with basic variables [2, 3, 4]\n"
     ]
    },
    {
     "data": {
      "text/markdown": [
       "Final tableau:"
      ],
      "text/plain": [
       "<IPython.core.display.Markdown object>"
      ]
     },
     "metadata": {},
     "output_type": "display_data"
    },
    {
     "data": {
      "text/markdown": [
       "|| $x_0$| $x_1$| $x_2$| $x_3$| $x_4$ | |\n",
       "| ---- | ----| ----| ----| ----| ----| ---- |\n",
       "| $x_2$ |$1$ | $0$ | $1$ | $0$ | $0$ | $2$ |\n",
       "| $x_3$ |$1$ | $1$ | $0$ | $1$ | $0$ | $3$ |\n",
       "| $x_4$ |$0$ | $1$ | $0$ | $0$ | $1$ | $2$ |\n",
       "|  | $3$ | $4$ | $0$ | $0$ | $0$ | $0$|\n"
      ],
      "text/plain": [
       "<IPython.core.display.Markdown object>"
      ]
     },
     "metadata": {},
     "output_type": "display_data"
    }
   ],
   "source": [
    "A = Matrix([[1, 0],\n",
    "            [1, 1],\n",
    "            [0, 1]])\n",
    "b = Matrix([[2], \n",
    "            [3],\n",
    "            [2]])\n",
    "c = Matrix([[-3],\n",
    "            [-4]])\n",
    "LP1 = StandardForm(A,b,c)\n",
    "LP2 = ConvertToCanonicalForm(LP1)\n",
    "solution = SimplexMethod(LP2)"
   ]
  },
  {
   "cell_type": "code",
   "execution_count": 23,
   "metadata": {
    "collapsed": false
   },
   "outputs": [
    {
     "data": {
      "text/markdown": [
       "Maximize $c^T x$ subject to $A_I x \\leq b_I$, $A_J x = b_J$, $x_K \\geq 0$, $x_L$ unrestricted, where\n",
       "\n",
       "$$(A,b,c,I,J,K,L) = \\left(\\left[\\begin{matrix}1 & 0 & 1 & 0 & 0 & 0\\\\1 & 1 & 0 & 1 & 0 & 0\\\\0 & 1 & 0 & 0 & 1 & 0\\\\-1 & -1 & 0 & 0 & 0 & 1\\end{matrix}\\right], \\left[\\begin{matrix}2\\\\3\\\\2\\\\-1\\end{matrix}\\right], \\left[\\begin{matrix}-3\\\\-4\\\\0\\\\0\\\\0\\\\0\\end{matrix}\\right], [], [0, 1, 2, 3], [0, 1, 2, 3, 4, 5], []\\right)$$"
      ],
      "text/plain": [
       "Maximize $c^T x$ subject to $A_I x \\leq b_I$, $A_J x = b_J$, $x_K \\geq 0$, $x_L$ unrestricted, where\n",
       "\n",
       "$$(A,b,c,I,J,K,L) = \\left(\\left[\\begin{matrix}1 & 0 & 1 & 0 & 0 & 0\\\\1 & 1 & 0 & 1 & 0 & 0\\\\0 & 1 & 0 & 0 & 1 & 0\\\\-1 & -1 & 0 & 0 & 0 & 1\\end{matrix}\\right], \\left[\\begin{matrix}2\\\\3\\\\2\\\\-1\\end{matrix}\\right], \\left[\\begin{matrix}-3\\\\-4\\\\0\\\\0\\\\0\\\\0\\end{matrix}\\right], [], [0, 1, 2, 3], [0, 1, 2, 3, 4, 5], []\\right)$$"
      ]
     },
     "execution_count": 23,
     "metadata": {},
     "output_type": "execute_result"
    }
   ],
   "source": [
    "A = Matrix([[1, 0],\n",
    "            [1, 1],\n",
    "            [0, 1],\n",
    "            [-1, -1]])\n",
    "b = Matrix([[2], \n",
    "            [3],\n",
    "            [2],\n",
    "            [-1]])\n",
    "c = Matrix([[-3],\n",
    "            [-4]])\n",
    "LP1 = StandardForm(A,b,c)\n",
    "LP2 = ConvertToCanonicalForm(LP1)\n",
    "LP2"
   ]
  },
  {
   "cell_type": "code",
   "execution_count": 24,
   "metadata": {
    "collapsed": false
   },
   "outputs": [
    {
     "name": "stdout",
     "output_type": "stream",
     "text": [
      "Using user-supplied initial basic dual feasible solution with basic variables [2, 3, 4, 5]\n"
     ]
    },
    {
     "data": {
      "text/markdown": [
       "|| $x_0$| $x_1$| $x_2$| $x_3$| $x_4$| $x_5$ | |\n",
       "| ---- | ----| ----| ----| ----| ----| ----| ---- |\n",
       "| $x_2$ |$1$ | $0$ | $1$ | $0$ | $0$ | $0$ | $2$ |\n",
       "| $x_3$ |$1$ | $1$ | $0$ | $1$ | $0$ | $0$ | $3$ |\n",
       "| $x_4$ |$0$ | $1$ | $0$ | $0$ | $1$ | $0$ | $2$ |\n",
       "| $x_5$ |$-1$ | $-1$ | $0$ | $0$ | $0$ | $1$ | $-1$ |\n",
       "|  | $3$ | $4$ | $0$ | $0$ | $0$ | $0$ | $0$|\n"
      ],
      "text/plain": [
       "<IPython.core.display.Markdown object>"
      ]
     },
     "metadata": {},
     "output_type": "display_data"
    },
    {
     "data": {
      "text/markdown": [
       "Choosing departing variable to be $x_5$"
      ],
      "text/plain": [
       "<IPython.core.display.Markdown object>"
      ]
     },
     "metadata": {},
     "output_type": "display_data"
    },
    {
     "data": {
      "text/markdown": [
       "Choosing entering variable to be $x_0$"
      ],
      "text/plain": [
       "<IPython.core.display.Markdown object>"
      ]
     },
     "metadata": {},
     "output_type": "display_data"
    },
    {
     "data": {
      "text/markdown": [
       "Final tableau:"
      ],
      "text/plain": [
       "<IPython.core.display.Markdown object>"
      ]
     },
     "metadata": {},
     "output_type": "display_data"
    },
    {
     "data": {
      "text/markdown": [
       "|| $x_0$| $x_1$| $x_2$| $x_3$| $x_4$| $x_5$ | |\n",
       "| ---- | ----| ----| ----| ----| ----| ----| ---- |\n",
       "| $x_2$ |$0$ | $-1$ | $1$ | $0$ | $0$ | $1$ | $1$ |\n",
       "| $x_3$ |$0$ | $0$ | $0$ | $1$ | $0$ | $1$ | $2$ |\n",
       "| $x_4$ |$0$ | $1$ | $0$ | $0$ | $1$ | $0$ | $2$ |\n",
       "| $x_0$ |$1$ | $1$ | $0$ | $0$ | $0$ | $-1$ | $1$ |\n",
       "|  | $0$ | $1$ | $0$ | $0$ | $0$ | $3$ | $-3$|\n"
      ],
      "text/plain": [
       "<IPython.core.display.Markdown object>"
      ]
     },
     "metadata": {},
     "output_type": "display_data"
    }
   ],
   "source": [
    "solution = DualSimplexMethod(LP2, [2,3,4,5])"
   ]
  },
  {
   "cell_type": "markdown",
   "metadata": {},
   "source": [
    "# Problem 8, Section 3.3"
   ]
  },
  {
   "cell_type": "code",
   "execution_count": 25,
   "metadata": {
    "collapsed": true
   },
   "outputs": [],
   "source": [
    "A = Matrix([[5, 1, 3],\n",
    "            [-5, -1, -3],\n",
    "            [2, 4, 7],\n",
    "            [-2, -4, -7],\n",
    "            [1, 1, 1]])\n",
    "b = Matrix([[4], \n",
    "            [-2],\n",
    "            [5],\n",
    "            [-3],\n",
    "            [1]])\n",
    "c = Matrix([[-8],\n",
    "            [-6],\n",
    "            [-11]])\n",
    "I = [0,1,2,3]\n",
    "J = [4]\n",
    "K = [0,1,2]\n",
    "L = []"
   ]
  },
  {
   "cell_type": "code",
   "execution_count": 26,
   "metadata": {
    "collapsed": true
   },
   "outputs": [],
   "source": [
    "LP = LinearProgram(A,b,c,I,J,K,L)"
   ]
  },
  {
   "cell_type": "code",
   "execution_count": 27,
   "metadata": {
    "collapsed": false
   },
   "outputs": [
    {
     "data": {
      "text/markdown": [
       "Maximize $c^T x$ subject to $A_I x \\leq b_I$, $A_J x = b_J$, $x_K \\geq 0$, $x_L$ unrestricted, where\n",
       "\n",
       "$$(A,b,c,I,J,K,L) = \\left(\\left[\\begin{matrix}5 & 1 & 3\\\\-5 & -1 & -3\\\\2 & 4 & 7\\\\-2 & -4 & -7\\\\1 & 1 & 1\\end{matrix}\\right], \\left[\\begin{matrix}4\\\\-2\\\\5\\\\-3\\\\1\\end{matrix}\\right], \\left[\\begin{matrix}-8\\\\-6\\\\-11\\end{matrix}\\right], [0, 1, 2, 3], [4], [0, 1, 2], []\\right)$$"
      ],
      "text/plain": [
       "Maximize $c^T x$ subject to $A_I x \\leq b_I$, $A_J x = b_J$, $x_K \\geq 0$, $x_L$ unrestricted, where\n",
       "\n",
       "$$(A,b,c,I,J,K,L) = \\left(\\left[\\begin{matrix}5 & 1 & 3\\\\-5 & -1 & -3\\\\2 & 4 & 7\\\\-2 & -4 & -7\\\\1 & 1 & 1\\end{matrix}\\right], \\left[\\begin{matrix}4\\\\-2\\\\5\\\\-3\\\\1\\end{matrix}\\right], \\left[\\begin{matrix}-8\\\\-6\\\\-11\\end{matrix}\\right], [0, 1, 2, 3], [4], [0, 1, 2], []\\right)$$"
      ]
     },
     "execution_count": 27,
     "metadata": {},
     "output_type": "execute_result"
    }
   ],
   "source": [
    "LP"
   ]
  },
  {
   "cell_type": "code",
   "execution_count": 28,
   "metadata": {
    "collapsed": true
   },
   "outputs": [],
   "source": [
    "LP_Canonical = ConvertToCanonicalForm(LP)"
   ]
  },
  {
   "cell_type": "code",
   "execution_count": 29,
   "metadata": {
    "collapsed": false
   },
   "outputs": [
    {
     "data": {
      "text/markdown": [
       "Maximize $c^T x$ subject to $A_I x \\leq b_I$, $A_J x = b_J$, $x_K \\geq 0$, $x_L$ unrestricted, where\n",
       "\n",
       "$$(A,b,c,I,J,K,L) = \\left(\\left[\\begin{matrix}5 & 1 & 3 & 1 & 0 & 0 & 0\\\\-5 & -1 & -3 & 0 & 1 & 0 & 0\\\\2 & 4 & 7 & 0 & 0 & 1 & 0\\\\-2 & -4 & -7 & 0 & 0 & 0 & 1\\\\1 & 1 & 1 & 0 & 0 & 0 & 0\\end{matrix}\\right], \\left[\\begin{matrix}4\\\\-2\\\\5\\\\-3\\\\1\\end{matrix}\\right], \\left[\\begin{matrix}-8\\\\-6\\\\-11\\\\0\\\\0\\\\0\\\\0\\end{matrix}\\right], [], [0, 1, 2, 3, 4], [0, 1, 2, 3, 4, 5, 6], []\\right)$$"
      ],
      "text/plain": [
       "Maximize $c^T x$ subject to $A_I x \\leq b_I$, $A_J x = b_J$, $x_K \\geq 0$, $x_L$ unrestricted, where\n",
       "\n",
       "$$(A,b,c,I,J,K,L) = \\left(\\left[\\begin{matrix}5 & 1 & 3 & 1 & 0 & 0 & 0\\\\-5 & -1 & -3 & 0 & 1 & 0 & 0\\\\2 & 4 & 7 & 0 & 0 & 1 & 0\\\\-2 & -4 & -7 & 0 & 0 & 0 & 1\\\\1 & 1 & 1 & 0 & 0 & 0 & 0\\end{matrix}\\right], \\left[\\begin{matrix}4\\\\-2\\\\5\\\\-3\\\\1\\end{matrix}\\right], \\left[\\begin{matrix}-8\\\\-6\\\\-11\\\\0\\\\0\\\\0\\\\0\\end{matrix}\\right], [], [0, 1, 2, 3, 4], [0, 1, 2, 3, 4, 5, 6], []\\right)$$"
      ]
     },
     "execution_count": 29,
     "metadata": {},
     "output_type": "execute_result"
    }
   ],
   "source": [
    "LP_Canonical"
   ]
  },
  {
   "cell_type": "code",
   "execution_count": 30,
   "metadata": {
    "collapsed": false
   },
   "outputs": [],
   "source": [
    "#SimplexMethod(LP_Canonical)"
   ]
  },
  {
   "cell_type": "code",
   "execution_count": 31,
   "metadata": {
    "collapsed": true
   },
   "outputs": [],
   "source": [
    "LP_Auxiliary = AuxiliaryForm(LP_Canonical)"
   ]
  },
  {
   "cell_type": "code",
   "execution_count": 32,
   "metadata": {
    "collapsed": false
   },
   "outputs": [
    {
     "data": {
      "text/markdown": [
       "Maximize $c^T x$ subject to $A_I x \\leq b_I$, $A_J x = b_J$, $x_K \\geq 0$, $x_L$ unrestricted, where\n",
       "\n",
       "$$(A,b,c,I,J,K,L) = \\left(\\left[\\begin{matrix}5 & 1 & 3 & 1 & 0 & 0 & 0 & 0 & 0 & 0\\\\5 & 1 & 3 & 0 & -1 & 0 & 0 & 1 & 0 & 0\\\\2 & 4 & 7 & 0 & 0 & 1 & 0 & 0 & 0 & 0\\\\2 & 4 & 7 & 0 & 0 & 0 & -1 & 0 & 1 & 0\\\\1 & 1 & 1 & 0 & 0 & 0 & 0 & 0 & 0 & 1\\end{matrix}\\right], \\left[\\begin{matrix}4\\\\2\\\\5\\\\3\\\\1\\end{matrix}\\right], \\left[\\begin{matrix}0\\\\0\\\\0\\\\0\\\\0\\\\0\\\\0\\\\-1\\\\-1\\\\-1\\end{matrix}\\right], [], [0, 1, 2, 3, 4], [0, 1, 2, 3, 4, 5, 6, 7, 8, 9], []\\right)$$"
      ],
      "text/plain": [
       "Maximize $c^T x$ subject to $A_I x \\leq b_I$, $A_J x = b_J$, $x_K \\geq 0$, $x_L$ unrestricted, where\n",
       "\n",
       "$$(A,b,c,I,J,K,L) = \\left(\\left[\\begin{matrix}5 & 1 & 3 & 1 & 0 & 0 & 0 & 0 & 0 & 0\\\\5 & 1 & 3 & 0 & -1 & 0 & 0 & 1 & 0 & 0\\\\2 & 4 & 7 & 0 & 0 & 1 & 0 & 0 & 0 & 0\\\\2 & 4 & 7 & 0 & 0 & 0 & -1 & 0 & 1 & 0\\\\1 & 1 & 1 & 0 & 0 & 0 & 0 & 0 & 0 & 1\\end{matrix}\\right], \\left[\\begin{matrix}4\\\\2\\\\5\\\\3\\\\1\\end{matrix}\\right], \\left[\\begin{matrix}0\\\\0\\\\0\\\\0\\\\0\\\\0\\\\0\\\\-1\\\\-1\\\\-1\\end{matrix}\\right], [], [0, 1, 2, 3, 4], [0, 1, 2, 3, 4, 5, 6, 7, 8, 9], []\\right)$$"
      ]
     },
     "execution_count": 32,
     "metadata": {},
     "output_type": "execute_result"
    }
   ],
   "source": [
    "LP_Auxiliary"
   ]
  },
  {
   "cell_type": "code",
   "execution_count": 33,
   "metadata": {
    "collapsed": false
   },
   "outputs": [
    {
     "name": "stdout",
     "output_type": "stream",
     "text": [
      "Automatically detected initial basic feasible solution with basic variables [3, 7, 5, 8, 9]\n"
     ]
    },
    {
     "data": {
      "text/markdown": [
       "|| $x_0$| $x_1$| $x_2$| $x_3$| $x_4$| $x_5$| $x_6$| $x_7$| $x_8$| $x_9$ | |\n",
       "| ---- | ----| ----| ----| ----| ----| ----| ----| ----| ----| ----| ---- |\n",
       "| $x_3$ |$5$ | $1$ | $3$ | $1$ | $0$ | $0$ | $0$ | $0$ | $0$ | $0$ | $4$ |\n",
       "| $x_7$ |$5$ | $1$ | $3$ | $0$ | $-1$ | $0$ | $0$ | $1$ | $0$ | $0$ | $2$ |\n",
       "| $x_5$ |$2$ | $4$ | $7$ | $0$ | $0$ | $1$ | $0$ | $0$ | $0$ | $0$ | $5$ |\n",
       "| $x_8$ |$2$ | $4$ | $7$ | $0$ | $0$ | $0$ | $-1$ | $0$ | $1$ | $0$ | $3$ |\n",
       "| $x_9$ |$1$ | $1$ | $1$ | $0$ | $0$ | $0$ | $0$ | $0$ | $0$ | $1$ | $1$ |\n",
       "|  | $-8$ | $-6$ | $-11$ | $0$ | $1$ | $0$ | $1$ | $0$ | $0$ | $0$ | $-6$|\n"
      ],
      "text/plain": [
       "<IPython.core.display.Markdown object>"
      ]
     },
     "metadata": {},
     "output_type": "display_data"
    },
    {
     "data": {
      "text/markdown": [
       "Choosing entering variable to be $x_2$"
      ],
      "text/plain": [
       "<IPython.core.display.Markdown object>"
      ]
     },
     "metadata": {},
     "output_type": "display_data"
    },
    {
     "data": {
      "text/markdown": [
       "Choosing departing variable to be $x_8$"
      ],
      "text/plain": [
       "<IPython.core.display.Markdown object>"
      ]
     },
     "metadata": {},
     "output_type": "display_data"
    },
    {
     "data": {
      "text/markdown": [
       "|| $x_0$| $x_1$| $x_2$| $x_3$| $x_4$| $x_5$| $x_6$| $x_7$| $x_8$| $x_9$ | |\n",
       "| ---- | ----| ----| ----| ----| ----| ----| ----| ----| ----| ----| ---- |\n",
       "| $x_3$ |$29/7$ | $-5/7$ | $0$ | $1$ | $0$ | $0$ | $3/7$ | $0$ | $-3/7$ | $0$ | $19/7$ |\n",
       "| $x_7$ |$29/7$ | $-5/7$ | $0$ | $0$ | $-1$ | $0$ | $3/7$ | $1$ | $-3/7$ | $0$ | $5/7$ |\n",
       "| $x_5$ |$0$ | $0$ | $0$ | $0$ | $0$ | $1$ | $1$ | $0$ | $-1$ | $0$ | $2$ |\n",
       "| $x_2$ |$2/7$ | $4/7$ | $1$ | $0$ | $0$ | $0$ | $-1/7$ | $0$ | $1/7$ | $0$ | $3/7$ |\n",
       "| $x_9$ |$5/7$ | $3/7$ | $0$ | $0$ | $0$ | $0$ | $1/7$ | $0$ | $-1/7$ | $1$ | $4/7$ |\n",
       "|  | $-34/7$ | $2/7$ | $0$ | $0$ | $1$ | $0$ | $-4/7$ | $0$ | $11/7$ | $0$ | $-9/7$|\n"
      ],
      "text/plain": [
       "<IPython.core.display.Markdown object>"
      ]
     },
     "metadata": {},
     "output_type": "display_data"
    },
    {
     "data": {
      "text/markdown": [
       "Choosing entering variable to be $x_0$"
      ],
      "text/plain": [
       "<IPython.core.display.Markdown object>"
      ]
     },
     "metadata": {},
     "output_type": "display_data"
    },
    {
     "data": {
      "text/markdown": [
       "Choosing departing variable to be $x_7$"
      ],
      "text/plain": [
       "<IPython.core.display.Markdown object>"
      ]
     },
     "metadata": {},
     "output_type": "display_data"
    },
    {
     "data": {
      "text/markdown": [
       "|| $x_0$| $x_1$| $x_2$| $x_3$| $x_4$| $x_5$| $x_6$| $x_7$| $x_8$| $x_9$ | |\n",
       "| ---- | ----| ----| ----| ----| ----| ----| ----| ----| ----| ----| ---- |\n",
       "| $x_3$ |$0$ | $0$ | $0$ | $1$ | $1$ | $0$ | $0$ | $-1$ | $0$ | $0$ | $2$ |\n",
       "| $x_0$ |$1$ | $-5/29$ | $0$ | $0$ | $-7/29$ | $0$ | $3/29$ | $7/29$ | $-3/29$ | $0$ | $5/29$ |\n",
       "| $x_5$ |$0$ | $0$ | $0$ | $0$ | $0$ | $1$ | $1$ | $0$ | $-1$ | $0$ | $2$ |\n",
       "| $x_2$ |$0$ | $18/29$ | $1$ | $0$ | $2/29$ | $0$ | $-5/29$ | $-2/29$ | $5/29$ | $0$ | $11/29$ |\n",
       "| $x_9$ |$0$ | $16/29$ | $0$ | $0$ | $5/29$ | $0$ | $2/29$ | $-5/29$ | $-2/29$ | $1$ | $13/29$ |\n",
       "|  | $0$ | $-16/29$ | $0$ | $0$ | $-5/29$ | $0$ | $-2/29$ | $34/29$ | $31/29$ | $0$ | $-13/29$|\n"
      ],
      "text/plain": [
       "<IPython.core.display.Markdown object>"
      ]
     },
     "metadata": {},
     "output_type": "display_data"
    },
    {
     "data": {
      "text/markdown": [
       "Choosing entering variable to be $x_1$"
      ],
      "text/plain": [
       "<IPython.core.display.Markdown object>"
      ]
     },
     "metadata": {},
     "output_type": "display_data"
    },
    {
     "data": {
      "text/markdown": [
       "Choosing departing variable to be $x_2$"
      ],
      "text/plain": [
       "<IPython.core.display.Markdown object>"
      ]
     },
     "metadata": {},
     "output_type": "display_data"
    },
    {
     "data": {
      "text/markdown": [
       "|| $x_0$| $x_1$| $x_2$| $x_3$| $x_4$| $x_5$| $x_6$| $x_7$| $x_8$| $x_9$ | |\n",
       "| ---- | ----| ----| ----| ----| ----| ----| ----| ----| ----| ----| ---- |\n",
       "| $x_3$ |$0$ | $0$ | $0$ | $1$ | $1$ | $0$ | $0$ | $-1$ | $0$ | $0$ | $2$ |\n",
       "| $x_0$ |$1$ | $0$ | $5/18$ | $0$ | $-2/9$ | $0$ | $1/18$ | $2/9$ | $-1/18$ | $0$ | $5/18$ |\n",
       "| $x_5$ |$0$ | $0$ | $0$ | $0$ | $0$ | $1$ | $1$ | $0$ | $-1$ | $0$ | $2$ |\n",
       "| $x_1$ |$0$ | $1$ | $29/18$ | $0$ | $1/9$ | $0$ | $-5/18$ | $-1/9$ | $5/18$ | $0$ | $11/18$ |\n",
       "| $x_9$ |$0$ | $0$ | $-8/9$ | $0$ | $1/9$ | $0$ | $2/9$ | $-1/9$ | $-2/9$ | $1$ | $1/9$ |\n",
       "|  | $0$ | $0$ | $8/9$ | $0$ | $-1/9$ | $0$ | $-2/9$ | $10/9$ | $11/9$ | $0$ | $-1/9$|\n"
      ],
      "text/plain": [
       "<IPython.core.display.Markdown object>"
      ]
     },
     "metadata": {},
     "output_type": "display_data"
    },
    {
     "data": {
      "text/markdown": [
       "Choosing entering variable to be $x_6$"
      ],
      "text/plain": [
       "<IPython.core.display.Markdown object>"
      ]
     },
     "metadata": {},
     "output_type": "display_data"
    },
    {
     "data": {
      "text/markdown": [
       "Choosing departing variable to be $x_9$"
      ],
      "text/plain": [
       "<IPython.core.display.Markdown object>"
      ]
     },
     "metadata": {},
     "output_type": "display_data"
    },
    {
     "data": {
      "text/markdown": [
       "Final tableau:"
      ],
      "text/plain": [
       "<IPython.core.display.Markdown object>"
      ]
     },
     "metadata": {},
     "output_type": "display_data"
    },
    {
     "data": {
      "text/markdown": [
       "|| $x_0$| $x_1$| $x_2$| $x_3$| $x_4$| $x_5$| $x_6$| $x_7$| $x_8$| $x_9$ | |\n",
       "| ---- | ----| ----| ----| ----| ----| ----| ----| ----| ----| ----| ---- |\n",
       "| $x_3$ |$0$ | $0$ | $0$ | $1$ | $1$ | $0$ | $0$ | $-1$ | $0$ | $0$ | $2$ |\n",
       "| $x_0$ |$1$ | $0$ | $1/2$ | $0$ | $-1/4$ | $0$ | $0$ | $1/4$ | $0$ | $-1/4$ | $1/4$ |\n",
       "| $x_5$ |$0$ | $0$ | $4$ | $0$ | $-1/2$ | $1$ | $0$ | $1/2$ | $0$ | $-9/2$ | $3/2$ |\n",
       "| $x_1$ |$0$ | $1$ | $1/2$ | $0$ | $1/4$ | $0$ | $0$ | $-1/4$ | $0$ | $5/4$ | $3/4$ |\n",
       "| $x_6$ |$0$ | $0$ | $-4$ | $0$ | $1/2$ | $0$ | $1$ | $-1/2$ | $-1$ | $9/2$ | $1/2$ |\n",
       "|  | $0$ | $0$ | $0$ | $0$ | $0$ | $0$ | $0$ | $1$ | $1$ | $1$ | $0$|\n"
      ],
      "text/plain": [
       "<IPython.core.display.Markdown object>"
      ]
     },
     "metadata": {},
     "output_type": "display_data"
    }
   ],
   "source": [
    "(solution, dual_solution) = SimplexMethod(LP_Auxiliary)"
   ]
  },
  {
   "cell_type": "code",
   "execution_count": 34,
   "metadata": {
    "collapsed": false
   },
   "outputs": [
    {
     "name": "stdout",
     "output_type": "stream",
     "text": [
      "Using user-supplied initial basic feasible solution with basic variables [3, 0, 5, 1, 6]\n"
     ]
    },
    {
     "data": {
      "text/markdown": [
       "Final tableau:"
      ],
      "text/plain": [
       "<IPython.core.display.Markdown object>"
      ]
     },
     "metadata": {},
     "output_type": "display_data"
    },
    {
     "data": {
      "text/markdown": [
       "|| $x_0$| $x_1$| $x_2$| $x_3$| $x_4$| $x_5$| $x_6$ | |\n",
       "| ---- | ----| ----| ----| ----| ----| ----| ----| ---- |\n",
       "| $x_3$ |$0$ | $0$ | $0$ | $1$ | $1$ | $0$ | $0$ | $2$ |\n",
       "| $x_0$ |$1$ | $0$ | $1/2$ | $0$ | $-1/4$ | $0$ | $0$ | $1/4$ |\n",
       "| $x_5$ |$0$ | $0$ | $4$ | $0$ | $-1/2$ | $1$ | $0$ | $3/2$ |\n",
       "| $x_1$ |$0$ | $1$ | $1/2$ | $0$ | $1/4$ | $0$ | $0$ | $3/4$ |\n",
       "| $x_6$ |$0$ | $0$ | $-4$ | $0$ | $1/2$ | $0$ | $1$ | $1/2$ |\n",
       "|  | $0$ | $0$ | $4$ | $0$ | $1/2$ | $0$ | $0$ | $-13/2$|\n"
      ],
      "text/plain": [
       "<IPython.core.display.Markdown object>"
      ]
     },
     "metadata": {},
     "output_type": "display_data"
    }
   ],
   "source": [
    "(solution,dual_solution) = SimplexMethod(LP_Canonical, [3,0,5,1,6])"
   ]
  },
  {
   "cell_type": "code",
   "execution_count": 35,
   "metadata": {
    "collapsed": false
   },
   "outputs": [
    {
     "data": {
      "text/latex": [
       "$$\\left[\\begin{matrix}\\frac{1}{4}\\\\\\frac{3}{4}\\\\0\\\\2\\\\0\\\\\\frac{3}{2}\\\\\\frac{1}{2}\\end{matrix}\\right]$$"
      ],
      "text/plain": [
       "<IPython.core.display.Math object>"
      ]
     },
     "metadata": {},
     "output_type": "display_data"
    },
    {
     "data": {
      "text/latex": [
       "$$\\left[\\begin{matrix}0\\\\\\frac{1}{2}\\\\0\\\\0\\\\- \\frac{11}{2}\\end{matrix}\\right]$$"
      ],
      "text/plain": [
       "<IPython.core.display.Math object>"
      ]
     },
     "metadata": {},
     "output_type": "display_data"
    }
   ],
   "source": [
    "DisplayMatrix(solution)\n",
    "DisplayMatrix(dual_solution)"
   ]
  },
  {
   "cell_type": "code",
   "execution_count": 36,
   "metadata": {
    "collapsed": true
   },
   "outputs": [],
   "source": [
    "Dual_LP = Dual(LP)"
   ]
  },
  {
   "cell_type": "code",
   "execution_count": 37,
   "metadata": {
    "collapsed": false
   },
   "outputs": [
    {
     "data": {
      "text/markdown": [
       "Maximize $c^T x$ subject to $A_I x \\leq b_I$, $A_J x = b_J$, $x_K \\geq 0$, $x_L$ unrestricted, where\n",
       "\n",
       "$$(A,b,c,I,J,K,L) = \\left(\\left[\\begin{matrix}-5 & 5 & -2 & 2 & -1\\\\-1 & 1 & -4 & 4 & -1\\\\-3 & 3 & -7 & 7 & -1\\end{matrix}\\right], \\left[\\begin{matrix}8\\\\6\\\\11\\end{matrix}\\right], \\left[\\begin{matrix}-4\\\\2\\\\-5\\\\3\\\\-1\\end{matrix}\\right], [0, 1, 2], [], [0, 1, 2, 3], [4]\\right)$$"
      ],
      "text/plain": [
       "Maximize $c^T x$ subject to $A_I x \\leq b_I$, $A_J x = b_J$, $x_K \\geq 0$, $x_L$ unrestricted, where\n",
       "\n",
       "$$(A,b,c,I,J,K,L) = \\left(\\left[\\begin{matrix}-5 & 5 & -2 & 2 & -1\\\\-1 & 1 & -4 & 4 & -1\\\\-3 & 3 & -7 & 7 & -1\\end{matrix}\\right], \\left[\\begin{matrix}8\\\\6\\\\11\\end{matrix}\\right], \\left[\\begin{matrix}-4\\\\2\\\\-5\\\\3\\\\-1\\end{matrix}\\right], [0, 1, 2], [], [0, 1, 2, 3], [4]\\right)$$"
      ]
     },
     "execution_count": 37,
     "metadata": {},
     "output_type": "execute_result"
    }
   ],
   "source": [
    "Dual_LP"
   ]
  },
  {
   "cell_type": "markdown",
   "metadata": {},
   "source": [
    "# Unrestricted problem converted to canonical form"
   ]
  },
  {
   "cell_type": "code",
   "execution_count": 38,
   "metadata": {
    "collapsed": false
   },
   "outputs": [],
   "source": [
    "A = Matrix([[1, 1],\n",
    "            [1,-1],\n",
    "            [-1,1],\n",
    "            [-1,-1]])\n",
    "b = Matrix([[1], \n",
    "            [1],\n",
    "            [1],\n",
    "            [1]])\n",
    "c = Matrix([[2],\n",
    "            [3]])\n",
    "I = [0,1,2,3]\n",
    "J = []\n",
    "K = []\n",
    "L = [0,1]"
   ]
  },
  {
   "cell_type": "code",
   "execution_count": 39,
   "metadata": {
    "collapsed": true
   },
   "outputs": [],
   "source": [
    "LP_Unrestricted = LinearProgram(A,b,c,I,J,K,L)"
   ]
  },
  {
   "cell_type": "code",
   "execution_count": 40,
   "metadata": {
    "collapsed": true
   },
   "outputs": [],
   "source": [
    "LP_U_Can = ConvertToCanonicalForm(LP_Unrestricted)"
   ]
  },
  {
   "cell_type": "code",
   "execution_count": 41,
   "metadata": {
    "collapsed": false
   },
   "outputs": [
    {
     "data": {
      "text/markdown": [
       "Maximize $c^T x$ subject to $A_I x \\leq b_I$, $A_J x = b_J$, $x_K \\geq 0$, $x_L$ unrestricted, where\n",
       "\n",
       "$$(A,b,c,I,J,K,L) = \\left(\\left[\\begin{matrix}1 & 1 & -1 & -1 & 1 & 0 & 0 & 0\\\\1 & -1 & -1 & 1 & 0 & 1 & 0 & 0\\\\-1 & 1 & 1 & -1 & 0 & 0 & 1 & 0\\\\-1 & -1 & 1 & 1 & 0 & 0 & 0 & 1\\end{matrix}\\right], \\left[\\begin{matrix}1\\\\1\\\\1\\\\1\\end{matrix}\\right], \\left[\\begin{matrix}2\\\\3\\\\-2\\\\-3\\\\0\\\\0\\\\0\\\\0\\end{matrix}\\right], [], [0, 1, 2, 3], [0, 1, 2, 3, 4, 5, 6, 7], []\\right)$$"
      ],
      "text/plain": [
       "Maximize $c^T x$ subject to $A_I x \\leq b_I$, $A_J x = b_J$, $x_K \\geq 0$, $x_L$ unrestricted, where\n",
       "\n",
       "$$(A,b,c,I,J,K,L) = \\left(\\left[\\begin{matrix}1 & 1 & -1 & -1 & 1 & 0 & 0 & 0\\\\1 & -1 & -1 & 1 & 0 & 1 & 0 & 0\\\\-1 & 1 & 1 & -1 & 0 & 0 & 1 & 0\\\\-1 & -1 & 1 & 1 & 0 & 0 & 0 & 1\\end{matrix}\\right], \\left[\\begin{matrix}1\\\\1\\\\1\\\\1\\end{matrix}\\right], \\left[\\begin{matrix}2\\\\3\\\\-2\\\\-3\\\\0\\\\0\\\\0\\\\0\\end{matrix}\\right], [], [0, 1, 2, 3], [0, 1, 2, 3, 4, 5, 6, 7], []\\right)$$"
      ]
     },
     "execution_count": 41,
     "metadata": {},
     "output_type": "execute_result"
    }
   ],
   "source": [
    "LP_U_Can"
   ]
  },
  {
   "cell_type": "code",
   "execution_count": null,
   "metadata": {
    "collapsed": true
   },
   "outputs": [],
   "source": []
  }
 ],
 "metadata": {
  "anaconda-cloud": {},
  "celltoolbar": "Raw Cell Format",
  "kernelspec": {
   "display_name": "Python 2",
   "language": "python",
   "name": "python2"
  },
  "language_info": {
   "codemirror_mode": {
    "name": "ipython",
    "version": 2
   },
   "file_extension": ".py",
   "mimetype": "text/x-python",
   "name": "python",
   "nbconvert_exporter": "python",
   "pygments_lexer": "ipython2",
   "version": "2.7.13"
  }
 },
 "nbformat": 4,
 "nbformat_minor": 1
}
