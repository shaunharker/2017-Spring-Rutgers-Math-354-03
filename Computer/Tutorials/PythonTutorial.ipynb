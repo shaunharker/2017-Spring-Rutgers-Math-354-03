{
 "cells": [
  {
   "cell_type": "markdown",
   "metadata": {},
   "source": [
    "# Python Tutorial"
   ]
  },
  {
   "cell_type": "markdown",
   "metadata": {},
   "source": [
    "## Python Basics\n",
    "\n",
    "The easiest way to begin is to show some very simple commands and programs and explain how they work.\n",
    "\n",
    "Typically people start with the famous [\"Hello, world!\" program]( https://en.wikipedia.org/wiki/%22Hello,_World!%22_program).\n",
    "\n",
    "In Python this is a one-liner:"
   ]
  },
  {
   "cell_type": "code",
   "execution_count": null,
   "metadata": {
    "collapsed": false
   },
   "outputs": [],
   "source": [
    "print(\"Hello, world!\")"
   ]
  },
  {
   "cell_type": "markdown",
   "metadata": {},
   "source": [
    "You can click on the cell and hit `shift-enter` to execute it. It should output the text `Hello, world!`, naturally.\n",
    "\n",
    "To understand this one-line program there are only a few ingredients to look at:\n",
    "\n",
    "* The `print` function\n",
    "* The text `\"Hello, world!\"`\n",
    "* Parentheses enclosing `\"Hello, world!`\n",
    "\n",
    "A reasonable understanding of what has happened at this point is that there is a function named `print`, and we call it by handing it an _input argument_ which is enclosed the parentheses. In the `Hello, world!` example the input argument was the _string_ (\"string\"s are what text is called in programming languages) `\"Hello, world!\"`. The function `print` accepts the input argument and then performs its action of printing text corresponding to the input argument to the screen.\n",
    "\n",
    "Let's try some other examples. I assume, of course, that you've read [The Hitchhiker's Guide to the Galaxy](https://en.wikipedia.org/wiki/The_Hitchhiker%27s_Guide_to_the_Galaxy_(novel):"
   ]
  },
  {
   "cell_type": "code",
   "execution_count": null,
   "metadata": {
    "collapsed": false
   },
   "outputs": [],
   "source": [
    "print(42)\n",
    "print(42.0)\n",
    "print(\"The answer is 42.\")\n",
    "print([4,2])"
   ]
  },
  {
   "cell_type": "markdown",
   "metadata": {},
   "source": [
    "In the example above we printed five different things. In order, we had:\n",
    "\n",
    "* An `int` (as in \"**int**eger\") `42`\n",
    "* A `float` (as in \"**float**ing point number\") `42.0`\n",
    "* A `str` (as in \"a **str**ing of characters\")\n",
    "* A `list` (as in \"**list** of items\")\n",
    "\n",
    "These four things `int`, `float`, `string`, and `list` are what we call _data types_. The reason for this name is that they are each data, but of a different type. Let's discuss them briefly in turn."
   ]
  },
  {
   "cell_type": "markdown",
   "metadata": {},
   "source": [
    "### The type `int`\n",
    "\n",
    "The data type `int` is for representing integers. These are whole numbers, either positive, zero, or negative. \n",
    "\n",
    "You will probably not be surprised to hear that we can do more with integers than just type them out and `print` them. We can also add them, subtract them, multiply them, etc.\n",
    "\n",
    "Here are a few examples:"
   ]
  },
  {
   "cell_type": "code",
   "execution_count": null,
   "metadata": {
    "collapsed": false
   },
   "outputs": [],
   "source": [
    "print(40 + 2)      # Addition\n",
    "print(44 - 2)      # Subtraction\n",
    "print(6 * 7)       # Multiplication\n",
    "print(84 / 2)      # Division\n",
    "print( 142 % 100 ) # Modulus\n",
    "print(85 // 2)     # Floor division\n",
    "print( 42 ** 1 )   # Power (note we do not use ^ for power -- that actually does something else!)"
   ]
  },
  {
   "cell_type": "markdown",
   "metadata": {},
   "source": [
    "A bit of a caveat about division. There are actually two flavors of Python; the older `2.*` versions, and the newer `3.*` versions. The older versions, when given something like `5/2`, will actually return `2`. The reason is because they want to divide integers and return an integer, so what it does is it always rounds down to an integer result. This is called _floor division_. If you want the remainder, you can get it with the \"modulus\" operator `%`. For example `142 % 100` divides `142` by `100` and returns the remainder, which is `42`.\n",
    "\n",
    "In Python `3.*`, this behavior was changed. The `/` operator no longer does floor division, but instead does what most people want and returns a non-integer type if it must. If one really wants floor division after all they can use the operator `//`. "
   ]
  },
  {
   "cell_type": "markdown",
   "metadata": {},
   "source": [
    "### The type `float`\n",
    "\n",
    "The data type `float` is for representing machine-precision numbers (like any calculator that truncates after a certain number of digits of accuracy). \n",
    "\n",
    "Again, you get all the same arithmetic operations. When you print a float it will print a `.0` after it in order to let you know it is a floating point value and not an integer value. (\"Hold it right there!\" you might say. \"42.0 _is_ an integer.\" Yes, you are right. But it is not _represented_ as an integer. But Python won't give us too hard a time about this, and will let you mix the breeds. I can add an `int` to a `float` and it will just give me a `float`."
   ]
  },
  {
   "cell_type": "code",
   "execution_count": null,
   "metadata": {
    "collapsed": false
   },
   "outputs": [],
   "source": [
    "print(42.0)  # Typing the .0 makes it a floating point\n",
    "print(42.)  # ...or just typing the decimal point suffices\n",
    "print(float(42)) # ...or we can very explicitly make an integer a float by writing float(some_integer)\n",
    "print(42 + 0.0) # Adding an int to a float produces a float."
   ]
  },
  {
   "cell_type": "markdown",
   "metadata": {},
   "source": [
    "### The type `str`\n",
    "\n",
    "The data type `str` can hold text. We can make a string by enclosing text in either quote marks `\"` or single quote marks `'`. Use whichever you please, except note that if you want to have quote marks in your string itself, then you should use the other kind to enclose the string.\n",
    "\n",
    "It also turns out we can \"add\" strings. What this will actually do is concatenate them."
   ]
  },
  {
   "cell_type": "code",
   "execution_count": null,
   "metadata": {
    "collapsed": false
   },
   "outputs": [],
   "source": [
    "print(\"'42'\") # Use double quotes if you need to print single quotes\n",
    "print('\"42\"') # Use single quotes if you need to print double quotes\n",
    "print( '~4' + '2~' ) # Concatenate strings. (The tildes aren't meaningful, just for decoration.)"
   ]
  },
  {
   "cell_type": "markdown",
   "metadata": {},
   "source": [
    "### Converting between types\n",
    "\n",
    "Recall we could convert the `int` `42` to the `float` `42.0` by writing `float(42)`. In fact, we can convert between all the types `int`, `float`, and `str` pretty readily using the same notation. Everything works pretty much how you'd want it to. We'll give some examples.\n",
    "\n",
    "A great reason to convert to `str` is so you can use the `+` to concatenate. "
   ]
  },
  {
   "cell_type": "code",
   "execution_count": null,
   "metadata": {
    "collapsed": false
   },
   "outputs": [],
   "source": [
    "print(str(42) + \" \" + str(42.0))\n",
    "print(int(42.1)) # Converting from `float` to `int` throws away the decimal part\n",
    "print(int(\"42\")) # We can read an `int` from a string. Useful if you are reading numbers from a file.\n",
    "print(float(\"42.0\")) # We can read a `float` from a string. Useful if you are reading numbers from a file.\n",
    "print(float(\"infinity\")) # By the way, \"infinity\" (or, \"inf\") is representable as a floating point number\n",
    "print(1.0 / float(\"inf\")) # And it's totally willing to let you divide numbers by infinity to get zero.\n",
    "print(float(\"inf\") / float(\"inf\")) # but infinity/infinity is indeterminate form, so \"nan\" for not-a-number"
   ]
  },
  {
   "cell_type": "markdown",
   "metadata": {},
   "source": [
    "Here's a couple examples of some invalid conversions: i.e. (errors)"
   ]
  },
  {
   "cell_type": "code",
   "execution_count": null,
   "metadata": {
    "collapsed": true
   },
   "outputs": [],
   "source": [
    "# print(42 + \" \")  ## Error! Can't add an `int` and a `str` (so we commented it out with a #)\n",
    "# print(int(\"Hello, world!\")) # Error! It can't figure out how to convert non-numeric text to an integer."
   ]
  },
  {
   "cell_type": "markdown",
   "metadata": {},
   "source": [
    "### The type `list`\n",
    "\n",
    "The type `list` is incredibly useful. It allows us to store a finite ordered sequence of items. The syntax is very simple: we enclose the list in square brackets \"`[`\" and \"`]`\" and we delimit the items with commas. List items can be data types we please, even lists themselves. \n",
    "\n",
    "* We can \"add\" lists with `+` -- just like strings, this results in concatenation.\n",
    "* We can access the items in a list using an array-index notation `x[i]`. Indexing starts at 0.\n",
    "\n",
    "Examples:"
   ]
  },
  {
   "cell_type": "code",
   "execution_count": null,
   "metadata": {
    "collapsed": false
   },
   "outputs": [],
   "source": [
    "print([4] + [2])\n",
    "print([[4]] + [2])\n",
    "print([0,1,42,[\"hello\",\"world\"]][2]) # "
   ]
  },
  {
   "cell_type": "markdown",
   "metadata": {},
   "source": [
    "# Variables\n",
    "\n",
    "So far all the data we've written has been \"literal\". This means we have written down raw numbers, strings, lists, whatever.\n",
    "\n",
    "Rather than continuing to do this we will now create a variable. This is a symbol we make up to store data. We assign data to a variable using the \"assignment operator\" `=`.\n"
   ]
  },
  {
   "cell_type": "code",
   "execution_count": null,
   "metadata": {
    "collapsed": false
   },
   "outputs": [],
   "source": [
    "x = 42\n",
    "print(x)\n",
    "print(type(x))\n",
    "\n",
    "x = 42.0\n",
    "print(x)\n",
    "print(type(x))\n",
    "\n",
    "x = \"42\"\n",
    "print(x)\n",
    "print(type(x))\n",
    "\n",
    "x = [4,2]\n",
    "print(x)\n",
    "print(type(x))"
   ]
  },
  {
   "cell_type": "markdown",
   "metadata": {},
   "source": [
    "# Array access and the Slice Operator\n",
    "\n",
    "Given a list, we may want to access its elements in non-trivial ways. There is a very neat way of doing this in Python. "
   ]
  },
  {
   "cell_type": "code",
   "execution_count": null,
   "metadata": {
    "collapsed": true
   },
   "outputs": [],
   "source": [
    "example = [0,1,2,3,4,5,6,7]"
   ]
  },
  {
   "cell_type": "markdown",
   "metadata": {},
   "source": [
    "The `len` function gives us the length of a list:"
   ]
  },
  {
   "cell_type": "code",
   "execution_count": null,
   "metadata": {
    "collapsed": false
   },
   "outputs": [],
   "source": [
    "print(len(example))  "
   ]
  },
  {
   "cell_type": "markdown",
   "metadata": {},
   "source": [
    "The array access `[]` operator lets us read the ith element. \n",
    "Indexing starts at 0, so, for example, index 4 is the 5th item in the list"
   ]
  },
  {
   "cell_type": "code",
   "execution_count": null,
   "metadata": {
    "collapsed": false
   },
   "outputs": [],
   "source": [
    "print(example[4])         "
   ]
  },
  {
   "cell_type": "markdown",
   "metadata": {},
   "source": [
    "Rather than accessing single elements we retrieve sublists using the so-called _slice operator_ `:`.\n",
    "In particular `example[m:n]` will retrieve elements `m`, `m+1`, ..., `n-1`. It does _not_ retrieve `n` -- this is the convention. (It might not be immediately obvious why the language chose this convention; the idea is that indexing starts at `0` and this is the convention we need to that the notation `0:n` gets the first `n` elements.)"
   ]
  },
  {
   "cell_type": "code",
   "execution_count": null,
   "metadata": {
    "collapsed": false
   },
   "outputs": [],
   "source": [
    "print(example[0:3]) # retrieve elements 0, 1, 2"
   ]
  },
  {
   "cell_type": "code",
   "execution_count": null,
   "metadata": {
    "collapsed": false
   },
   "outputs": [],
   "source": [
    "print(example[2:5]) # retrieve elements 2, 3, 4"
   ]
  },
  {
   "cell_type": "code",
   "execution_count": null,
   "metadata": {
    "collapsed": false
   },
   "outputs": [],
   "source": [
    "print(example[5:len(example)])"
   ]
  },
  {
   "cell_type": "markdown",
   "metadata": {},
   "source": [
    "Actually, if we start with `0` we are allowed to omit that. And if we end with `len(example)` we can omit that as well:"
   ]
  },
  {
   "cell_type": "code",
   "execution_count": null,
   "metadata": {
    "collapsed": false
   },
   "outputs": [],
   "source": [
    "print(example[:3]) # 0, 1, 2\n",
    "print(example[5:]) # 5, 6, 7"
   ]
  },
  {
   "cell_type": "markdown",
   "metadata": {},
   "source": [
    "A very neat trick is that we can use negative numbers. It will interpret them as counting backwards from the right-hand end:"
   ]
  },
  {
   "cell_type": "code",
   "execution_count": null,
   "metadata": {
    "collapsed": false
   },
   "outputs": [],
   "source": [
    "print(example[-1]) # print last item"
   ]
  },
  {
   "cell_type": "code",
   "execution_count": null,
   "metadata": {
    "collapsed": false
   },
   "outputs": [],
   "source": [
    "print(example[1:])   # print everything but first item 0.\n",
    "print(example[:-1])  # print everything but last item 7.\n",
    "print(example[1:-2]) # print everything but the first item 0 and the last two items 6,7\n",
    "print(example[:])    # print everything"
   ]
  },
  {
   "cell_type": "markdown",
   "metadata": {},
   "source": [
    "We could also omit all the numbers and just have a lone `:`. This would just retrieve all the entries. This ends up being useful for making copies. "
   ]
  },
  {
   "cell_type": "markdown",
   "metadata": {},
   "source": [
    "# Copying variables \n",
    "\n",
    "**This part is a little tougher to get at first, so skip and and come back later if you want.**\n",
    "\n",
    "Now that we have variables we might naturally assume we can make copies of our data by writing statements like\n",
    "\n",
    "    y = x\n",
    "    \n",
    "This often works fine with no problems. It will work, in particular, when `x` is either an `int`, `float`, or `str`. But if `x` is a `list`, then we run into what is called the \"shallow copy problem.\" What happens is that `y` isn't a true copy, but just another name for whatever `x` refers to. So if we change `y`, we will inadvertantly change `x`. (The reason this doesn't happen for `int`, `float`, or `str` is subtle and has to do with the fact they are something called immutable types. The bottom line is that the shallow copy problem affects complicated data and not simple data.) Let's see an example:"
   ]
  },
  {
   "cell_type": "code",
   "execution_count": null,
   "metadata": {
    "collapsed": false
   },
   "outputs": [],
   "source": [
    "print(\"int copy example:\")\n",
    "x = 42\n",
    "y = x\n",
    "y += 1\n",
    "print(\"x == \" + str(x))\n",
    "print(\"y == \" + str(y))\n",
    "print('')\n",
    "\n",
    "print(\"float copy example:\")\n",
    "x = 42.0\n",
    "y = x\n",
    "y += 1\n",
    "print(\"x == \" + str(x))\n",
    "print(\"y == \" + str(y))\n",
    "print('')\n",
    "\n",
    "\n",
    "print(\"str copy example:\")\n",
    "x = \"hello\"\n",
    "y = x\n",
    "y += '!'\n",
    "print(\"x == \" + str(x))\n",
    "print(\"y == \" + str(y))\n",
    "print('')\n",
    "\n",
    "print(\"list copy example: (done wrong!)\")\n",
    "x = [4,2]\n",
    "y = x\n",
    "y += ['!']\n",
    "print(\"x == \" + str(x))\n",
    "print(\"y == \" + str(y))\n",
    "print('')"
   ]
  },
  {
   "cell_type": "markdown",
   "metadata": {},
   "source": [
    "The `print('')` lines make the output look at little cleaner so we can see the four cases separately.\n",
    "\n",
    "In the first three cases with `int`, `float` and `str`, everything works as we might expect. We set a variable `x`, we copy it to `y`, we alter `y`, and then we print them both and two different values printed.\n",
    "\n",
    "But in the case of `list`, we ended up printing the same thing for both `x` and `y`. This means that when we changed `y` by appending the `'!'` string to the list, _we apparently changed the original variable `x` as well_. \n",
    "\n",
    "To fix this problem (assuming this isn't what we intended) we want to do an actual copy. If the list contains only simple objects like `int`, `float`, and `str` then the following \"shallow copy\" (one level deep) works:"
   ]
  },
  {
   "cell_type": "code",
   "execution_count": null,
   "metadata": {
    "collapsed": false
   },
   "outputs": [],
   "source": [
    "print(\"list copy example: (shallow copying)\")\n",
    "x = [42, 42.0, \"42\"]\n",
    "y = x[:]  # The [:] tells it to copy all the items of x to a new list\n",
    "y [2] = \"42!\"\n",
    "print(\"x == \" + str(x))\n",
    "print(\"y == \" + str(y))\n",
    "print('')"
   ]
  },
  {
   "cell_type": "markdown",
   "metadata": {},
   "source": [
    "Seems to work. But if the list contained more complicated items, such as another list, this could still fail. For example:"
   ]
  },
  {
   "cell_type": "code",
   "execution_count": null,
   "metadata": {
    "collapsed": false
   },
   "outputs": [],
   "source": [
    "print(\"list copy example: (shallow copying when deep copy required)\")\n",
    "x = [4,2,[4,2]]\n",
    "y = x[:]  # The [:] tells it to copy all the items of x to a new list\n",
    "y[2][1] = 1\n",
    "print(\"x == \" + str(x))\n",
    "print(\"y == \" + str(y))\n",
    "print('')"
   ]
  },
  {
   "cell_type": "markdown",
   "metadata": {},
   "source": [
    "The solution to this problem is maybe harder than you might think since in theory I could nest lists as deeply as I wanted to. (And even more esoteric data structures you don't know about yet.) But there is a simple solution that is worked out, in the form of a \"deepcopy\" function that is available in a standard Python module called \"copy.\" Here is how it is used:"
   ]
  },
  {
   "cell_type": "code",
   "execution_count": null,
   "metadata": {
    "collapsed": false
   },
   "outputs": [],
   "source": [
    "from copy import deepcopy\n",
    "\n",
    "print(\"list copy example: (deep copy)\")\n",
    "x = [4,2,[4,2]]\n",
    "y = deepcopy(x)  # Call the \"deepcopy\" function \n",
    "y[2][1] = 1\n",
    "print(\"x == \" + str(x))\n",
    "print(\"y == \" + str(y))\n",
    "print('')"
   ]
  },
  {
   "cell_type": "markdown",
   "metadata": {},
   "source": [
    "# UNDER CONSTRUCTION"
   ]
  },
  {
   "cell_type": "markdown",
   "metadata": {},
   "source": [
    "## More Types\n",
    "\n",
    "* `bool`\n",
    "* `dict`\n",
    "* `set`\n",
    "* classes\n"
   ]
  },
  {
   "cell_type": "markdown",
   "metadata": {},
   "source": [
    "# Control Flow"
   ]
  },
  {
   "cell_type": "markdown",
   "metadata": {},
   "source": [
    "## `if` statements"
   ]
  },
  {
   "cell_type": "markdown",
   "metadata": {},
   "source": [
    "## `for` loops"
   ]
  },
  {
   "cell_type": "markdown",
   "metadata": {},
   "source": [
    "# Functions"
   ]
  },
  {
   "cell_type": "markdown",
   "metadata": {},
   "source": [
    "# Comprehensions"
   ]
  },
  {
   "cell_type": "code",
   "execution_count": null,
   "metadata": {
    "collapsed": true
   },
   "outputs": [],
   "source": []
  }
 ],
 "metadata": {
  "anaconda-cloud": {},
  "celltoolbar": "Raw Cell Format",
  "kernelspec": {
   "display_name": "Python [conda root]",
   "language": "python",
   "name": "conda-root-py"
  },
  "language_info": {
   "codemirror_mode": {
    "name": "ipython",
    "version": 2
   },
   "file_extension": ".py",
   "mimetype": "text/x-python",
   "name": "python",
   "nbconvert_exporter": "python",
   "pygments_lexer": "ipython2",
   "version": "2.7.12"
  }
 },
 "nbformat": 4,
 "nbformat_minor": 1
}
