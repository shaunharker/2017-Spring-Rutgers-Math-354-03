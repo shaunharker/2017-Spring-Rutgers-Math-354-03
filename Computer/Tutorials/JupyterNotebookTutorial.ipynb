{
 "cells": [
  {
   "cell_type": "markdown",
   "metadata": {},
   "source": [
    "# Jupyter Notebook Tutorial"
   ]
  },
  {
   "cell_type": "markdown",
   "metadata": {},
   "source": [
    "\n",
    "## Overview \n",
    "\n",
    "What you are currently looking at is called a \"Jupyter Notebook\".\n",
    "It consists of a sequence of executable \"cells.\"\n",
    "There are two types of cells we are concerned with: \n",
    "\n",
    "* Markdown cells\n",
    "* Code cells\n",
    "\n",
    "_Markdown cells_ contain text. For example, the text you are reading right now is in a markdown cell.\n",
    "Markdown is a fairly simple markup language for adding features to text such as headings, lists, hyperlinks, etc. The name is based on a pun: mark**down** instead of mark**up**. It can easily be learned by example. We'll take a deeper look later.\n",
    "\n",
    "_Code cells_ contain computer code. Jupyter Notebooks can support several coding languages, but only one for a given notebook. \n",
    "\n",
    "By interspering text and code, it is possible to put together very nice demos and explanations. This is becoming a very popular format.\n",
    "\n",
    "### Why Python?\n",
    "\n",
    "In this class we will use the Python language. The reason for this choice is threefold:\n",
    "\n",
    "* First, it is extremely popular and a very nice language. (Trust me. I know like, oh, seven languages? This is easily the nicest one.) \n",
    "* Second, I expect knowledge of Python will be in demand in the job market due to the explosion of machine learning applications. People writing machine learning code are using Python as their interface. So having \"Familiar with Python\" on your resume is not a bad idea.\n",
    "* Finally, it is possible to get access to cloud computing with Python extremely cheaply (e.g. <https://www.pythonanywhere.com>). Or you could install it on your own computer for _free_ since everything is open-sourced.\n"
   ]
  },
  {
   "cell_type": "markdown",
   "metadata": {},
   "source": [
    "## Jupyter Notebooks\n",
    "\n",
    "The most important things to know are:\n",
    "\n",
    "* How to save\n",
    "* How to rename a notebook\n",
    "* How to edit cells\n",
    "* How to delete a cell\n",
    "* How to add a cell\n",
    "* How to execute cells\n",
    "* Executing cells out of order can give unexpected results\n",
    "* Doing a clean run: Kernel Restart & Run All\n",
    "\n",
    "### How to save\n",
    "\n",
    "To save, click the \"disk\" icon. Hopefully people are old enough to remember that that's what floppy disks looked like :).\n",
    "\n",
    "The Jupyter Program will autosave on occasion, but I wouldn't put complete trust in that. I recommend saving often. Just click the disk icon every couple minutes or so. \n",
    "\n",
    "### How to rename a notebook\n",
    "\n",
    "In some cases you will want to rename before you save. This can be accomplished by clicking on the name of the notebook at the top of the screen. It will let you rename it.\n",
    "\n",
    "### How to edit cells\n",
    "\n",
    "* To edit a markdown cell, double click on it. It will change from being nicely typeset to showing you all the markdown notation. \n",
    "* To edit a code cell, single click on it.\n",
    "* If you want to change the type of a cell from markdown to code, or vice-versa, click on the cell, and then go to the drop-down menu that says either \"Markdown\" or \"Code\" and switch it to the other.\n",
    "\n",
    "### How to delete a cell\n",
    "\n",
    "Click on the cell, then click the scissors icon in the toolbar. \n",
    "\n",
    "### How to add a cell\n",
    "\n",
    "Click on the cell right before where you want to put a new cell. Then click the `+` icon in the toolbar.\n",
    "\n",
    "### How to execute cells\n",
    "\n",
    "* To execute a single cell, click on it, and then type `shift-enter`. That means to hold shift as you press enter. The reason for the `shift` is because `enter` alone will just insert a newline character (i.e. go to the next line) rather than executing the cells. This is because the cells can hold multiline content.\n",
    "* To execute many cells, either (a) Click `Cell` in the menu and `Run All`, or (b) Click `Kernel` in the menu and `Restart & Run All`. I tend to prefer the latter because it ensures a clean run each time.\n",
    "\n",
    "### Executing cells out of order can give unexpected results\n",
    "\n",
    "If you were to go around the notebook hitting shift-enter all willy-nilly out-of-order, you could get some funky results. This is because a notebook probably expects to be executed linearly, from top to bottom. If you ever get confusing output, and you've been tinkering, changing cells and rerunning them, and then moved above and ran something again but it somehow breaks, this is what you should suspect. The solution is to re-run the notebook from top to bottom. \n",
    "\n",
    "### Doing a clean run: Kernel Restart & Run All\n",
    "\n",
    "To rerun the notebook, click on the \"Kernel\" menu item, and click `Restart & Run All`.\n",
    "This is useful in two situations. First, if you have been executing cells out of order and want to do a fresh run. Second, sometimes the kernel can die. In this case you need to restart it. In a worst case scenario this might not work. In this case refresh the browser.\n",
    "\n",
    "Remember, to ensure you do not lose work **SAVE OFTEN**.\n"
   ]
  }
 ],
 "metadata": {
  "anaconda-cloud": {},
  "celltoolbar": "Raw Cell Format",
  "kernelspec": {
   "display_name": "Python [conda root]",
   "language": "python",
   "name": "conda-root-py"
  },
  "language_info": {
   "codemirror_mode": {
    "name": "ipython",
    "version": 2
   },
   "file_extension": ".py",
   "mimetype": "text/x-python",
   "name": "python",
   "nbconvert_exporter": "python",
   "pygments_lexer": "ipython2",
   "version": "2.7.12"
  }
 },
 "nbformat": 4,
 "nbformat_minor": 1
}
