{
 "cells": [
  {
   "cell_type": "markdown",
   "metadata": {},
   "source": [
    "# Markdown/Latex Tutorial"
   ]
  },
  {
   "cell_type": "markdown",
   "metadata": {},
   "source": [
    "## Markdown Basics\n",
    "\n",
    "Markdown is fairly straightforward. I recommend playing with <http://www.markdowntutorial.com/lesson/1/> for a nice little interactive introduction. It really is very quick to pick up by example. Very readily we can do headings, italics, bold text, lists, numbered lists, and quotes.\n",
    "\n",
    "To see the markdown underlying this cell, double click on it. To see it rendered again, hit `shift-enter`.\n",
    "\n",
    "I give some example text showing the various capabilities now:\n",
    "\n",
    "Bold header text is achieved by starting a line with `#`. For deeper levels of organization use multiple `#` marks, e.g. `##`, `###`, `####`.\n",
    "\n",
    "# Header 1\n",
    "\n",
    "## Header 2\n",
    "\n",
    "### Header 3\n",
    "\n",
    "#### Header 4\n",
    "\n",
    "##### Header 5\n",
    "\n",
    "\n",
    "Here is a list:\n",
    "\n",
    "* This is in _italics_. \n",
    "* This is in **bold**. \n",
    "* This is both _**bold and in italics**_.\n",
    "\n",
    "Here is a _numbered_ list:\n",
    "\n",
    "1. One!\n",
    "2. Two!\n",
    "3. Three!\n",
    "\n",
    "Here is a list with a sublist:\n",
    "\n",
    "* top level list item 1\n",
    "  * nested list item 1\n",
    "  * nested list item 2\n",
    "* top level list item 2\n",
    "  * nested list item 3\n",
    "  * nested list item 4\n",
    "  \n",
    "Here is a quote:\n",
    "\n",
    "> “If trees could scream, would we be so cavalier about cutting them down? We might, if they screamed all the time, for no good reason.” -Jack Handy, Deep Thoughts\n",
    "\n",
    "That's the main bag of tricks. But we have a little more available to us. \n",
    "\n"
   ]
  },
  {
   "cell_type": "markdown",
   "metadata": {},
   "source": [
    "### Including code snippets in Markdown\n",
    "\n",
    "We can include \"code\" in the Markdown -- to show it, rather than to run it. \n",
    "\n",
    "Usually when code is presented it is \"syntax highlighted.\" This means that various keywords and comments get a different color so that the code is easier to read. Different languages will get different syntax highlighting of course. We'll stick with Python. Here is an example:\n",
    "\n",
    "**You do not have to understand this code right now. It is to illustrate how to exhibit a code snippet in a markdown cell only.**\n",
    "\n",
    "```python\n",
    "  def transitive_closure(self):\n",
    "    \"\"\" Return a new graph which is the transitive closure \"\"\"\n",
    "    G = self.clone ()\n",
    "    for w in self.vertices():\n",
    "      for u in self.vertices():\n",
    "        for v in self.vertices():\n",
    "          if w in G.adjacencies(u) and v in G.adjacencies(w):\n",
    "            G . add_edge(u,v)\n",
    "    return G\n",
    "```\n",
    "\n",
    "Again, this code is not executable; it's part of the markdown cell, purely for presentation purposes only. \n",
    "\n",
    "We can also have inline code if we enclose something in single \\` marks. Like `this`."
   ]
  },
  {
   "cell_type": "markdown",
   "metadata": {},
   "source": [
    "### Including Latex mathematical typesetting in Markdown\n",
    "\n",
    "A very nice extension to Markdown that is quite common is to allow mathematical notation to be rendered. The language this is done in is called $\\LaTeX$. This is a \"typesetting\" language. There is lots to know about Latex, but we'll content ourselves with a few simple examples.\n",
    "\n",
    "First, we can have inline equations if we include an expression in single `$` marks. For example: $x^2 + y^2 = z^2$. \n",
    "\n",
    "We can also have equations on their own line. To do this we enclose it with doubled `$$` marks:\n",
    "\n",
    "$$ \\sum_{i=1}^n i = \\frac{n^2 + n}{2}. $$\n",
    "\n",
    "We can write matrices in Latex, of course. (Anything you want to write in latex, you can just google how.)\n",
    "\n",
    "$$ A =  \\begin{bmatrix} \\theta & \\int_0^3 x^2 dx \\\\ -7 & \\sin \\phi \\end{bmatrix} $$\n",
    "\n",
    "Remember, just double click on this cell to see the cell contents to see how this was done, and hit `shift-enter` to render it again."
   ]
  }
 ],
 "metadata": {
  "anaconda-cloud": {},
  "celltoolbar": "Raw Cell Format",
  "kernelspec": {
   "display_name": "Python [conda root]",
   "language": "python",
   "name": "conda-root-py"
  },
  "language_info": {
   "codemirror_mode": {
    "name": "ipython",
    "version": 2
   },
   "file_extension": ".py",
   "mimetype": "text/x-python",
   "name": "python",
   "nbconvert_exporter": "python",
   "pygments_lexer": "ipython2",
   "version": "2.7.12"
  }
 },
 "nbformat": 4,
 "nbformat_minor": 1
}
